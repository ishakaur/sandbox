{
 "cells": [
  {
   "cell_type": "markdown",
   "metadata": {},
   "source": [
    "<p>\n",
    "Homework: https://work.caltech.edu/homework/hw6.pdf\n",
    "<p>\n",
    "\n",
    "&#x2714;\n",
    "Answers:\n",
    "1. b &#x2714;\n",
    "2. a &#x2714;\n",
    "3. d &#x2714;\n",
    "4. e &#x2714;\n",
    "5. d &#x2714;\n",
    "6. b &#x2714;\n",
    "7. c &#x2714;\n",
    "8. e --> d\n",
    "9. a &#x2714;\n",
    "10. c --> e\n",
    "\n",
    "<p>\n",
    "Answer key: https://work.caltech.edu/homework/hw6_sol.pdf"
   ]
  },
  {
   "cell_type": "code",
   "execution_count": 1,
   "metadata": {
    "collapsed": true
   },
   "outputs": [],
   "source": [
    "import pandas as pd\n",
    "import numpy as np\n",
    "import matplotlib.pyplot as plt\n",
    "%matplotlib inline\n",
    "from IPython.display import display"
   ]
  },
  {
   "cell_type": "code",
   "execution_count": 2,
   "metadata": {
    "collapsed": false
   },
   "outputs": [
    {
     "data": {
      "text/html": [
       "<div>\n",
       "<table border=\"1\" class=\"dataframe\">\n",
       "  <thead>\n",
       "    <tr style=\"text-align: right;\">\n",
       "      <th></th>\n",
       "      <th>0</th>\n",
       "      <th>1</th>\n",
       "      <th>2</th>\n",
       "    </tr>\n",
       "  </thead>\n",
       "  <tbody>\n",
       "    <tr>\n",
       "      <th>0</th>\n",
       "      <td>-0.779470</td>\n",
       "      <td>0.838221</td>\n",
       "      <td>1</td>\n",
       "    </tr>\n",
       "    <tr>\n",
       "      <th>1</th>\n",
       "      <td>0.155635</td>\n",
       "      <td>0.895377</td>\n",
       "      <td>1</td>\n",
       "    </tr>\n",
       "    <tr>\n",
       "      <th>2</th>\n",
       "      <td>-0.059908</td>\n",
       "      <td>-0.717780</td>\n",
       "      <td>1</td>\n",
       "    </tr>\n",
       "    <tr>\n",
       "      <th>3</th>\n",
       "      <td>0.207596</td>\n",
       "      <td>0.758933</td>\n",
       "      <td>1</td>\n",
       "    </tr>\n",
       "    <tr>\n",
       "      <th>4</th>\n",
       "      <td>-0.195983</td>\n",
       "      <td>-0.375487</td>\n",
       "      <td>-1</td>\n",
       "    </tr>\n",
       "  </tbody>\n",
       "</table>\n",
       "</div>"
      ],
      "text/plain": [
       "          0         1  2\n",
       "0 -0.779470  0.838221  1\n",
       "1  0.155635  0.895377  1\n",
       "2 -0.059908 -0.717780  1\n",
       "3  0.207596  0.758933  1\n",
       "4 -0.195983 -0.375487 -1"
      ]
     },
     "metadata": {},
     "output_type": "display_data"
    },
    {
     "data": {
      "text/html": [
       "<div>\n",
       "<table border=\"1\" class=\"dataframe\">\n",
       "  <thead>\n",
       "    <tr style=\"text-align: right;\">\n",
       "      <th></th>\n",
       "      <th>0</th>\n",
       "      <th>1</th>\n",
       "      <th>2</th>\n",
       "    </tr>\n",
       "  </thead>\n",
       "  <tbody>\n",
       "    <tr>\n",
       "      <th>0</th>\n",
       "      <td>-0.106006</td>\n",
       "      <td>-0.081467</td>\n",
       "      <td>-1</td>\n",
       "    </tr>\n",
       "    <tr>\n",
       "      <th>1</th>\n",
       "      <td>0.177930</td>\n",
       "      <td>-0.345951</td>\n",
       "      <td>-1</td>\n",
       "    </tr>\n",
       "    <tr>\n",
       "      <th>2</th>\n",
       "      <td>0.102162</td>\n",
       "      <td>0.718258</td>\n",
       "      <td>1</td>\n",
       "    </tr>\n",
       "    <tr>\n",
       "      <th>3</th>\n",
       "      <td>0.694078</td>\n",
       "      <td>0.623397</td>\n",
       "      <td>-1</td>\n",
       "    </tr>\n",
       "    <tr>\n",
       "      <th>4</th>\n",
       "      <td>0.023541</td>\n",
       "      <td>0.727432</td>\n",
       "      <td>1</td>\n",
       "    </tr>\n",
       "  </tbody>\n",
       "</table>\n",
       "</div>"
      ],
      "text/plain": [
       "          0         1  2\n",
       "0 -0.106006 -0.081467 -1\n",
       "1  0.177930 -0.345951 -1\n",
       "2  0.102162  0.718258  1\n",
       "3  0.694078  0.623397 -1\n",
       "4  0.023541  0.727432  1"
      ]
     },
     "metadata": {},
     "output_type": "display_data"
    }
   ],
   "source": [
    "# Questions 2 through 6\n",
    "# training set: http://work.caltech.edu/data/in.dta\n",
    "# test set: http://work.caltech.edu/data/out.dta\n",
    "train = pd.read_fwf('http://work.caltech.edu/data/in.dta', header=None)\n",
    "test = pd.read_fwf('http://work.caltech.edu/data/out.dta', header=None)\n",
    "display(train.head())\n",
    "display(test.head())"
   ]
  },
  {
   "cell_type": "code",
   "execution_count": 3,
   "metadata": {
    "collapsed": false
   },
   "outputs": [],
   "source": [
    "train_x = train.iloc[:, :2]\n",
    "train_y = train.iloc[:, 2]\n",
    "test_x = test.iloc[:, :2]\n",
    "test_y = test.iloc[:, 2]"
   ]
  },
  {
   "cell_type": "code",
   "execution_count": 4,
   "metadata": {
    "collapsed": false
   },
   "outputs": [
    {
     "data": {
      "text/html": [
       "<div>\n",
       "<table border=\"1\" class=\"dataframe\">\n",
       "  <thead>\n",
       "    <tr style=\"text-align: right;\">\n",
       "      <th></th>\n",
       "      <th>0</th>\n",
       "      <th>1</th>\n",
       "      <th>2</th>\n",
       "      <th>3</th>\n",
       "      <th>4</th>\n",
       "      <th>5</th>\n",
       "      <th>6</th>\n",
       "      <th>7</th>\n",
       "    </tr>\n",
       "  </thead>\n",
       "  <tbody>\n",
       "    <tr>\n",
       "      <th>0</th>\n",
       "      <td>1</td>\n",
       "      <td>-0.779470</td>\n",
       "      <td>0.838221</td>\n",
       "      <td>0.607574</td>\n",
       "      <td>0.702615</td>\n",
       "      <td>-0.653369</td>\n",
       "      <td>1.617692</td>\n",
       "      <td>0.058751</td>\n",
       "    </tr>\n",
       "    <tr>\n",
       "      <th>1</th>\n",
       "      <td>1</td>\n",
       "      <td>0.155635</td>\n",
       "      <td>0.895377</td>\n",
       "      <td>0.024222</td>\n",
       "      <td>0.801701</td>\n",
       "      <td>0.139352</td>\n",
       "      <td>0.739743</td>\n",
       "      <td>1.051012</td>\n",
       "    </tr>\n",
       "    <tr>\n",
       "      <th>2</th>\n",
       "      <td>1</td>\n",
       "      <td>-0.059908</td>\n",
       "      <td>-0.717780</td>\n",
       "      <td>0.003589</td>\n",
       "      <td>0.515208</td>\n",
       "      <td>0.043001</td>\n",
       "      <td>0.657872</td>\n",
       "      <td>0.777688</td>\n",
       "    </tr>\n",
       "    <tr>\n",
       "      <th>3</th>\n",
       "      <td>1</td>\n",
       "      <td>0.207596</td>\n",
       "      <td>0.758933</td>\n",
       "      <td>0.043096</td>\n",
       "      <td>0.575980</td>\n",
       "      <td>0.157552</td>\n",
       "      <td>0.551337</td>\n",
       "      <td>0.966530</td>\n",
       "    </tr>\n",
       "    <tr>\n",
       "      <th>4</th>\n",
       "      <td>1</td>\n",
       "      <td>-0.195983</td>\n",
       "      <td>-0.375487</td>\n",
       "      <td>0.038409</td>\n",
       "      <td>0.140991</td>\n",
       "      <td>0.073589</td>\n",
       "      <td>0.179504</td>\n",
       "      <td>0.571470</td>\n",
       "    </tr>\n",
       "  </tbody>\n",
       "</table>\n",
       "</div>"
      ],
      "text/plain": [
       "   0         1         2         3         4         5         6         7\n",
       "0  1 -0.779470  0.838221  0.607574  0.702615 -0.653369  1.617692  0.058751\n",
       "1  1  0.155635  0.895377  0.024222  0.801701  0.139352  0.739743  1.051012\n",
       "2  1 -0.059908 -0.717780  0.003589  0.515208  0.043001  0.657872  0.777688\n",
       "3  1  0.207596  0.758933  0.043096  0.575980  0.157552  0.551337  0.966530\n",
       "4  1 -0.195983 -0.375487  0.038409  0.140991  0.073589  0.179504  0.571470"
      ]
     },
     "execution_count": 4,
     "metadata": {},
     "output_type": "execute_result"
    }
   ],
   "source": [
    "def transform(x):\n",
    "    x1 = x.iloc[:, 0]\n",
    "    x2 = x.iloc[:, 1]\n",
    "    \n",
    "    z = pd.DataFrame(np.ones(len(x)))\n",
    "    z.loc[:, 1] = x1\n",
    "    z.loc[:, 2] = x2\n",
    "    z.loc[:, 3] = x1 ** 2\n",
    "    z.loc[:, 4] = x2 ** 2\n",
    "    z.loc[:, 5] = x1 * x2\n",
    "    z.loc[:, 6] = np.abs(x1 - x2)\n",
    "    z.loc[:, 7] = np.abs(x1 + x2)\n",
    "    return z\n",
    "\n",
    "train_z = transform(train_x)\n",
    "train_z.head()"
   ]
  },
  {
   "cell_type": "code",
   "execution_count": 5,
   "metadata": {
    "collapsed": false
   },
   "outputs": [
    {
     "data": {
      "text/html": [
       "<div>\n",
       "<table border=\"1\" class=\"dataframe\">\n",
       "  <thead>\n",
       "    <tr style=\"text-align: right;\">\n",
       "      <th></th>\n",
       "      <th>0</th>\n",
       "      <th>1</th>\n",
       "      <th>2</th>\n",
       "      <th>3</th>\n",
       "      <th>4</th>\n",
       "      <th>5</th>\n",
       "      <th>6</th>\n",
       "      <th>7</th>\n",
       "    </tr>\n",
       "  </thead>\n",
       "  <tbody>\n",
       "    <tr>\n",
       "      <th>0</th>\n",
       "      <td>1</td>\n",
       "      <td>-0.106006</td>\n",
       "      <td>-0.081467</td>\n",
       "      <td>0.011237</td>\n",
       "      <td>0.006637</td>\n",
       "      <td>0.008636</td>\n",
       "      <td>0.024539</td>\n",
       "      <td>0.187473</td>\n",
       "    </tr>\n",
       "    <tr>\n",
       "      <th>1</th>\n",
       "      <td>1</td>\n",
       "      <td>0.177930</td>\n",
       "      <td>-0.345951</td>\n",
       "      <td>0.031659</td>\n",
       "      <td>0.119682</td>\n",
       "      <td>-0.061555</td>\n",
       "      <td>0.523881</td>\n",
       "      <td>0.168022</td>\n",
       "    </tr>\n",
       "    <tr>\n",
       "      <th>2</th>\n",
       "      <td>1</td>\n",
       "      <td>0.102162</td>\n",
       "      <td>0.718258</td>\n",
       "      <td>0.010437</td>\n",
       "      <td>0.515895</td>\n",
       "      <td>0.073378</td>\n",
       "      <td>0.616097</td>\n",
       "      <td>0.820420</td>\n",
       "    </tr>\n",
       "    <tr>\n",
       "      <th>3</th>\n",
       "      <td>1</td>\n",
       "      <td>0.694078</td>\n",
       "      <td>0.623397</td>\n",
       "      <td>0.481745</td>\n",
       "      <td>0.388624</td>\n",
       "      <td>0.432687</td>\n",
       "      <td>0.070681</td>\n",
       "      <td>1.317476</td>\n",
       "    </tr>\n",
       "    <tr>\n",
       "      <th>4</th>\n",
       "      <td>1</td>\n",
       "      <td>0.023541</td>\n",
       "      <td>0.727432</td>\n",
       "      <td>0.000554</td>\n",
       "      <td>0.529158</td>\n",
       "      <td>0.017125</td>\n",
       "      <td>0.703891</td>\n",
       "      <td>0.750973</td>\n",
       "    </tr>\n",
       "  </tbody>\n",
       "</table>\n",
       "</div>"
      ],
      "text/plain": [
       "   0         1         2         3         4         5         6         7\n",
       "0  1 -0.106006 -0.081467  0.011237  0.006637  0.008636  0.024539  0.187473\n",
       "1  1  0.177930 -0.345951  0.031659  0.119682 -0.061555  0.523881  0.168022\n",
       "2  1  0.102162  0.718258  0.010437  0.515895  0.073378  0.616097  0.820420\n",
       "3  1  0.694078  0.623397  0.481745  0.388624  0.432687  0.070681  1.317476\n",
       "4  1  0.023541  0.727432  0.000554  0.529158  0.017125  0.703891  0.750973"
      ]
     },
     "execution_count": 5,
     "metadata": {},
     "output_type": "execute_result"
    }
   ],
   "source": [
    "test_z = transform(test_x)\n",
    "test_z.head()"
   ]
  },
  {
   "cell_type": "code",
   "execution_count": 6,
   "metadata": {
    "collapsed": false
   },
   "outputs": [],
   "source": [
    "from numpy.linalg import inv\n",
    "def linear_regression(Z, y):\n",
    "    Z_T_Z = np.dot(Z.T, Z)\n",
    "    Z_T_Z_inverse = inv(Z_T_Z)\n",
    "    Z_dagger = np.dot(Z_T_Z_inverse, Z.T)\n",
    "    weights = np.dot(Z_dagger, y)\n",
    "    return weights\n",
    "\n",
    "def linear_regression_with_regularization(Z, y, lambda_reg):\n",
    "    Z_T_Z = np.dot(Z.T, Z)\n",
    "    Z_T_Z_reg = Z_T_Z + (lambda_reg * np.identity(np.size(Z_T_Z, 0)))\n",
    "    Z_T_Z_reg_inverse = inv(Z_T_Z_reg)\n",
    "    Z_dagger = np.dot(Z_T_Z_reg_inverse, Z.T)\n",
    "    weights = np.dot(Z_dagger, y)\n",
    "    return weights"
   ]
  },
  {
   "cell_type": "code",
   "execution_count": 7,
   "metadata": {
    "collapsed": false
   },
   "outputs": [],
   "source": [
    "def error(W, X, y):\n",
    "    misclassified = np.sign(np.dot(X, W)) != y\n",
    "    return 1.0 * misclassified.sum()/len(misclassified)"
   ]
  },
  {
   "cell_type": "code",
   "execution_count": 13,
   "metadata": {
    "collapsed": false
   },
   "outputs": [
    {
     "name": "stdout",
     "output_type": "stream",
     "text": [
      "0.03 0.08\n"
     ]
    }
   ],
   "source": [
    "weights = linear_regression(train_z, train_y)\n",
    "print np.round(error(weights, train_z, train_y), 2), \n",
    "print np.round(error(weights, test_z, test_y), 2)"
   ]
  },
  {
   "cell_type": "code",
   "execution_count": 14,
   "metadata": {
    "collapsed": false
   },
   "outputs": [
    {
     "name": "stdout",
     "output_type": "stream",
     "text": [
      "0.03 0.08\n"
     ]
    }
   ],
   "source": [
    "k = -3\n",
    "weights = linear_regression_with_regularization(train_z, train_y, 10 ** k)\n",
    "print np.round(error(weights, train_z, train_y), 2), \n",
    "print np.round(error(weights, test_z, test_y), 2)"
   ]
  },
  {
   "cell_type": "code",
   "execution_count": 15,
   "metadata": {
    "collapsed": false
   },
   "outputs": [
    {
     "name": "stdout",
     "output_type": "stream",
     "text": [
      "0.37 0.44\n"
     ]
    }
   ],
   "source": [
    "k = 3\n",
    "weights = linear_regression_with_regularization(train_z, train_y, 10 ** k)\n",
    "print np.round(error(weights, train_z, train_y), 2), \n",
    "print np.round(error(weights, test_z, test_y), 2)"
   ]
  },
  {
   "cell_type": "code",
   "execution_count": 16,
   "metadata": {
    "collapsed": false
   },
   "outputs": [
    {
     "name": "stdout",
     "output_type": "stream",
     "text": [
      "-2 0.03 0.08\n",
      "-1 0.03 0.06\n",
      "0 0.0 0.09\n",
      "1 0.06 0.12\n",
      "2 0.2 0.23\n"
     ]
    }
   ],
   "source": [
    "for k in np.arange(-2, 3):\n",
    "    weights = linear_regression_with_regularization(train_z, train_y, 10 ** k)\n",
    "    print k, np.round(error(weights, train_z, train_y), 2), np.round(error(weights, test_z, test_y), 2)"
   ]
  },
  {
   "cell_type": "code",
   "execution_count": null,
   "metadata": {
    "collapsed": true
   },
   "outputs": [],
   "source": []
  }
 ],
 "metadata": {
  "kernelspec": {
   "display_name": "Python 2",
   "language": "python",
   "name": "python2"
  },
  "language_info": {
   "codemirror_mode": {
    "name": "ipython",
    "version": 2
   },
   "file_extension": ".py",
   "mimetype": "text/x-python",
   "name": "python",
   "nbconvert_exporter": "python",
   "pygments_lexer": "ipython2",
   "version": "2.7.10"
  }
 },
 "nbformat": 4,
 "nbformat_minor": 0
}
