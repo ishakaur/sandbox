{
 "cells": [
  {
   "cell_type": "markdown",
   "metadata": {},
   "source": [
    "<p>\n",
    "Homework: https://work.caltech.edu/homework/hw7.pdf\n",
    "<p>\n",
    "\n",
    "&#x2714;\n",
    "Answers:\n",
    "1. d &#x2714;\n",
    "2. e &#x2714;\n",
    "3. d &#x2714;\n",
    "4. d &#x2714;\n",
    "5. b &#x2714;\n",
    "6. d &#x2714;\n",
    "7. \n",
    "8. \n",
    "9. \n",
    "10. \n",
    "\n",
    "<p>\n",
    "Answer key: https://work.caltech.edu/homework/hw7_sol.pdf"
   ]
  },
  {
   "cell_type": "code",
   "execution_count": 1,
   "metadata": {
    "collapsed": true
   },
   "outputs": [],
   "source": [
    "import pandas as pd\n",
    "import numpy as np\n",
    "import matplotlib.pyplot as plt\n",
    "%matplotlib inline\n",
    "from IPython.display import display"
   ]
  },
  {
   "cell_type": "code",
   "execution_count": 2,
   "metadata": {
    "collapsed": false
   },
   "outputs": [],
   "source": [
    "# Questions 1 through 5\n",
    "# training set: http://work.caltech.edu/data/in.dta\n",
    "# test set: http://work.caltech.edu/data/out.dta\n",
    "train = pd.read_fwf('http://work.caltech.edu/data/in.dta', header=None)\n",
    "train_x = train.iloc[:, :2]\n",
    "train_y = train.iloc[:, 2]\n",
    "\n",
    "test = pd.read_fwf('http://work.caltech.edu/data/out.dta', header=None)\n",
    "test_x = test.iloc[:, :2]\n",
    "test_y = test.iloc[:, 2]"
   ]
  },
  {
   "cell_type": "code",
   "execution_count": 3,
   "metadata": {
    "collapsed": false
   },
   "outputs": [],
   "source": [
    "def transform(x):\n",
    "    x1 = x.iloc[:, 0]\n",
    "    x2 = x.iloc[:, 1]\n",
    "    \n",
    "    z = pd.DataFrame(np.ones(len(x)))\n",
    "    z.loc[:, 1] = x1\n",
    "    z.loc[:, 2] = x2\n",
    "    z.loc[:, 3] = x1 ** 2\n",
    "    z.loc[:, 4] = x2 ** 2\n",
    "    z.loc[:, 5] = x1 * x2\n",
    "    z.loc[:, 6] = np.abs(x1 - x2)\n",
    "    z.loc[:, 7] = np.abs(x1 + x2)\n",
    "    return z"
   ]
  },
  {
   "cell_type": "code",
   "execution_count": 4,
   "metadata": {
    "collapsed": true
   },
   "outputs": [],
   "source": [
    "train_z = transform(train_x)\n",
    "test_z = transform(test_x)"
   ]
  },
  {
   "cell_type": "code",
   "execution_count": 5,
   "metadata": {
    "collapsed": false
   },
   "outputs": [],
   "source": [
    "from numpy.linalg import inv\n",
    "def linear_regression(Z, y):\n",
    "    Z_T_Z = np.dot(Z.T, Z)\n",
    "    Z_T_Z_inverse = inv(Z_T_Z)\n",
    "    Z_dagger = np.dot(Z_T_Z_inverse, Z.T)\n",
    "    weights = np.dot(Z_dagger, y)\n",
    "    return weights"
   ]
  },
  {
   "cell_type": "code",
   "execution_count": 6,
   "metadata": {
    "collapsed": false
   },
   "outputs": [],
   "source": [
    "def error(W, X, y):\n",
    "    misclassified = np.sign(np.dot(X, W)) != y\n",
    "    return 1.0 * misclassified.sum()/len(misclassified)"
   ]
  },
  {
   "cell_type": "code",
   "execution_count": 22,
   "metadata": {
    "collapsed": false
   },
   "outputs": [],
   "source": [
    "def calc_error(X, y, X_val, y_val, X_test, y_test):\n",
    "    weights = linear_regression(X, y)\n",
    "    print \"train   \", np.round(error(weights, X, y), 8)\n",
    "    print \"validate\", np.round(error(weights, X_val, y_val), 8)\n",
    "    print \"test    \", np.round(error(weights, X_test, y_test), 8)"
   ]
  },
  {
   "cell_type": "code",
   "execution_count": 23,
   "metadata": {
    "collapsed": false
   },
   "outputs": [],
   "source": [
    "train_set_size = 25\n",
    "\n",
    "z_train = train_z.head(train_set_size)\n",
    "y_train = train_y.head(train_set_size)\n",
    "\n",
    "z_validate = train_z.tail(len(train_z) - train_set_size)\n",
    "y_validate = train_y.tail(len(train_z) - train_set_size)\n",
    "\n",
    "z_test = test_z\n",
    "y_test = test_y"
   ]
  },
  {
   "cell_type": "code",
   "execution_count": 38,
   "metadata": {
    "collapsed": false
   },
   "outputs": [
    {
     "name": "stdout",
     "output_type": "stream",
     "text": [
      "Trying k:  3\n",
      "train    0.44\n",
      "validate 0.3\n",
      "test     0.42\n",
      "Trying k:  4\n",
      "train    0.32\n",
      "validate 0.5\n",
      "test     0.416\n",
      "Trying k:  5\n",
      "train    0.08\n",
      "validate 0.2\n",
      "test     0.188\n",
      "Trying k:  6\n",
      "train    0.04\n",
      "validate 0.0\n",
      "test     0.084\n",
      "Trying k:  7\n",
      "train    0.04\n",
      "validate 0.1\n",
      "test     0.072\n"
     ]
    }
   ],
   "source": [
    "for k in [3, 4, 5, 6, 7]:\n",
    "    print \"Trying k: \", k\n",
    "    calc_error(z_train.ix[:,0:k], y_train, \n",
    "               z_validate.ix[:,0:k], y_validate,\n",
    "               z_test.ix[:,0:k], y_test)"
   ]
  },
  {
   "cell_type": "code",
   "execution_count": 39,
   "metadata": {
    "collapsed": false
   },
   "outputs": [
    {
     "name": "stdout",
     "output_type": "stream",
     "text": [
      "Trying k:  3\n",
      "train    0.4\n",
      "validate 0.28\n",
      "test     0.396\n",
      "Trying k:  4\n",
      "train    0.3\n",
      "validate 0.36\n",
      "test     0.388\n",
      "Trying k:  5\n",
      "train    0.2\n",
      "validate 0.2\n",
      "test     0.284\n",
      "Trying k:  6\n",
      "train    0.0\n",
      "validate 0.08\n",
      "test     0.192\n",
      "Trying k:  7\n",
      "train    0.0\n",
      "validate 0.12\n",
      "test     0.196\n"
     ]
    }
   ],
   "source": [
    "for k in [3, 4, 5, 6, 7]:\n",
    "    print \"Trying k: \", k\n",
    "    calc_error(z_validate.ix[:,0:k], y_validate,\n",
    "               z_train.ix[:,0:k], y_train, \n",
    "               z_test.ix[:,0:k], y_test)"
   ]
  },
  {
   "cell_type": "code",
   "execution_count": 41,
   "metadata": {
    "collapsed": false
   },
   "outputs": [
    {
     "name": "stdout",
     "output_type": "stream",
     "text": [
      "0.502402067838 0.501660183482 0.336991151062\n"
     ]
    }
   ],
   "source": [
    "#Question 6\n",
    "\n",
    "N=1000\n",
    "e1 = np.random.uniform(size=N)\n",
    "e2 = np.random.uniform(size=N)\n",
    "e = np.minimum(e1, e2)\n",
    "\n",
    "print np.mean(e1), np.mean(e2), np.mean(e)"
   ]
  },
  {
   "cell_type": "code",
   "execution_count": null,
   "metadata": {
    "collapsed": false
   },
   "outputs": [],
   "source": []
  },
  {
   "cell_type": "code",
   "execution_count": null,
   "metadata": {
    "collapsed": true
   },
   "outputs": [],
   "source": []
  }
 ],
 "metadata": {
  "kernelspec": {
   "display_name": "Python 2",
   "language": "python",
   "name": "python2"
  },
  "language_info": {
   "codemirror_mode": {
    "name": "ipython",
    "version": 2
   },
   "file_extension": ".py",
   "mimetype": "text/x-python",
   "name": "python",
   "nbconvert_exporter": "python",
   "pygments_lexer": "ipython2",
   "version": "2.7.10"
  }
 },
 "nbformat": 4,
 "nbformat_minor": 0
}
