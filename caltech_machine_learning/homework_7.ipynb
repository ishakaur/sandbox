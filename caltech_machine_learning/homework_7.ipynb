{
 "cells": [
  {
   "cell_type": "markdown",
   "metadata": {},
   "source": [
    "<p>\n",
    "Homework: https://work.caltech.edu/homework/hw7.pdf\n",
    "<p>\n",
    "\n",
    "&#x2714;\n",
    "Answers:\n",
    "1. d &#x2714;\n",
    "2. e &#x2714;\n",
    "3. d &#x2714;\n",
    "4. d &#x2714;\n",
    "5. b &#x2714;\n",
    "6. d &#x2714;\n",
    "7. e\n",
    "8. \n",
    "9. \n",
    "10. \n",
    "\n",
    "<p>\n",
    "Answer key: https://work.caltech.edu/homework/hw7_sol.pdf"
   ]
  },
  {
   "cell_type": "code",
   "execution_count": 2,
   "metadata": {
    "collapsed": true
   },
   "outputs": [],
   "source": [
    "import pandas as pd\n",
    "import numpy as np\n",
    "import matplotlib.pyplot as plt\n",
    "%matplotlib inline\n",
    "from IPython.display import display"
   ]
  },
  {
   "cell_type": "code",
   "execution_count": 3,
   "metadata": {
    "collapsed": false
   },
   "outputs": [],
   "source": [
    "# Questions 1 through 5\n",
    "# training set: http://work.caltech.edu/data/in.dta\n",
    "# test set: http://work.caltech.edu/data/out.dta\n",
    "train = pd.read_fwf('http://work.caltech.edu/data/in.dta', header=None)\n",
    "train_x = train.iloc[:, :2]\n",
    "train_y = train.iloc[:, 2]\n",
    "\n",
    "test = pd.read_fwf('http://work.caltech.edu/data/out.dta', header=None)\n",
    "test_x = test.iloc[:, :2]\n",
    "test_y = test.iloc[:, 2]"
   ]
  },
  {
   "cell_type": "code",
   "execution_count": 4,
   "metadata": {
    "collapsed": false
   },
   "outputs": [],
   "source": [
    "def transform(x):\n",
    "    x1 = x.iloc[:, 0]\n",
    "    x2 = x.iloc[:, 1]\n",
    "    \n",
    "    z = pd.DataFrame(np.ones(len(x)))\n",
    "    z.loc[:, 1] = x1\n",
    "    z.loc[:, 2] = x2\n",
    "    z.loc[:, 3] = x1 ** 2\n",
    "    z.loc[:, 4] = x2 ** 2\n",
    "    z.loc[:, 5] = x1 * x2\n",
    "    z.loc[:, 6] = np.abs(x1 - x2)\n",
    "    z.loc[:, 7] = np.abs(x1 + x2)\n",
    "    return z"
   ]
  },
  {
   "cell_type": "code",
   "execution_count": 5,
   "metadata": {
    "collapsed": true
   },
   "outputs": [],
   "source": [
    "train_z = transform(train_x)\n",
    "test_z = transform(test_x)"
   ]
  },
  {
   "cell_type": "code",
   "execution_count": 6,
   "metadata": {
    "collapsed": false
   },
   "outputs": [],
   "source": [
    "from numpy.linalg import inv\n",
    "def linear_regression(Z, y):\n",
    "    Z_T_Z = np.dot(Z.T, Z)\n",
    "    Z_T_Z_inverse = inv(Z_T_Z)\n",
    "    Z_dagger = np.dot(Z_T_Z_inverse, Z.T)\n",
    "    weights = np.dot(Z_dagger, y)\n",
    "    return weights"
   ]
  },
  {
   "cell_type": "code",
   "execution_count": 7,
   "metadata": {
    "collapsed": false
   },
   "outputs": [],
   "source": [
    "def error(W, X, y):\n",
    "    misclassified = np.sign(np.dot(X, W)) != y\n",
    "    return 1.0 * misclassified.sum()/len(misclassified)"
   ]
  },
  {
   "cell_type": "code",
   "execution_count": 8,
   "metadata": {
    "collapsed": false
   },
   "outputs": [],
   "source": [
    "def calc_error(X, y, X_val, y_val, X_test, y_test):\n",
    "    weights = linear_regression(X, y)\n",
    "    print \"train   \", np.round(error(weights, X, y), 8)\n",
    "    print \"validate\", np.round(error(weights, X_val, y_val), 8)\n",
    "    print \"test    \", np.round(error(weights, X_test, y_test), 8)"
   ]
  },
  {
   "cell_type": "code",
   "execution_count": 9,
   "metadata": {
    "collapsed": false
   },
   "outputs": [],
   "source": [
    "train_set_size = 25\n",
    "\n",
    "z_train = train_z.head(train_set_size)\n",
    "y_train = train_y.head(train_set_size)\n",
    "\n",
    "z_validate = train_z.tail(len(train_z) - train_set_size)\n",
    "y_validate = train_y.tail(len(train_z) - train_set_size)\n",
    "\n",
    "z_test = test_z\n",
    "y_test = test_y"
   ]
  },
  {
   "cell_type": "code",
   "execution_count": 10,
   "metadata": {
    "collapsed": false
   },
   "outputs": [
    {
     "name": "stdout",
     "output_type": "stream",
     "text": [
      "Trying k:  3\n",
      "train    0.44\n",
      "validate 0.3\n",
      "test     0.42\n",
      "Trying k:  4\n",
      "train    0.32\n",
      "validate 0.5\n",
      "test     0.416\n",
      "Trying k:  5\n",
      "train    0.08\n",
      "validate 0.2\n",
      "test     0.188\n",
      "Trying k:  6\n",
      "train    0.04\n",
      "validate 0.0\n",
      "test     0.084\n",
      "Trying k:  7\n",
      "train    0.04\n",
      "validate 0.1\n",
      "test     0.072\n"
     ]
    }
   ],
   "source": [
    "for k in [3, 4, 5, 6, 7]:\n",
    "    print \"Trying k: \", k\n",
    "    calc_error(z_train.ix[:,0:k], y_train, \n",
    "               z_validate.ix[:,0:k], y_validate,\n",
    "               z_test.ix[:,0:k], y_test)"
   ]
  },
  {
   "cell_type": "code",
   "execution_count": 11,
   "metadata": {
    "collapsed": false
   },
   "outputs": [
    {
     "name": "stdout",
     "output_type": "stream",
     "text": [
      "Trying k:  3\n",
      "train    0.4\n",
      "validate 0.28\n",
      "test     0.396\n",
      "Trying k:  4\n",
      "train    0.3\n",
      "validate 0.36\n",
      "test     0.388\n",
      "Trying k:  5\n",
      "train    0.2\n",
      "validate 0.2\n",
      "test     0.284\n",
      "Trying k:  6\n",
      "train    0.0\n",
      "validate 0.08\n",
      "test     0.192\n",
      "Trying k:  7\n",
      "train    0.0\n",
      "validate 0.12\n",
      "test     0.196\n"
     ]
    }
   ],
   "source": [
    "for k in [3, 4, 5, 6, 7]:\n",
    "    print \"Trying k: \", k\n",
    "    calc_error(z_validate.ix[:,0:k], y_validate,\n",
    "               z_train.ix[:,0:k], y_train, \n",
    "               z_test.ix[:,0:k], y_test)"
   ]
  },
  {
   "cell_type": "code",
   "execution_count": 12,
   "metadata": {
    "collapsed": false
   },
   "outputs": [
    {
     "name": "stdout",
     "output_type": "stream",
     "text": [
      "0.509935119651 0.492465978452 0.333857940287\n"
     ]
    }
   ],
   "source": [
    "#Question 6\n",
    "\n",
    "N=1000\n",
    "e1 = np.random.uniform(size=N)\n",
    "e2 = np.random.uniform(size=N)\n",
    "e = np.minimum(e1, e2)\n",
    "\n",
    "print np.mean(e1), np.mean(e2), np.mean(e)"
   ]
  },
  {
   "cell_type": "code",
   "execution_count": 30,
   "metadata": {
    "collapsed": false
   },
   "outputs": [
    {
     "name": "stdout",
     "output_type": "stream",
     "text": [
      "Predicted function found in 134 iterations, that performed at 99.19% accuracy on out of sample data set\n"
     ]
    },
    {
     "data": {
      "image/png": "[encoded data removed]",
      "text/plain": [
       "<matplotlib.figure.Figure at 0x10a5291d0>"
      ]
     },
     "metadata": {},
     "output_type": "display_data"
    }
   ],
   "source": [
    "# Questions 8 through 10\n",
    "\n",
    "from collections import namedtuple\n",
    "\n",
    "Point = namedtuple('Point', ['x', 'y'])\n",
    "\n",
    "class Line:\n",
    "    def __init__(self, weights=None, points=None):\n",
    "        if (weights is None and points is None) or (weights is not None and points is not None):\n",
    "            raise ValueError(\"Either weights or points, but only one of them, must be provided to specify the line\")\n",
    "        if weights is not None:\n",
    "            assert len(weights) == 3\n",
    "            w0, w1, w2 = weights\n",
    "            w0 /= w2\n",
    "            w1 /= w2\n",
    "            self.intercept = -w0\n",
    "            self.slope = -w1\n",
    "        else:\n",
    "            assert len(points) >= 2\n",
    "            self.slope = (points[1].y-points[0].y)/(points[1].x-points[0].x)\n",
    "            self.intercept = points[0].y - self.slope * points[0].x\n",
    "    \n",
    "    def get_y(self, x):\n",
    "        return self.intercept + self.slope * x\n",
    "    \n",
    "    def get_sign(self, x, y):\n",
    "        return np.sign(- self.intercept - self.slope*x + y )\n",
    "    \n",
    "    def get_weights(self):\n",
    "        return np.array([-self.intercept, -self.slope, 1])\n",
    "\n",
    "def make_target_function(plot=False, x_min=-1, x_max=1, y_min=-1, y_max=1):\n",
    "    x1_s = list(np.random.uniform(x_min, x_max, size=2))\n",
    "    x2_s = list(np.random.uniform(y_min, y_max, size=2))\n",
    "    points = [Point(x1_s[i], x2_s[i]) for i in range(len(x1_s))]\n",
    "    target_function = Line(points=points)\n",
    "    if plot:\n",
    "        plt.axis([x_min, x_max, y_min, y_max])\n",
    "        plt.scatter(x1_s, x2_s, color='#006400')\n",
    "        plt.plot([x_min, x_max], [target_function.get_y(x_min), target_function.get_y(x_max)], color='green')\n",
    "    return target_function\n",
    "\n",
    "def generate_samples(target_function, N, plot=False, x_min=-1, x_max=1, y_min=-1, y_max=1):\n",
    "    x1_s = list(np.random.uniform(x_min, x_max, size=N))\n",
    "    x2_s = list(np.random.uniform(y_min, y_max, size=N))\n",
    "    y_s = [target_function.get_sign(x1, x2) for x1, x2 in zip(x1_s, x2_s)]\n",
    "    if plot:\n",
    "        plt.axis([x_min, x_max, y_min, y_max])\n",
    "        plt.scatter(x1_s, x2_s, c=y_s, marker='x')\n",
    "    X = np.array([np.ones(N), x1_s, x2_s]).transpose()\n",
    "    y = np.array(y_s)\n",
    "    return X, y\n",
    "\n",
    "def PLA(X, y, initial_weights, plot=False, max_iterations = 15000, verbose=False):\n",
    "    w = initial_weights.copy()\n",
    "    iter = 0\n",
    "    while iter < max_iterations:\n",
    "        if verbose:\n",
    "            print \"Iteration {} w {}\".format(iter, w)\n",
    "        predictions = np.sign(np.dot(X, w))\n",
    "        misclassfied = predictions != y\n",
    "        num_misclassified = np.sum(misclassfied)\n",
    "        if num_misclassified == 0:\n",
    "            break\n",
    "        if verbose:\n",
    "            print \"Still misclassified: {}\".format(num_misclassified)\n",
    "        chosen = np.random.choice(np.where(misclassfied)[0])\n",
    "        w += X[chosen] * y[chosen]\n",
    "        iter += 1\n",
    "    if verbose:\n",
    "        print \"Returning iter {}\".format(iter)\n",
    "        print\n",
    "    return (iter+1 if iter < max_iterations else None, w)\n",
    "\n",
    "def score(target_function, predicted_function, large_N=10000, x_min=-1, x_max=1, y_min=-1, y_max=1):\n",
    "    test_sample_x1 = list(np.random.uniform(x_min, x_max, size=large_N))\n",
    "    test_sample_x2 = list(np.random.uniform(y_min, y_max, size=large_N))\n",
    "    test_sample_y = [target_function.get_sign(x1, x2) for x1, x2 in zip(test_sample_x1, test_sample_x2)]\n",
    "    test_sample_y_pred = [predicted_function.get_sign(x1, x2) for x1, x2 in zip(test_sample_x1, test_sample_x2)]\n",
    "    return 1.0 * np.sum(np.array(test_sample_y) == np.array(test_sample_y_pred))/len(test_sample_y)\n",
    "\n",
    "def PLA_experiment(N, plot=False, x_min=-1, x_max=1, y_min=-1, y_max=1):\n",
    "    target_function = make_target_function(plot)\n",
    "    X, y = generate_samples(target_function, N, plot)\n",
    "    num_iter, w = PLA(X, y, np.array([0., 0., 0.]))\n",
    "    predicted_function = Line(weights=w)\n",
    "    if plot:\n",
    "        plt.plot([x_min, x_max], [predicted_function.get_y(x_min), predicted_function.get_y(x_max)], color='purple')\n",
    "    accuracy = score(target_function, predicted_function)\n",
    "    return (num_iter, accuracy)\n",
    "\n",
    "iters, accuracy = PLA_experiment(N=100, plot=True)\n",
    "print \"Predicted function found in {} iterations, that performed at {}% accuracy on out of sample data set\".format(iters, accuracy*100)"
   ]
  },
  {
   "cell_type": "code",
   "execution_count": null,
   "metadata": {
    "collapsed": true
   },
   "outputs": [],
   "source": []
  }
 ],
 "metadata": {
  "kernelspec": {
   "display_name": "Python 2",
   "language": "python",
   "name": "python2"
  },
  "language_info": {
   "codemirror_mode": {
    "name": "ipython",
    "version": 2
   },
   "file_extension": ".py",
   "mimetype": "text/x-python",
   "name": "python",
   "nbconvert_exporter": "python",
   "pygments_lexer": "ipython2",
   "version": "2.7.10"
  }
 },
 "nbformat": 4,
 "nbformat_minor": 0
}
