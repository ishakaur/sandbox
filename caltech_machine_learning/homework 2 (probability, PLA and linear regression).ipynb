{
 "cells": [
  {
   "cell_type": "markdown",
   "metadata": {},
   "source": [
    "<p>\n",
    "Homework: https://work.caltech.edu/homework/hw2.pdf\n",
    "<p>\n",
    "Answers:\n",
    "1. b\n",
    "2. d\n",
    "3. d --> e\n",
    "4. b\n",
    "5. c\n",
    "6. c\n",
    "7. a\n",
    "8. d\n",
    "9. a\n",
    "10. b\n",
    "\n",
    "<p>\n",
    "Answer key: https://work.caltech.edu/homework/hw2_sol.pdf"
   ]
  },
  {
   "cell_type": "code",
   "execution_count": 54,
   "metadata": {
    "collapsed": true
   },
   "outputs": [],
   "source": [
    "import pandas as pd\n",
    "import numpy as np\n",
    "import matplotlib.pyplot as plt\n",
    "%matplotlib inline\n",
    "from IPython.display import display\n",
    "from numpy.linalg import inv"
   ]
  },
  {
   "cell_type": "code",
   "execution_count": 23,
   "metadata": {
    "collapsed": true
   },
   "outputs": [],
   "source": [
    "class Coin:\n",
    "    def __init__(self):\n",
    "        self.flips = np.array([])\n",
    "    def flip(self, number_of_flips=1):\n",
    "        self.flips = np.random.randint(0, 2, number_of_flips)\n",
    "        return self.flips\n",
    "    def frequency_of_heads(self):\n",
    "        return self.flips.sum()\n",
    "    def fraction_of_heads(self):\n",
    "        return self.flips.mean()"
   ]
  },
  {
   "cell_type": "code",
   "execution_count": 24,
   "metadata": {
    "collapsed": false
   },
   "outputs": [
    {
     "data": {
      "text/plain": [
       "1000"
      ]
     },
     "execution_count": 24,
     "metadata": {},
     "output_type": "execute_result"
    }
   ],
   "source": [
    "coins = [Coin() for i in range(1000)]\n",
    "len(coins)"
   ]
  },
  {
   "cell_type": "code",
   "execution_count": 41,
   "metadata": {
    "collapsed": false
   },
   "outputs": [
    {
     "data": {
      "text/plain": [
       "array([ 0.4,  0.8,  0. ,  1. ])"
      ]
     },
     "execution_count": 41,
     "metadata": {},
     "output_type": "execute_result"
    }
   ],
   "source": [
    "def experiment(coins, number_of_flips=10):\n",
    "    for coin in coins:\n",
    "        coin.flip(number_of_flips)\n",
    "    frequencies = [coin.frequency_of_heads() for coin in coins]\n",
    "    fractions = [coin.fraction_of_heads() for coin in coins]\n",
    "    indices_of_interest = [0, \n",
    "                           np.random.randint(1000), \n",
    "                           frequencies.index(min(frequencies)), \n",
    "                           frequencies.index(max(frequencies))]\n",
    "    return np.array([fractions[i] for i in indices_of_interest])\n",
    "\n",
    "experiment(coins)"
   ]
  },
  {
   "cell_type": "code",
   "execution_count": 43,
   "metadata": {
    "collapsed": false
   },
   "outputs": [
    {
     "data": {
      "text/plain": [
       "array([ 0.500242,  0.499549,  0.03762 ,  0.962324])"
      ]
     },
     "execution_count": 43,
     "metadata": {},
     "output_type": "execute_result"
    }
   ],
   "source": [
    "N = 100000\n",
    "\n",
    "results = np.array([0.0, 0.0, 0.0, 0.0])\n",
    "for n in range(N):\n",
    "    results += experiment(coins)\n",
    "\n",
    "results / N"
   ]
  },
  {
   "cell_type": "markdown",
   "metadata": {},
   "source": [
    "<b>Answers 1 & 2:</b>\n",
    "<p>\n",
    "indices of interest: array([0, random_int, min_freq, max_freq])\n",
    "<p>\n",
    "average frequencies: array([ 0.500242,  0.499549,  0.03762 ,  0.962324])"
   ]
  },
  {
   "cell_type": "code",
   "execution_count": 131,
   "metadata": {
    "collapsed": true
   },
   "outputs": [],
   "source": [
    "class Line:\n",
    "    '''A line that passes through the first two points of the given array'''\n",
    "    def __init__(self, x1_s, x2_s, weights=None):\n",
    "        if weights is not None:\n",
    "            assert len(weights) == 3\n",
    "            w0, w1, w2 = weights\n",
    "            w0 /= w2\n",
    "            w1 /= w2\n",
    "            self.intercept = -w0\n",
    "            self.slope = -w1\n",
    "        else:\n",
    "            assert len(x1_s) == 2\n",
    "            assert len(x2_s) == 2\n",
    "            self.slope = (x2_s[1]-x2_s[0])/(x1_s[1]-x1_s[0])\n",
    "            self.intercept = x2_s[0] - self.slope * x1_s[0]\n",
    "    \n",
    "    def get_y(self, x):\n",
    "        return self.intercept + self.slope * x\n",
    "    \n",
    "    def get_sign(self, x1, x2):\n",
    "        return np.sign(- self.intercept - self.slope*x1 + x2 )\n",
    "    \n",
    "    def get_weights(self):\n",
    "        return np.array([-self.intercept, -self.slope, 1])"
   ]
  },
  {
   "cell_type": "code",
   "execution_count": 132,
   "metadata": {
    "collapsed": true
   },
   "outputs": [],
   "source": [
    "x_min = -1\n",
    "x_max = 1\n",
    "y_min = x_min\n",
    "y_max = x_max"
   ]
  },
  {
   "cell_type": "code",
   "execution_count": 172,
   "metadata": {
    "collapsed": false
   },
   "outputs": [
    {
     "data": {
      "text/plain": [
       "[-0.30454300841603632, 0.98785007423487192]"
      ]
     },
     "metadata": {},
     "output_type": "display_data"
    },
    {
     "data": {
      "text/plain": [
       "[0.043975631058994491, -0.24914357928817843]"
      ]
     },
     "metadata": {},
     "output_type": "display_data"
    },
    {
     "data": {
      "text/plain": [
       "[<matplotlib.lines.Line2D at 0x108600dd0>]"
      ]
     },
     "execution_count": 172,
     "metadata": {},
     "output_type": "execute_result"
    },
    {
     "data": {
      "image/png": "[encoded data removed]",
      "text/plain": [
       "<matplotlib.figure.Figure at 0x107a99950>"
      ]
     },
     "metadata": {},
     "output_type": "display_data"
    }
   ],
   "source": [
    "def select_target_function(plot = False):\n",
    "    target_function_x = list(np.random.uniform(x_min, x_max, size=2))\n",
    "    target_function_y = list(np.random.uniform(y_min, y_max, size=2))\n",
    "    target_function = Line(target_function_x, target_function_y)\n",
    "    if plot:\n",
    "        plt.axis([x_min, x_max, y_min, y_max])\n",
    "        plt.scatter(target_function_x, target_function_y, color='#006400')\n",
    "        plt.plot([x_min, x_max], [target_function.get_y(x_min), target_function.get_y(x_max)], color='green')\n",
    "    return target_function"
   ]
  },
  {
   "cell_type": "code",
   "execution_count": 174,
   "metadata": {
    "collapsed": false
   },
   "outputs": [
    {
     "data": {
      "text/plain": [
       "<matplotlib.collections.PathCollection at 0x109025f90>"
      ]
     },
     "execution_count": 174,
     "metadata": {},
     "output_type": "execute_result"
    },
    {
     "data": {
      "image/png": "[encoded data removed]",
      "text/plain": [
       "<matplotlib.figure.Figure at 0x1083abe10>"
      ]
     },
     "metadata": {},
     "output_type": "display_data"
    }
   ],
   "source": [
    "N = 100\n",
    "sample_x1 = list(np.random.uniform(-1, 1, size=N))\n",
    "sample_x2 = list(np.random.uniform(-1, 1, size=N))\n",
    "sample_y = [target_function.get_sign(x1, x2) for x1, x2 in zip(sample_x1, sample_x2)]\n",
    "plt.axis([x_min, x_max, y_min, y_max])\n",
    "plt.scatter(target_function_x, target_function_y, color='#006400')\n",
    "plt.plot([x_min, x_max], [target_function.get_y(x_min), target_function.get_y(x_max)], color='green')\n",
    "plt.scatter(sample_x1, sample_x2, c=sample_y, marker='x')"
   ]
  },
  {
   "cell_type": "code",
   "execution_count": 175,
   "metadata": {
    "collapsed": false
   },
   "outputs": [],
   "source": [
    "X = np.array([np.ones(N), sample_x1, sample_x2]).transpose()\n",
    "y = np.array(sample_y)\n",
    "#X, y"
   ]
  },
  {
   "cell_type": "code",
   "execution_count": 176,
   "metadata": {
    "collapsed": false
   },
   "outputs": [
    {
     "name": "stdout",
     "output_type": "stream",
     "text": [
      "Linear regression weights: [ 0.04392468  0.36981688  1.51752569]\n"
     ]
    }
   ],
   "source": [
    "X_transpose = X.transpose()\n",
    "X_dagger = np.dot(inv(np.dot(X_transpose, X)), X_transpose)\n",
    "w_lin_reg = np.dot(X_dagger, y)\n",
    "print \"Linear regression weights: {}\".format(w_lin_reg)\n",
    "predicted_function = Line(None, None, w_lin_reg)"
   ]
  },
  {
   "cell_type": "code",
   "execution_count": 177,
   "metadata": {
    "collapsed": false
   },
   "outputs": [
    {
     "data": {
      "text/plain": [
       "<matplotlib.collections.PathCollection at 0x10913afd0>"
      ]
     },
     "execution_count": 177,
     "metadata": {},
     "output_type": "execute_result"
    },
    {
     "data": {
      "image/png": "[encoded data removed]",
      "text/plain": [
       "<matplotlib.figure.Figure at 0x108650810>"
      ]
     },
     "metadata": {},
     "output_type": "display_data"
    }
   ],
   "source": [
    "plt.axis([x_min, x_max, y_min, y_max])\n",
    "plt.scatter(target_function_x, target_function_y, color='#006400')\n",
    "plt.plot([x_min, x_max], [target_function.get_y(x_min), target_function.get_y(x_max)], color='green')\n",
    "plt.plot([x_min, x_max], [predicted_function.get_y(x_min), predicted_function.get_y(x_max)], color='purple')\n",
    "plt.scatter(sample_x1, sample_x2, c=sample_y, marker='x')"
   ]
  },
  {
   "cell_type": "code",
   "execution_count": 178,
   "metadata": {
    "collapsed": false
   },
   "outputs": [
    {
     "data": {
      "text/plain": [
       "0.01"
      ]
     },
     "execution_count": 178,
     "metadata": {},
     "output_type": "execute_result"
    }
   ],
   "source": [
    "y_pred = np.array([predicted_function.get_sign(x1, x2) for x1, x2 in zip(sample_x1, sample_x2)])\n",
    "results = y_pred != y\n",
    "1.0 * results.sum()/len(results)"
   ]
  },
  {
   "cell_type": "code",
   "execution_count": 179,
   "metadata": {
    "collapsed": true
   },
   "outputs": [],
   "source": [
    "def sample_data_set(target_function, number_of_points=100):\n",
    "    sample_x1 = list(np.random.uniform(-1, 1, size=number_of_points))\n",
    "    sample_x2 = list(np.random.uniform(-1, 1, size=number_of_points))\n",
    "    X = np.array([np.ones(number_of_points), sample_x1, sample_x2]).transpose()\n",
    "    y = np.array([target_function.get_sign(x1, x2) for x1, x2 in zip(sample_x1, sample_x2)])\n",
    "    return X, y\n",
    "\n",
    "def linear_regression(X, y):\n",
    "    X_dagger = np.dot(inv(np.dot(X.T, X)), X.T)\n",
    "    weights = np.dot(X_dagger, y)\n",
    "    return weights"
   ]
  },
  {
   "cell_type": "code",
   "execution_count": 137,
   "metadata": {
    "collapsed": false
   },
   "outputs": [
    {
     "name": "stdout",
     "output_type": "stream",
     "text": [
      "0.035\n",
      "10\n"
     ]
    }
   ],
   "source": [
    "predicted_functions = []\n",
    "in_sample_errors = []\n",
    "\n",
    "number_of_experiments = 1000\n",
    "for i in range(number_of_experiments):\n",
    "    X, y = sample_data_set(target_function, number_of_points=100)\n",
    "    weights = linear_regression(X, y)\n",
    "    predicted_function = Line(None, None, weights)\n",
    "    predicted_functions.append(predicted_function)\n",
    "    predictions = np.array([predicted_function.get_sign(x[1], x[2]) for x in X])\n",
    "    misclassified = predictions != y\n",
    "    in_sample_error = 1.0 * misclassified.sum()/len(misclassified)\n",
    "    in_sample_errors.append(in_sample_error)\n",
    "\n",
    "average_in_sample_error = np.array(in_sample_errors).mean()\n",
    "print average_in_sample_error\n",
    "print len(predicted_functions)"
   ]
  },
  {
   "cell_type": "code",
   "execution_count": 138,
   "metadata": {
    "collapsed": false
   },
   "outputs": [
    {
     "name": "stdout",
     "output_type": "stream",
     "text": [
      "0.0424\n"
     ]
    }
   ],
   "source": [
    "X_out, y_out = sample_data_set(target_function, number_of_points=1000)\n",
    "out_of_sample_errors = []\n",
    "for predicted_function in predicted_functions:\n",
    "    predictions = np.array([predicted_function.get_sign(x[1], x[2]) for x in X_out])\n",
    "    misclassified = predictions != y_out\n",
    "    out_of_sample_error = 1.0 * misclassified.sum()/len(misclassified)\n",
    "    out_of_sample_errors.append(out_of_sample_error)\n",
    "\n",
    "average_out_of_sample_error = np.array(out_of_sample_errors).mean()\n",
    "print average_out_of_sample_error  "
   ]
  },
  {
   "cell_type": "code",
   "execution_count": 162,
   "metadata": {
    "collapsed": true
   },
   "outputs": [],
   "source": [
    "def PLA(X, y, initial_weights, max_iterations = 15000, verbose=False):\n",
    "    w = initial_weights.copy()\n",
    "    iter = 0\n",
    "    while iter < max_iterations:\n",
    "        if verbose:\n",
    "            print \"Iteration {} w {}\".format(iter, w)\n",
    "        predictions = np.sign(np.dot(X, w))\n",
    "        misclassfied = predictions != y\n",
    "        num_misclassified = np.sum(misclassfied)\n",
    "        if num_misclassified == 0:\n",
    "            break\n",
    "        if verbose:\n",
    "            print \"Still misclassified: {}\".format(num_misclassified)\n",
    "        chosen = np.random.choice(np.where(misclassfied)[0])\n",
    "        w += X[chosen] * y[chosen]\n",
    "        iter += 1\n",
    "    if verbose:\n",
    "        print \"Returning iter {}\".format(iter)\n",
    "        print\n",
    "    return (iter+1 if iter < max_iterations else None, w)"
   ]
  },
  {
   "cell_type": "code",
   "execution_count": 164,
   "metadata": {
    "collapsed": false
   },
   "outputs": [
    {
     "name": "stdout",
     "output_type": "stream",
     "text": [
      "PLA took 6.8718 iterations on average to converge\n"
     ]
    }
   ],
   "source": [
    "number_of_experiments = 10000\n",
    "iterations = 0\n",
    "for i in range(number_of_experiments):\n",
    "    X_pla, y_pla = sample_data_set(target_function, number_of_points=10)\n",
    "    lin_reg_weights = linear_regression(X, y)\n",
    "    i, _ = PLA(X_pla, y_pla, lin_reg_weights)\n",
    "    if not i:\n",
    "        print \"Complain loudly\"\n",
    "        break\n",
    "    iterations += i\n",
    "iterations = iterations * 1.0 / number_of_experiments\n",
    "print \"PLA took {} iterations on average to converge\".format(iterations)"
   ]
  },
  {
   "cell_type": "code",
   "execution_count": 199,
   "metadata": {
    "collapsed": false
   },
   "outputs": [
    {
     "name": "stderr",
     "output_type": "stream",
     "text": [
      "/Users/isha/miniconda/lib/python2.7/site-packages/ipykernel/__main__.py:13: DeprecationWarning: using a non-integer number instead of an integer will result in an error in the future\n"
     ]
    },
    {
     "data": {
      "text/plain": [
       "<matplotlib.collections.PathCollection at 0x10a121450>"
      ]
     },
     "execution_count": 199,
     "metadata": {},
     "output_type": "execute_result"
    },
    {
     "data": {
      "image/png": "[encoded data removed]",
      "text/plain": [
       "<matplotlib.figure.Figure at 0x109d3ae50>"
      ]
     },
     "metadata": {},
     "output_type": "display_data"
    }
   ],
   "source": [
    "training_set_size = 20\n",
    "\n",
    "# Generate X's\n",
    "sample_x1 = list(np.random.uniform(-1, 1, size=training_set_size))\n",
    "sample_x2 = list(np.random.uniform(-1, 1, size=training_set_size))\n",
    "X = np.array([np.ones(len(sample_x1)), sample_x1, sample_x2]).transpose()\n",
    "\n",
    "# Generate y's\n",
    "sample_y = [np.sign(x[1] * x[1] + x[2] * x[2] - 0.6) for x in X]\n",
    "y = np.array(sample_y)\n",
    "\n",
    "# Flip signs of random 10% of points to introduce noise\n",
    "random_index = np.random.choice(range(len(y)), size=np.round((1.0*len(y))/10), replace=False, p=None)\n",
    "y[random_index] *= -1\n",
    "\n",
    "# Plot points\n",
    "plt.axis([x_min, x_max, y_min, y_max])\n",
    "plt.scatter(sample_x1, sample_x2, c=sample_y, marker='x')"
   ]
  },
  {
   "cell_type": "code",
   "execution_count": 203,
   "metadata": {
    "collapsed": false
   },
   "outputs": [
    {
     "name": "stdout",
     "output_type": "stream",
     "text": [
      "0.501636\n"
     ]
    },
    {
     "name": "stderr",
     "output_type": "stream",
     "text": [
      "/Users/isha/miniconda/lib/python2.7/site-packages/ipykernel/__main__.py:17: DeprecationWarning: using a non-integer number instead of an integer will result in an error in the future\n"
     ]
    }
   ],
   "source": [
    "avg_in_sample_error = 0\n",
    "number_of_experiments = 1000\n",
    "for i in range(number_of_experiments):\n",
    "    \n",
    "    training_set_size = 1000\n",
    "    \n",
    "    # Generate X's\n",
    "    sample_x1 = list(np.random.uniform(-1, 1, size=training_set_size))\n",
    "    sample_x2 = list(np.random.uniform(-1, 1, size=training_set_size))\n",
    "    X = np.array([np.ones(len(sample_x1)), sample_x1, sample_x2]).transpose()\n",
    "\n",
    "    # Generate y's\n",
    "    sample_y = [np.sign(x[1] * x[1] + x[2] * x[2] - 0.6) for x in X]\n",
    "    y = np.array(sample_y)\n",
    "\n",
    "    # Flip signs of random 10% of points to introduce noise\n",
    "    random_index = np.random.choice(range(len(y)), size=np.round((1.0*len(y))/10), replace=False, p=None)\n",
    "    y[random_index] *= -1\n",
    "\n",
    "    # Plot points\n",
    "    # plt.axis([x_min, x_max, y_min, y_max])\n",
    "    # plt.scatter(sample_x1, sample_x2, c=sample_y, marker='x')\n",
    "\n",
    "    weights = linear_regression(X, y)\n",
    "    predicted_function = Line(None, None, weights)\n",
    "    predictions = np.array([predicted_function.get_sign(x[1], x[2]) for x in X])\n",
    "    misclassified = predictions != y\n",
    "    avg_in_sample_error += 1.0 * misclassified.sum()/len(misclassified)\n",
    "\n",
    "avg_in_sample_error /= number_of_experiments\n",
    "print avg_in_sample_error"
   ]
  },
  {
   "cell_type": "code",
   "execution_count": 234,
   "metadata": {
    "collapsed": false
   },
   "outputs": [
    {
     "name": "stderr",
     "output_type": "stream",
     "text": [
      "/Users/isha/miniconda/lib/python2.7/site-packages/ipykernel/__main__.py:23: DeprecationWarning: using a non-integer number instead of an integer will result in an error in the future\n"
     ]
    },
    {
     "data": {
      "text/html": [
       "<div style=\"max-height:1000px;max-width:1500px;overflow:auto;\">\n",
       "<table border=\"1\" class=\"dataframe\">\n",
       "  <thead>\n",
       "    <tr style=\"text-align: right;\">\n",
       "      <th></th>\n",
       "      <th>0</th>\n",
       "      <th>1</th>\n",
       "      <th>2</th>\n",
       "      <th>3</th>\n",
       "      <th>4</th>\n",
       "      <th>5</th>\n",
       "    </tr>\n",
       "  </thead>\n",
       "  <tbody>\n",
       "    <tr>\n",
       "      <th>0</th>\n",
       "      <td>-1</td>\n",
       "      <td> 0.009174</td>\n",
       "      <td>-0.037275</td>\n",
       "      <td> 0.033677</td>\n",
       "      <td> 1.472436</td>\n",
       "      <td> 1.583772</td>\n",
       "    </tr>\n",
       "    <tr>\n",
       "      <th>1</th>\n",
       "      <td>-1</td>\n",
       "      <td>-0.031280</td>\n",
       "      <td> 0.004341</td>\n",
       "      <td>-0.030062</td>\n",
       "      <td> 1.385759</td>\n",
       "      <td> 1.687319</td>\n",
       "    </tr>\n",
       "    <tr>\n",
       "      <th>2</th>\n",
       "      <td>-1</td>\n",
       "      <td>-0.034984</td>\n",
       "      <td>-0.056874</td>\n",
       "      <td> 0.072083</td>\n",
       "      <td> 1.662526</td>\n",
       "      <td> 1.560251</td>\n",
       "    </tr>\n",
       "    <tr>\n",
       "      <th>3</th>\n",
       "      <td>-1</td>\n",
       "      <td> 0.062975</td>\n",
       "      <td> 0.061340</td>\n",
       "      <td> 0.015582</td>\n",
       "      <td> 1.558882</td>\n",
       "      <td> 1.507562</td>\n",
       "    </tr>\n",
       "    <tr>\n",
       "      <th>4</th>\n",
       "      <td>-1</td>\n",
       "      <td> 0.027430</td>\n",
       "      <td>-0.020894</td>\n",
       "      <td>-0.123512</td>\n",
       "      <td> 1.444096</td>\n",
       "      <td> 1.667487</td>\n",
       "    </tr>\n",
       "  </tbody>\n",
       "</table>\n",
       "</div>"
      ],
      "text/plain": [
       "   0         1         2         3         4         5\n",
       "0 -1  0.009174 -0.037275  0.033677  1.472436  1.583772\n",
       "1 -1 -0.031280  0.004341 -0.030062  1.385759  1.687319\n",
       "2 -1 -0.034984 -0.056874  0.072083  1.662526  1.560251\n",
       "3 -1  0.062975  0.061340  0.015582  1.558882  1.507562\n",
       "4 -1  0.027430 -0.020894 -0.123512  1.444096  1.667487"
      ]
     },
     "metadata": {},
     "output_type": "display_data"
    },
    {
     "data": {
      "text/html": [
       "<div style=\"max-height:1000px;max-width:1500px;overflow:auto;\">\n",
       "<table border=\"1\" class=\"dataframe\">\n",
       "  <thead>\n",
       "    <tr style=\"text-align: right;\">\n",
       "      <th></th>\n",
       "      <th>0</th>\n",
       "      <th>1</th>\n",
       "      <th>2</th>\n",
       "      <th>3</th>\n",
       "      <th>4</th>\n",
       "      <th>5</th>\n",
       "    </tr>\n",
       "  </thead>\n",
       "  <tbody>\n",
       "    <tr>\n",
       "      <th>count</th>\n",
       "      <td> 100</td>\n",
       "      <td> 100.000000</td>\n",
       "      <td> 100.000000</td>\n",
       "      <td> 100.000000</td>\n",
       "      <td> 100.000000</td>\n",
       "      <td> 100.000000</td>\n",
       "    </tr>\n",
       "    <tr>\n",
       "      <th>mean</th>\n",
       "      <td>  -1</td>\n",
       "      <td>   0.002071</td>\n",
       "      <td>  -0.004866</td>\n",
       "      <td>  -0.010456</td>\n",
       "      <td>   1.561519</td>\n",
       "      <td>   1.583509</td>\n",
       "    </tr>\n",
       "    <tr>\n",
       "      <th>std</th>\n",
       "      <td>   0</td>\n",
       "      <td>   0.048548</td>\n",
       "      <td>   0.048759</td>\n",
       "      <td>   0.076659</td>\n",
       "      <td>   0.069990</td>\n",
       "      <td>   0.064961</td>\n",
       "    </tr>\n",
       "    <tr>\n",
       "      <th>min</th>\n",
       "      <td>  -1</td>\n",
       "      <td>  -0.137429</td>\n",
       "      <td>  -0.116060</td>\n",
       "      <td>  -0.161898</td>\n",
       "      <td>   1.385759</td>\n",
       "      <td>   1.440437</td>\n",
       "    </tr>\n",
       "    <tr>\n",
       "      <th>25%</th>\n",
       "      <td>  -1</td>\n",
       "      <td>  -0.033497</td>\n",
       "      <td>  -0.036967</td>\n",
       "      <td>  -0.063795</td>\n",
       "      <td>   1.513904</td>\n",
       "      <td>   1.535263</td>\n",
       "    </tr>\n",
       "    <tr>\n",
       "      <th>50%</th>\n",
       "      <td>  -1</td>\n",
       "      <td>  -0.000594</td>\n",
       "      <td>  -0.012794</td>\n",
       "      <td>  -0.022000</td>\n",
       "      <td>   1.565490</td>\n",
       "      <td>   1.582170</td>\n",
       "    </tr>\n",
       "    <tr>\n",
       "      <th>75%</th>\n",
       "      <td>  -1</td>\n",
       "      <td>   0.040690</td>\n",
       "      <td>   0.032378</td>\n",
       "      <td>   0.038802</td>\n",
       "      <td>   1.602752</td>\n",
       "      <td>   1.631263</td>\n",
       "    </tr>\n",
       "    <tr>\n",
       "      <th>max</th>\n",
       "      <td>  -1</td>\n",
       "      <td>   0.091839</td>\n",
       "      <td>   0.100934</td>\n",
       "      <td>   0.169238</td>\n",
       "      <td>   1.737183</td>\n",
       "      <td>   1.740607</td>\n",
       "    </tr>\n",
       "  </tbody>\n",
       "</table>\n",
       "</div>"
      ],
      "text/plain": [
       "         0           1           2           3           4           5\n",
       "count  100  100.000000  100.000000  100.000000  100.000000  100.000000\n",
       "mean    -1    0.002071   -0.004866   -0.010456    1.561519    1.583509\n",
       "std      0    0.048548    0.048759    0.076659    0.069990    0.064961\n",
       "min     -1   -0.137429   -0.116060   -0.161898    1.385759    1.440437\n",
       "25%     -1   -0.033497   -0.036967   -0.063795    1.513904    1.535263\n",
       "50%     -1   -0.000594   -0.012794   -0.022000    1.565490    1.582170\n",
       "75%     -1    0.040690    0.032378    0.038802    1.602752    1.631263\n",
       "max     -1    0.091839    0.100934    0.169238    1.737183    1.740607"
      ]
     },
     "metadata": {},
     "output_type": "display_data"
    }
   ],
   "source": [
    "number_of_experiments = 100\n",
    "weights_NLT_ALL = []\n",
    "for i in range(number_of_experiments):\n",
    "    \n",
    "    verbose = number_of_experiments < 3\n",
    "    \n",
    "    training_set_size = 1000\n",
    "    \n",
    "    # Generate X's\n",
    "    sample_x1 = list(np.random.uniform(-1, 1, size=training_set_size))\n",
    "    sample_x2 = list(np.random.uniform(-1, 1, size=training_set_size))\n",
    "    X = pd.DataFrame(np.array([np.ones(len(sample_x1)), sample_x1, sample_x2]).transpose())\n",
    "    X.columns = ['x0', 'x1', 'x2']    \n",
    "    if verbose:\n",
    "        display(X.head())\n",
    "        \n",
    "    # Generate y's\n",
    "    y = np.sign(X.x1**2 + X.x2**2 - 0.6)\n",
    "    if verbose:\n",
    "        display(y.head())\n",
    "\n",
    "    # Flip signs of random 10% of points to introduce noise\n",
    "    random_index = np.random.choice(range(len(y)), size=np.round((1.0*len(y))/10), replace=False, p=None)\n",
    "    y[random_index] *= -1\n",
    "    if verbose:\n",
    "        print \"{} of {}: {}\".format(np.round((1.0*len(y))/10), len(y), random_index)\n",
    "\n",
    "    if verbose:\n",
    "        # Plot points\n",
    "        plt.axis([x_min, x_max, y_min, y_max])\n",
    "        plt.scatter(sample_x1, sample_x2, c=y.values, marker='x')\n",
    "        plt.show()\n",
    "    \n",
    "    if verbose:\n",
    "        weights = linear_regression(X, y)\n",
    "        weights /= abs(weights[0])\n",
    "        print \"Linear regression weights: {}\".format(weights)\n",
    "    \n",
    "    X_nlt = X.copy()\n",
    "    X_nlt['x12'] = X.x1*X.x2\n",
    "    X_nlt['x11'] = X.x1**2\n",
    "    X_nlt['x22'] = X.x2**2\n",
    "    if verbose:\n",
    "        display(X_nlt.head())\n",
    "    \n",
    "    weights_nlt = linear_regression(X_nlt, y)\n",
    "    weights_nlt /= abs(weights_nlt[0])\n",
    "    if verbose:\n",
    "        print \"Linear regression weights (after non linear transformation): {}\".format(weights_nlt)\n",
    "    \n",
    "    weights_NLT_ALL.append(weights_nlt)\n",
    "\n",
    "weights_NLT_ALL_df = pd.DataFrame(weights_NLT_ALL)\n",
    "display(weights_NLT_ALL_df.head())\n",
    "display(weights_NLT_ALL_df.describe())\n"
   ]
  },
  {
   "cell_type": "code",
   "execution_count": 250,
   "metadata": {
    "collapsed": false
   },
   "outputs": [
    {
     "name": "stdout",
     "output_type": "stream",
     "text": [
      "12.952 100\n",
      "0.12952\n"
     ]
    },
    {
     "name": "stderr",
     "output_type": "stream",
     "text": [
      "/Users/isha/miniconda/lib/python2.7/site-packages/ipykernel/__main__.py:15: DeprecationWarning: using a non-integer number instead of an integer will result in an error in the future\n"
     ]
    }
   ],
   "source": [
    "avg_out_of_sample_error = 0\n",
    "\n",
    "test_set_size = 1000\n",
    "# Generate X's\n",
    "sample_x1 = list(np.random.uniform(-1, 1, size=test_set_size))\n",
    "sample_x2 = list(np.random.uniform(-1, 1, size=test_set_size))\n",
    "X = pd.DataFrame(np.array([np.ones(len(sample_x1)), sample_x1, sample_x2]).transpose())\n",
    "X.columns = ['x0', 'x1', 'x2']    \n",
    "X['x12'] = X.x1*X.x2\n",
    "X['x11'] = X.x1**2\n",
    "X['x22'] = X.x2**2\n",
    "# Generate y's\n",
    "y = np.sign(X.x1**2 + X.x2**2 - 0.6)\n",
    "# Flip signs of random 10% of points to introduce noise\n",
    "random_index = np.random.choice(range(len(y)), size=np.round((1.0*len(y))/10), replace=False, p=None)\n",
    "y[random_index] *= -1\n",
    "\n",
    "for w in weights_NLT_ALL:\n",
    "    predictions = np.sign(X.dot(w))\n",
    "    misclassified = predictions != y\n",
    "    avg_out_of_sample_error += 1.0 * misclassified.sum()/len(misclassified)\n",
    "\n",
    "print avg_out_of_sample_error, len(weights_NLT_ALL)\n",
    "avg_out_of_sample_error /= len(weights_NLT_ALL)\n",
    "print avg_out_of_sample_error"
   ]
  },
  {
   "cell_type": "code",
   "execution_count": null,
   "metadata": {
    "collapsed": true
   },
   "outputs": [],
   "source": []
  },
  {
   "cell_type": "code",
   "execution_count": null,
   "metadata": {
    "collapsed": true
   },
   "outputs": [],
   "source": []
  }
 ],
 "metadata": {
  "kernelspec": {
   "display_name": "Python 2",
   "language": "python",
   "name": "python2"
  },
  "language_info": {
   "codemirror_mode": {
    "name": "ipython",
    "version": 2
   },
   "file_extension": ".py",
   "mimetype": "text/x-python",
   "name": "python",
   "nbconvert_exporter": "python",
   "pygments_lexer": "ipython2",
   "version": "2.7.10"
  }
 },
 "nbformat": 4,
 "nbformat_minor": 0
}
