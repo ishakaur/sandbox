{
 "cells": [
  {
   "cell_type": "markdown",
   "metadata": {},
   "source": [
    "<p>\n",
    "Homework: https://work.caltech.edu/homework/final.pdf\n",
    "<p>\n",
    "\n",
    "&#x2714; and &#x2718; Answers:\n",
    "\n",
    "1. e (65) &#x2714;\n",
    "2. d (average of logistic regressions is not necessarily a logistic regression) &#x2714;\n",
    "3. d &#x2714;\n",
    "4. d &#x2714;\n",
    "5. a &#x2714;\n",
    "6. b &#x2714;\n",
    "\n",
    "7. d &#x2714;\n",
    "8. b &#x2714;\n",
    "9. e &#x2714;\n",
    "10. a &#x2714;\n",
    "\n",
    "11. c (x = 0.5 separates maximally) &#x2714;\n",
    "12. c &#x2714;\n",
    "\n",
    "13. a &#x2714;\n",
    "14. e &#x2714;\n",
    "15. d &#x2714;\n",
    "16. d &#x2714;\n",
    "17. c &#x2714;\n",
    "18. a &#x2714;\n",
    "\n",
    "19. b (linearly increases) &#x2714;\n",
    "20. d --> c (is average, no better no worse) &#x2718;\n",
    "\n",
    "19/20 = 95% correct\n",
    "\n",
    "<p>\n",
    "Answer key: https://work.caltech.edu/homework/final_sol.pdf"
   ]
  },
  {
   "cell_type": "code",
   "execution_count": 1,
   "metadata": {
    "collapsed": true
   },
   "outputs": [],
   "source": [
    "import pandas as pd\n",
    "import numpy as np\n",
    "import matplotlib.pyplot as plt\n",
    "%matplotlib inline\n",
    "from IPython.display import display"
   ]
  },
  {
   "cell_type": "code",
   "execution_count": 2,
   "metadata": {
    "collapsed": true
   },
   "outputs": [],
   "source": [
    "# Questions 7 through 10\n",
    "train = pd.read_fwf('http://www.amlbook.com/data/zip/features.train', header=None, \n",
    "                    names=['digit', 'intensity', 'symmetry'])\n",
    "test = pd.read_fwf('http://www.amlbook.com/data/zip/features.test', header=None, \n",
    "                   names=['digit', 'intensity', 'symmetry'])"
   ]
  },
  {
   "cell_type": "code",
   "execution_count": 3,
   "metadata": {
    "collapsed": true
   },
   "outputs": [],
   "source": [
    "def add_bias(x):\n",
    "    '''Return (1, x1, x2)'''\n",
    "    x1 = x.iloc[:, 0]\n",
    "    x2 = x.iloc[:, 1]\n",
    "    \n",
    "    z = x.copy()\n",
    "    z.insert(0, 'bias', np.ones(len(x)))\n",
    "    return z\n",
    "\n",
    "def non_linear_transform(x):\n",
    "    '''Return (1, x1, x2, x1x2, x1^2, x2^2)'''\n",
    "    x1 = x.iloc[:, 0]\n",
    "    x2 = x.iloc[:, 1]\n",
    "    \n",
    "    z = x.copy()\n",
    "    z.insert(0, 'bias', np.ones(len(x)))\n",
    "    z.loc[:, 3] = x1 * x2\n",
    "    z.loc[:, 4] = x1 ** 2\n",
    "    z.loc[:, 5] = x2 ** 2\n",
    "    return z\n",
    "\n",
    "from numpy.linalg import inv\n",
    "def linear_regression_with_regularization(Z, y, lambda_reg):\n",
    "    Z_T_Z = np.dot(Z.T, Z)\n",
    "    Z_T_Z_reg = Z_T_Z + (lambda_reg * np.identity(np.size(Z_T_Z, 0)))\n",
    "    Z_T_Z_reg_inverse = inv(Z_T_Z_reg)\n",
    "    Z_dagger = np.dot(Z_T_Z_reg_inverse, Z.T)\n",
    "    weights = np.dot(Z_dagger, y)    \n",
    "    return weights\n",
    "\n",
    "from functools import partial\n",
    "def ova_transform(df, num):\n",
    "    df_copy = df.copy()\n",
    "    df_copy.digit = df_copy.digit.map(lambda x: 1 if x == num else -1)\n",
    "    return df_copy\n",
    "\n",
    "def ovo_transform(df, num, num2):\n",
    "    df_copy = df.loc[df.digit.isin([num, num2])].copy()\n",
    "    df_copy.digit = df_copy.digit.map(lambda x: 1 if x == num else -1)\n",
    "    return df_copy\n",
    "\n",
    "def error(W, X, y):\n",
    "    misclassified = np.sign(np.dot(X, W)) != y\n",
    "    return 1.0 * misclassified.sum()/len(misclassified)\n",
    "\n",
    "def process(train, test, ovo_or_ova_transform, predict_digit, transform, lambda_reg):\n",
    "    train = ovo_or_ova_transform(train, predict_digit)\n",
    "    test = ovo_or_ova_transform(test, predict_digit)\n",
    "\n",
    "    train_x = train.iloc[:, 1:]\n",
    "    train_y = train.iloc[:, 0]\n",
    "    train_z = transform(train_x)\n",
    "    \n",
    "    test_x = test.iloc[:, 1:]\n",
    "    test_y = test.iloc[:, 0]\n",
    "    test_z = transform(test_x)\n",
    "    \n",
    "    weights = linear_regression_with_regularization(train_z, train_y, lambda_reg)\n",
    "    E_in = error(weights, train_z, train_y)\n",
    "    E_out = error(weights, test_z, test_y)\n",
    "    print \"Digit: {}, Lambda: {}, Transform: {}, E_in: {}, E_out: {}\".format(\n",
    "        predict_digit, lambda_reg, transform.__name__, E_in, E_out)"
   ]
  },
  {
   "cell_type": "code",
   "execution_count": 4,
   "metadata": {
    "collapsed": false
   },
   "outputs": [
    {
     "name": "stdout",
     "output_type": "stream",
     "text": [
      "Digit: 5, Lambda: 1, Transform: add_bias, E_in: 0.0762584007681, E_out: 0.079720976582\n",
      "Digit: 6, Lambda: 1, Transform: add_bias, E_in: 0.0910711836511, E_out: 0.0847035376183\n",
      "Digit: 7, Lambda: 1, Transform: add_bias, E_in: 0.0884652311068, E_out: 0.0732436472347\n",
      "Digit: 8, Lambda: 1, Transform: add_bias, E_in: 0.0743382252092, E_out: 0.0827105132038\n",
      "Digit: 9, Lambda: 1, Transform: add_bias, E_in: 0.0883280757098, E_out: 0.0881913303438\n"
     ]
    }
   ],
   "source": [
    "for num in [5, 6, 7, 8, 9]:\n",
    "    process(train, test, ovo_or_ova_transform=ova_transform, predict_digit=num, transform=add_bias, lambda_reg=1)"
   ]
  },
  {
   "cell_type": "code",
   "execution_count": 5,
   "metadata": {
    "collapsed": false
   },
   "outputs": [
    {
     "name": "stdout",
     "output_type": "stream",
     "text": [
      "Digit: 0, Lambda: 1, Transform: non_linear_transform, E_in: 0.10231792621, E_out: 0.106626806178\n",
      "Digit: 1, Lambda: 1, Transform: non_linear_transform, E_in: 0.0123439857358, E_out: 0.02192326856\n",
      "Digit: 2, Lambda: 1, Transform: non_linear_transform, E_in: 0.100260595254, E_out: 0.0986547085202\n",
      "Digit: 3, Lambda: 1, Transform: non_linear_transform, E_in: 0.0902482512687, E_out: 0.0827105132038\n",
      "Digit: 4, Lambda: 1, Transform: non_linear_transform, E_in: 0.0894253188863, E_out: 0.0996512207275\n"
     ]
    }
   ],
   "source": [
    "for num in [0, 1, 2, 3, 4]:\n",
    "    process(train, test, ovo_or_ova_transform=ova_transform, predict_digit=num, transform=non_linear_transform, lambda_reg=1)"
   ]
  },
  {
   "cell_type": "code",
   "execution_count": 6,
   "metadata": {
    "collapsed": false
   },
   "outputs": [
    {
     "name": "stdout",
     "output_type": "stream",
     "text": [
      "Digit: 0, Lambda: 1, Transform: add_bias, E_in: 0.109312851461, E_out: 0.11509715994\n",
      "Digit: 0, Lambda: 1, Transform: non_linear_transform, E_in: 0.10231792621, E_out: 0.106626806178\n",
      "Digit: 1, Lambda: 1, Transform: add_bias, E_in: 0.0152242490742, E_out: 0.0224215246637\n",
      "Digit: 1, Lambda: 1, Transform: non_linear_transform, E_in: 0.0123439857358, E_out: 0.02192326856\n",
      "Digit: 2, Lambda: 1, Transform: add_bias, E_in: 0.100260595254, E_out: 0.0986547085202\n",
      "Digit: 2, Lambda: 1, Transform: non_linear_transform, E_in: 0.100260595254, E_out: 0.0986547085202\n",
      "Digit: 3, Lambda: 1, Transform: add_bias, E_in: 0.0902482512687, E_out: 0.0827105132038\n",
      "Digit: 3, Lambda: 1, Transform: non_linear_transform, E_in: 0.0902482512687, E_out: 0.0827105132038\n",
      "Digit: 4, Lambda: 1, Transform: add_bias, E_in: 0.0894253188863, E_out: 0.0996512207275\n",
      "Digit: 4, Lambda: 1, Transform: non_linear_transform, E_in: 0.0894253188863, E_out: 0.0996512207275\n",
      "Digit: 5, Lambda: 1, Transform: add_bias, E_in: 0.0762584007681, E_out: 0.079720976582\n",
      "Digit: 5, Lambda: 1, Transform: non_linear_transform, E_in: 0.0762584007681, E_out: 0.0792227204783\n",
      "Digit: 6, Lambda: 1, Transform: add_bias, E_in: 0.0910711836511, E_out: 0.0847035376183\n",
      "Digit: 6, Lambda: 1, Transform: non_linear_transform, E_in: 0.0910711836511, E_out: 0.0847035376183\n",
      "Digit: 7, Lambda: 1, Transform: add_bias, E_in: 0.0884652311068, E_out: 0.0732436472347\n",
      "Digit: 7, Lambda: 1, Transform: non_linear_transform, E_in: 0.0884652311068, E_out: 0.0732436472347\n",
      "Digit: 8, Lambda: 1, Transform: add_bias, E_in: 0.0743382252092, E_out: 0.0827105132038\n",
      "Digit: 8, Lambda: 1, Transform: non_linear_transform, E_in: 0.0743382252092, E_out: 0.0827105132038\n",
      "Digit: 9, Lambda: 1, Transform: add_bias, E_in: 0.0883280757098, E_out: 0.0881913303438\n",
      "Digit: 9, Lambda: 1, Transform: non_linear_transform, E_in: 0.0883280757098, E_out: 0.0881913303438\n"
     ]
    }
   ],
   "source": [
    "for num in range(10):\n",
    "    for transform in [add_bias, non_linear_transform]:\n",
    "        process(train, test, ovo_or_ova_transform=ova_transform, predict_digit=num, transform=transform, lambda_reg=1)"
   ]
  },
  {
   "cell_type": "code",
   "execution_count": 7,
   "metadata": {
    "collapsed": false
   },
   "outputs": [
    {
     "name": "stdout",
     "output_type": "stream",
     "text": [
      "Digit: 1, Lambda: 1, Transform: non_linear_transform, E_in: 0.00512491992313, E_out: 0.0259433962264\n",
      "Digit: 1, Lambda: 0.01, Transform: non_linear_transform, E_in: 0.00448430493274, E_out: 0.0283018867925\n"
     ]
    }
   ],
   "source": [
    "for lambda_reg in [1, 0.01]:\n",
    "    process(train, test, \n",
    "            ovo_or_ova_transform=partial(ovo_transform, num2=5), \n",
    "            predict_digit=1, \n",
    "            transform=non_linear_transform, \n",
    "            lambda_reg=lambda_reg)"
   ]
  },
  {
   "cell_type": "code",
   "execution_count": 8,
   "metadata": {
    "collapsed": false
   },
   "outputs": [],
   "source": [
    "# Questions 11 - 12\n",
    "import cvxopt\n",
    "\n",
    "def linear_kernel(x1, x2):\n",
    "    return np.dot(x1, x2)\n",
    "\n",
    "def hard_margin_SVM(X, y, kernel=linear_kernel):\n",
    "    '''\n",
    "    The SVM algorithm here is taken for academic use from publicly available code by Mathieu Blondel on GitHub.\n",
    "    https://gist.github.com/mblondel/586753/7b4f65314bb9a8b6ca82794b8b613b6edcd40d46\n",
    "    '''\n",
    "    n_samples, n_features = X.shape\n",
    "    \n",
    "    # Gram matrix\n",
    "    K = np.zeros((n_samples, n_samples))\n",
    "    for i in range(n_samples):\n",
    "        for j in range(n_samples):\n",
    "            K[i,j] = kernel(X[i], X[j])\n",
    "    \n",
    "    P = cvxopt.matrix(np.outer(y,y) * K)\n",
    "    q = cvxopt.matrix(np.ones(n_samples) * -1)\n",
    "    A = cvxopt.matrix(y, (1,n_samples))\n",
    "    b = cvxopt.matrix(0.0)\n",
    "    G = cvxopt.matrix(np.diag(np.ones(n_samples) * -1))\n",
    "    h = cvxopt.matrix(np.zeros(n_samples))\n",
    "    \n",
    "    # Solve QP problem\n",
    "    cvxopt.solvers.options['show_progress'] = False\n",
    "    solution = cvxopt.solvers.qp(P, q, G, h, A, b)\n",
    "\n",
    "    # Lagrange multipliers\n",
    "    a_all = np.ravel(solution['x'])\n",
    "\n",
    "    sv_index = a_all > 1e-5\n",
    "    ind = np.arange(len(a_all))[sv_index]\n",
    "\n",
    "    a = a_all[sv_index]\n",
    "    sv = X[sv_index]\n",
    "    sv_y = y[sv_index]\n",
    "    \n",
    "    # Intercept\n",
    "    b = 0\n",
    "    for n in range(len(a)):\n",
    "        b += sv_y[n]\n",
    "        b -= np.sum(a * sv_y * K[ind[n], sv_index])\n",
    "    b /= len(a)\n",
    "    \n",
    "    # Weight vector\n",
    "    if kernel == linear_kernel:\n",
    "        w = np.zeros(n_features)\n",
    "        for n in range(len(a)):\n",
    "            w += a[n] * sv_y[n] * sv[n]\n",
    "    else:\n",
    "        w = None\n",
    "    \n",
    "    return a, sv, sv_y, b, w"
   ]
  },
  {
   "cell_type": "code",
   "execution_count": 9,
   "metadata": {
    "collapsed": false
   },
   "outputs": [
    {
     "name": "stdout",
     "output_type": "stream",
     "text": [
      "Support vectors: 5\n"
     ]
    },
    {
     "data": {
      "image/png": "[encoded data removed]",
      "text/plain": [
       "<matplotlib.figure.Figure at 0x109197a90>"
      ]
     },
     "metadata": {},
     "output_type": "display_data"
    }
   ],
   "source": [
    "x1 = np.array([[1., 0., 0., -1., 0., 0., -2.]])\n",
    "x2 = np.array([[0., 1., -1., 0., 2., -2., 0.]])\n",
    "y = np.array([[-1., -1., -1., 1., 1., 1., 1.]])\n",
    "z1 = x2*x2 - 2*x1 - 1\n",
    "z2 = x1*x1 - 2*x2 + 1\n",
    "plt.scatter(z1, z2, c=y, marker='x')\n",
    "\n",
    "X = np.concatenate((x1.T, x2.T), axis=1)\n",
    "Y = y.T\n",
    "\n",
    "def custom_kernel(x1, x2):\n",
    "    return (1 + np.dot(x1, x2)) ** 2\n",
    "\n",
    "_, sv, _, _, _ = hard_margin_SVM(X, Y, kernel=custom_kernel)\n",
    "\n",
    "print \"Support vectors: {}\".format(len(sv))"
   ]
  },
  {
   "cell_type": "code",
   "execution_count": 10,
   "metadata": {
    "collapsed": false
   },
   "outputs": [],
   "source": [
    "# Questions 13 - 18\n",
    "import numpy.linalg\n",
    "\n",
    "def custom_target_function(x1, x2):\n",
    "    return np.sign(x2 - x1 + 0.25 * np.sin(np.pi * x1))\n",
    "    \n",
    "def generate_samples(N=100, target_function=custom_target_function, plot=False, x_min=-1, x_max=1, y_min=-1, y_max=1):\n",
    "    x1_s = list(np.random.uniform(x_min, x_max, size=N))\n",
    "    x2_s = list(np.random.uniform(y_min, y_max, size=N))\n",
    "    y_s = [target_function(x1, x2) for x1, x2 in zip(x1_s, x2_s)]\n",
    "    if plot:\n",
    "        plt.axis([x_min, x_max, y_min, y_max])\n",
    "        plt.scatter(x1_s, x2_s, c=y_s, marker='x')\n",
    "    X = np.array([x1_s, x2_s]).transpose()\n",
    "    X_with_bias = np.array([np.ones(N), x1_s, x2_s]).transpose()\n",
    "    y = np.array(y_s)\n",
    "    return X, X_with_bias, y\n",
    "\n",
    "def rbf(x1, x2, gamma):\n",
    "    return np.exp( - gamma * numpy.linalg.norm(x1-x2) ** 2)\n",
    "\n",
    "def lloyd_s_algorithm(X, K):\n",
    "    @np.vectorize\n",
    "    def find_closest_center(x1, x2):\n",
    "        distances = [numpy.linalg.norm((x1, x2) - center) for center in centers]\n",
    "        return distances.index(min(distances))\n",
    "    \n",
    "    X_df = pd.DataFrame(X, columns=['x1', 'x2'])\n",
    "    X_df['center'] = -1\n",
    "    centers = X[np.random.choice(X.shape[0], K)]\n",
    "    X_df['new_center'] = find_closest_center(X_df['x1'], X_df['x2'])\n",
    "    while sum(X_df.center != X_df.new_center):\n",
    "        X_df.center = X_df.new_center\n",
    "        for c in range(K):\n",
    "            subset = X_df[X_df.center == c]\n",
    "            if len(subset) == 0:\n",
    "                return None\n",
    "            centers[c] = np.array(np.mean(subset[['x1', 'x2']]))\n",
    "        X_df['new_center'] = find_closest_center(X_df['x1'], X_df['x2'])\n",
    "    return centers\n",
    "\n",
    "def make_phi(X, centers, gamma):\n",
    "    N = np.size(X, 0)\n",
    "    K = np.size(centers, 0)\n",
    "    phi = numpy.ones((N, K+1))\n",
    "    for n in range(N):\n",
    "        for k in range(K):\n",
    "            phi[n, k+1] = rbf(X[n, :], centers[k], gamma)\n",
    "    return phi\n",
    "\n",
    "def psuedo_inverse(Z, y):\n",
    "    Z_T_Z = np.dot(Z.T, Z)\n",
    "    Z_T_Z_inverse = inv(Z_T_Z)\n",
    "    Z_dagger = np.dot(Z_T_Z_inverse, Z.T)\n",
    "    weights = np.dot(Z_dagger, y)\n",
    "    return weights\n",
    "\n",
    "def get_predictions(weights, centers, gamma, X):\n",
    "    @np.vectorize\n",
    "    def point_prediction(x1, x2):\n",
    "        distances = [rbf((x1, x2), center, gamma) for center in centers]\n",
    "        distances.insert(0, 1)\n",
    "        return np.sign(np.dot(weights, distances))\n",
    "    \n",
    "    X_df = pd.DataFrame(X, columns=['x1', 'x2'])\n",
    "    return point_prediction(X_df['x1'], X_df['x2'])\n",
    "\n",
    "def error(predictions, y):\n",
    "    misclassified = predictions != y\n",
    "    return 1.0 * misclassified.sum()/len(misclassified)"
   ]
  },
  {
   "cell_type": "code",
   "execution_count": 11,
   "metadata": {
    "collapsed": false
   },
   "outputs": [
    {
     "data": {
      "image/png": "[encoded data removed]",
      "text/plain": [
       "<matplotlib.figure.Figure at 0x1091a5810>"
      ]
     },
     "metadata": {},
     "output_type": "display_data"
    }
   ],
   "source": [
    "num_samples = 100\n",
    "X, _, y = generate_samples(N=num_samples, plot=True)"
   ]
  },
  {
   "cell_type": "code",
   "execution_count": 12,
   "metadata": {
    "collapsed": true
   },
   "outputs": [],
   "source": [
    "num_centers = 12\n",
    "gamma = 1.5"
   ]
  },
  {
   "cell_type": "code",
   "execution_count": 13,
   "metadata": {
    "collapsed": false
   },
   "outputs": [
    {
     "name": "stdout",
     "output_type": "stream",
     "text": [
      "Empty cluster\n"
     ]
    }
   ],
   "source": [
    "centers = lloyd_s_algorithm(X, K=num_centers)\n",
    "if centers is not None:\n",
    "    phi = make_phi(X, centers, gamma)\n",
    "    rbf_weights = psuedo_inverse(phi, y)\n",
    "    rbf_predictions = get_predictions(rbf_weights, centers, gamma, X)\n",
    "    E_in_rbf = error(rbf_predictions, y)\n",
    "    print 'E_in_rbf', E_in_rbf\n",
    "else:\n",
    "    print \"Empty cluster\""
   ]
  },
  {
   "cell_type": "code",
   "execution_count": 14,
   "metadata": {
    "collapsed": false
   },
   "outputs": [
    {
     "name": "stdout",
     "output_type": "stream",
     "text": [
      "E_in_svm 0.0\n",
      "Support vectors: 8\n"
     ]
    }
   ],
   "source": [
    "a, sv, sv_y, b, _ = hard_margin_SVM(X, y, kernel=partial(rbf, gamma=gamma))\n",
    "svm_weights = a * sv_y\n",
    "svm_weights = np.insert(svm_weights, 0, b)\n",
    "svm_predictions = get_predictions(svm_weights, sv, gamma, X)\n",
    "E_in_svm = error(svm_predictions, y)\n",
    "print 'E_in_svm', E_in_svm\n",
    "print \"Support vectors: {}\".format(len(sv))"
   ]
  },
  {
   "cell_type": "code",
   "execution_count": 15,
   "metadata": {
    "collapsed": false
   },
   "outputs": [],
   "source": [
    "def experiment(runs=100, num_samples = 100, num_centers=9, gamma=1.5):\n",
    "    successful_runs = 0\n",
    "    run_with_empty = 0.0\n",
    "    total_empty_clusters = 0.0\n",
    "    non_separable_svms = 0.0\n",
    "    perfect_rbfs = 0.0\n",
    "    sum_E_in_rbf = 0.0\n",
    "    sum_E_out_rbf = 0.0\n",
    "    sum_E_out_svm = 0.0\n",
    "    kernel_wins = 0.0\n",
    "\n",
    "    def print_stats(total):\n",
    "        print '{:03d}: fail {:.2f}% empty {:.2f}, empty% {:.2f}%, perfect_rbf: {:.2f}%, E_in_rbf: {:.2f}, E_out_rbf {:.2f}%, E_out_svm {:.2f}%, kernel_wins {:.2f}%'.format(\n",
    "            total+1,\n",
    "            non_separable_svms*100.0/(total+1),\n",
    "            total_empty_clusters*1./successful_runs,\n",
    "            run_with_empty*100./successful_runs,\n",
    "            perfect_rbfs*100.0/successful_runs,\n",
    "            sum_E_in_rbf*100.0/successful_runs,\n",
    "            sum_E_out_rbf*100.0/successful_runs,\n",
    "            sum_E_out_svm*100.0/successful_runs,\n",
    "            kernel_wins*100.0/successful_runs\n",
    "        )\n",
    "\n",
    "    for total in range(runs):\n",
    "        empty_clusters = 0\n",
    "        non_separable_svms = 0\n",
    "        X, _, y = generate_samples(N=num_samples, plot=False)\n",
    "        X_out, _, y_out = generate_samples(N=10*num_samples, plot=False)\n",
    "        centers = lloyd_s_algorithm(X, K=num_centers)\n",
    "        while centers is None:\n",
    "            empty_clusters += 1\n",
    "            centers = lloyd_s_algorithm(X, K=num_centers)\n",
    "        phi = make_phi(X, centers, gamma)\n",
    "        rbf_weights = psuedo_inverse(phi, y)\n",
    "        E_in_rbf = error(get_predictions(rbf_weights, centers, gamma, X), y)\n",
    "        E_out_rbf = error(get_predictions(rbf_weights, centers, gamma, X_out), y_out)\n",
    "        a, sv, sv_y, b, _ = hard_margin_SVM(X, y, kernel=partial(rbf, gamma=gamma))\n",
    "        svm_weights = a * sv_y\n",
    "        svm_weights = np.insert(svm_weights, 0, b)\n",
    "        E_in_svm = error(get_predictions(svm_weights, sv, gamma, X), y)\n",
    "        E_out_svm = error(get_predictions(svm_weights, sv, gamma, X_out), y_out)\n",
    "        if E_in_rbf == 0:\n",
    "            perfect_rbfs += 1\n",
    "        if E_in_svm != 0:\n",
    "            non_separable_svms += 1\n",
    "        else:\n",
    "            successful_runs += 1\n",
    "            total_empty_clusters += empty_clusters\n",
    "            if empty_clusters:\n",
    "                run_with_empty += 1\n",
    "            sum_E_in_rbf += E_in_rbf\n",
    "            sum_E_out_rbf += E_out_rbf\n",
    "            sum_E_out_svm += E_out_svm\n",
    "            if E_out_svm < E_out_rbf:\n",
    "                kernel_wins += 1\n",
    "    print_stats(total)"
   ]
  },
  {
   "cell_type": "code",
   "execution_count": 16,
   "metadata": {
    "collapsed": false
   },
   "outputs": [
    {
     "name": "stdout",
     "output_type": "stream",
     "text": [
      "200: fail 0.00% empty 0.44, empty% 31.50%, perfect_rbf: 2.50%, E_in_rbf: 3.14, E_out_rbf 5.85%, E_out_svm 3.18%, kernel_wins 91.00%\n"
     ]
    }
   ],
   "source": [
    "experiment(runs=200, num_samples = 100, num_centers=9, gamma=1.5)"
   ]
  },
  {
   "cell_type": "code",
   "execution_count": 17,
   "metadata": {
    "collapsed": false
   },
   "outputs": [
    {
     "name": "stdout",
     "output_type": "stream",
     "text": [
      "200: fail 0.00% empty 1.04, empty% 51.50%, perfect_rbf: 9.50%, E_in_rbf: 2.13, E_out_rbf 4.65%, E_out_svm 3.00%, kernel_wins 81.00%\n"
     ]
    }
   ],
   "source": [
    "experiment(runs=200, num_samples = 100, num_centers=12, gamma=1.5)"
   ]
  },
  {
   "cell_type": "code",
   "execution_count": 18,
   "metadata": {
    "collapsed": false
   },
   "outputs": [
    {
     "name": "stdout",
     "output_type": "stream",
     "text": [
      "200: fail 0.00% empty 0.43, empty% 29.00%, perfect_rbf: 1.00%, E_in_rbf: 3.69, E_out_rbf 6.09%, E_out_svm 3.30%, kernel_wins 91.50%\n"
     ]
    }
   ],
   "source": [
    "experiment(runs=200, num_samples = 100, num_centers=9, gamma=2)"
   ]
  },
  {
   "cell_type": "code",
   "execution_count": 19,
   "metadata": {
    "collapsed": false
   },
   "outputs": [],
   "source": [
    "def rbf_only_experiment(runs=100, num_samples = 100, centers=None, gammas=None, num_centers=9, gamma=1.5):\n",
    "    down_down = 0.0\n",
    "    down_up = 0.0\n",
    "    up_down = 0.0\n",
    "    up_up = 0.0\n",
    "    same = 0.0\n",
    "    \n",
    "    def print_stats(total):\n",
    "        print '{:03d}: down_down: {:.2f}%, down_up: {:.2f}%, up_down: {:.2f}%, up_up: {:.2f}%, same: {:.2f}%'.format(\n",
    "            total+1,\n",
    "            down_down*100.0/(total+1),\n",
    "            down_up*100.0/(total+1),\n",
    "            up_down*100.0/(total+1),\n",
    "            up_up*100.0/(total+1),\n",
    "            same*100.0/(total+1),\n",
    "        )\n",
    "\n",
    "    for total in range(runs):\n",
    "        empty_clusters = 0\n",
    "        non_separable_svms = 0\n",
    "        X, _, y = generate_samples(N=num_samples, plot=False)\n",
    "        X_out, _, y_out = generate_samples(N=10*num_samples, plot=False)\n",
    "\n",
    "        E_in = []\n",
    "        E_out = []\n",
    "        if centers:\n",
    "            for num_centers in centers:\n",
    "                clusters = lloyd_s_algorithm(X, K=num_centers)\n",
    "                while clusters is None:\n",
    "                    empty_clusters += 1\n",
    "                    clusters = lloyd_s_algorithm(X, K=num_centers)\n",
    "                phi = make_phi(X, clusters, gamma)\n",
    "                rbf_weights = psuedo_inverse(phi, y)\n",
    "                E_in.append(error(get_predictions(rbf_weights, clusters, gamma, X), y))\n",
    "                E_out.append(error(get_predictions(rbf_weights, clusters, gamma, X_out), y_out))\n",
    "        elif gammas:\n",
    "            for gamma in gammas:\n",
    "                clusters = lloyd_s_algorithm(X, K=num_centers)\n",
    "                while clusters is None:\n",
    "                    empty_clusters += 1\n",
    "                    clusters = lloyd_s_algorithm(X, K=num_centers)\n",
    "                phi = make_phi(X, clusters, gamma)\n",
    "                rbf_weights = psuedo_inverse(phi, y)\n",
    "                E_in.append(error(get_predictions(rbf_weights, clusters, gamma, X), y))\n",
    "                E_out.append(error(get_predictions(rbf_weights, clusters, gamma, X_out), y_out))\n",
    "        else:\n",
    "            raise Exception(\"Both centers and gammas can't be None\")\n",
    "        if E_in[1] < E_in[0]:\n",
    "            if E_out[1] < E_out[0]:\n",
    "                down_down += 1\n",
    "            elif E_out[1] > E_out[0]:\n",
    "                down_up += 1\n",
    "        elif E_in[1] > E_in[0]:\n",
    "            if E_out[1] < E_out[0]:\n",
    "                up_down += 1\n",
    "            elif E_out[1] > E_out[0]:\n",
    "                up_up += 1\n",
    "        elif E_out[1] == E_out[0]:\n",
    "            same += 1\n",
    "    print_stats(total)"
   ]
  },
  {
   "cell_type": "code",
   "execution_count": 21,
   "metadata": {
    "collapsed": false
   },
   "outputs": [
    {
     "name": "stdout",
     "output_type": "stream",
     "text": [
      "200: down_down: 54.00%, down_up: 8.50%, up_down: 5.50%, up_up: 7.00%, same: 2.00%\n"
     ]
    }
   ],
   "source": [
    "rbf_only_experiment(runs=200, num_samples = 100, centers=[9, 12], gammas=None, num_centers=9, gamma=1.5)"
   ]
  },
  {
   "cell_type": "code",
   "execution_count": 22,
   "metadata": {
    "collapsed": false
   },
   "outputs": [
    {
     "name": "stdout",
     "output_type": "stream",
     "text": [
      "200: down_down: 25.00%, down_up: 10.00%, up_down: 8.50%, up_up: 36.00%, same: 2.00%\n"
     ]
    }
   ],
   "source": [
    "rbf_only_experiment(runs=200, num_samples = 100, centers=None, gammas=[1.5, 2], num_centers=9, gamma=1.5)"
   ]
  },
  {
   "cell_type": "code",
   "execution_count": null,
   "metadata": {
    "collapsed": true
   },
   "outputs": [],
   "source": []
  }
 ],
 "metadata": {
  "kernelspec": {
   "display_name": "Python 2",
   "language": "python",
   "name": "python2"
  },
  "language_info": {
   "codemirror_mode": {
    "name": "ipython",
    "version": 2
   },
   "file_extension": ".py",
   "mimetype": "text/x-python",
   "name": "python",
   "nbconvert_exporter": "python",
   "pygments_lexer": "ipython2",
   "version": "2.7.10"
  }
 },
 "nbformat": 4,
 "nbformat_minor": 0
}
