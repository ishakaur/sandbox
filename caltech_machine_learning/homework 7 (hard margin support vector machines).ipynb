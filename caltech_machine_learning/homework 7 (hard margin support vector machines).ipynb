{
 "cells": [
  {
   "cell_type": "markdown",
   "metadata": {},
   "source": [
    "<p>\n",
    "Homework: https://work.caltech.edu/homework/hw7.pdf\n",
    "<p>\n",
    "\n",
    "&#x2714;\n",
    "Answers:\n",
    "1. d &#x2714;\n",
    "2. e &#x2714;\n",
    "3. d &#x2714;\n",
    "4. d &#x2714;\n",
    "5. b &#x2714;\n",
    "6. d &#x2714;\n",
    "7. c &#x2714;\n",
    "8. c &#x2714;\n",
    "9. d &#x2714;\n",
    "10. b &#x2714;\n",
    "\n",
    "<p>\n",
    "Answer key: https://work.caltech.edu/homework/hw7_sol.pdf"
   ]
  },
  {
   "cell_type": "code",
   "execution_count": 2,
   "metadata": {
    "collapsed": true
   },
   "outputs": [],
   "source": [
    "import pandas as pd\n",
    "import numpy as np\n",
    "import matplotlib.pyplot as plt\n",
    "%matplotlib inline\n",
    "from IPython.display import display"
   ]
  },
  {
   "cell_type": "code",
   "execution_count": null,
   "metadata": {
    "collapsed": false
   },
   "outputs": [],
   "source": [
    "# Questions 1 through 5\n",
    "# training set: http://work.caltech.edu/data/in.dta\n",
    "# test set: http://work.caltech.edu/data/out.dta\n",
    "train = pd.read_fwf('http://work.caltech.edu/data/in.dta', header=None)\n",
    "train_x = train.iloc[:, :2]\n",
    "train_y = train.iloc[:, 2]\n",
    "\n",
    "test = pd.read_fwf('http://work.caltech.edu/data/out.dta', header=None)\n",
    "test_x = test.iloc[:, :2]\n",
    "test_y = test.iloc[:, 2]"
   ]
  },
  {
   "cell_type": "code",
   "execution_count": null,
   "metadata": {
    "collapsed": false
   },
   "outputs": [],
   "source": [
    "def transform(x):\n",
    "    x1 = x.iloc[:, 0]\n",
    "    x2 = x.iloc[:, 1]\n",
    "    \n",
    "    z = pd.DataFrame(np.ones(len(x)))\n",
    "    z.loc[:, 1] = x1\n",
    "    z.loc[:, 2] = x2\n",
    "    z.loc[:, 3] = x1 ** 2\n",
    "    z.loc[:, 4] = x2 ** 2\n",
    "    z.loc[:, 5] = x1 * x2\n",
    "    z.loc[:, 6] = np.abs(x1 - x2)\n",
    "    z.loc[:, 7] = np.abs(x1 + x2)\n",
    "    return z"
   ]
  },
  {
   "cell_type": "code",
   "execution_count": null,
   "metadata": {
    "collapsed": true
   },
   "outputs": [],
   "source": [
    "train_z = transform(train_x)\n",
    "test_z = transform(test_x)"
   ]
  },
  {
   "cell_type": "code",
   "execution_count": null,
   "metadata": {
    "collapsed": false
   },
   "outputs": [],
   "source": [
    "from numpy.linalg import inv\n",
    "def linear_regression(Z, y):\n",
    "    Z_T_Z = np.dot(Z.T, Z)\n",
    "    Z_T_Z_inverse = inv(Z_T_Z)\n",
    "    Z_dagger = np.dot(Z_T_Z_inverse, Z.T)\n",
    "    weights = np.dot(Z_dagger, y)\n",
    "    return weights"
   ]
  },
  {
   "cell_type": "code",
   "execution_count": null,
   "metadata": {
    "collapsed": false
   },
   "outputs": [],
   "source": [
    "def error(W, X, y):\n",
    "    misclassified = np.sign(np.dot(X, W)) != y\n",
    "    return 1.0 * misclassified.sum()/len(misclassified)"
   ]
  },
  {
   "cell_type": "code",
   "execution_count": null,
   "metadata": {
    "collapsed": false
   },
   "outputs": [],
   "source": [
    "def calc_error(X, y, X_val, y_val, X_test, y_test):\n",
    "    weights = linear_regression(X, y)\n",
    "    print \"train   \", np.round(error(weights, X, y), 8)\n",
    "    print \"validate\", np.round(error(weights, X_val, y_val), 8)\n",
    "    print \"test    \", np.round(error(weights, X_test, y_test), 8)"
   ]
  },
  {
   "cell_type": "code",
   "execution_count": null,
   "metadata": {
    "collapsed": false
   },
   "outputs": [],
   "source": [
    "train_set_size = 25\n",
    "\n",
    "z_train = train_z.head(train_set_size)\n",
    "y_train = train_y.head(train_set_size)\n",
    "\n",
    "z_validate = train_z.tail(len(train_z) - train_set_size)\n",
    "y_validate = train_y.tail(len(train_z) - train_set_size)\n",
    "\n",
    "z_test = test_z\n",
    "y_test = test_y"
   ]
  },
  {
   "cell_type": "code",
   "execution_count": null,
   "metadata": {
    "collapsed": false
   },
   "outputs": [],
   "source": [
    "for k in [3, 4, 5, 6, 7]:\n",
    "    print \"Trying k: \", k\n",
    "    calc_error(z_train.ix[:,0:k], y_train, \n",
    "               z_validate.ix[:,0:k], y_validate,\n",
    "               z_test.ix[:,0:k], y_test)"
   ]
  },
  {
   "cell_type": "code",
   "execution_count": null,
   "metadata": {
    "collapsed": false
   },
   "outputs": [],
   "source": [
    "for k in [3, 4, 5, 6, 7]:\n",
    "    print \"Trying k: \", k\n",
    "    calc_error(z_validate.ix[:,0:k], y_validate,\n",
    "               z_train.ix[:,0:k], y_train, \n",
    "               z_test.ix[:,0:k], y_test)"
   ]
  },
  {
   "cell_type": "code",
   "execution_count": null,
   "metadata": {
    "collapsed": false
   },
   "outputs": [],
   "source": [
    "#Question 6\n",
    "\n",
    "N=1000\n",
    "e1 = np.random.uniform(size=N)\n",
    "e2 = np.random.uniform(size=N)\n",
    "e = np.minimum(e1, e2)\n",
    "\n",
    "print np.mean(e1), np.mean(e2), np.mean(e)"
   ]
  },
  {
   "cell_type": "code",
   "execution_count": 73,
   "metadata": {
    "collapsed": false
   },
   "outputs": [
    {
     "name": "stdout",
     "output_type": "stream",
     "text": [
      "0: Rho: 2.39, Value: 85.32\n",
      "1: Rho: 0.86, Value: 27.64\n",
      "2: Rho: 4.34, Value: -0.0\n",
      "3: Rho: 2.56, Value: 90.0\n",
      "4: Rho: 0, Value: 15\n",
      "5: Rho: 1, Value: 32\n"
     ]
    }
   ],
   "source": [
    "# Question 7\n",
    "from math import sqrt\n",
    "for index, rho in enumerate([sqrt(sqrt(3) + 4),\n",
    "                             sqrt(sqrt(3) - 1),\n",
    "                             sqrt(9 + 4 * sqrt(6)),\n",
    "                             sqrt(9 - sqrt(6)),\n",
    "                             0,\n",
    "                             1\n",
    "                            ]):\n",
    "    rho_plus_1_sq = (rho + 1) ** 2\n",
    "    rho_minus_1_sq = (rho - 1) ** 2\n",
    "    value = 8 * rho_plus_1_sq + 8 * rho_minus_1_sq - rho_plus_1_sq * rho_minus_1_sq\n",
    "    print \"{}: Rho: {}, Value: {}\".format(index, np.round(rho, 2), np.round(value, 2))"
   ]
  },
  {
   "cell_type": "code",
   "execution_count": 6,
   "metadata": {
    "collapsed": false
   },
   "outputs": [
    {
     "data": {
      "text/plain": [
       "[<matplotlib.lines.Line2D at 0x1095586d0>]"
      ]
     },
     "execution_count": 6,
     "metadata": {},
     "output_type": "execute_result"
    },
    {
     "data": {
      "image/png": "[encoded data removed]",
      "text/plain": [
       "<matplotlib.figure.Figure at 0x1096bf050>"
      ]
     },
     "metadata": {},
     "output_type": "display_data"
    }
   ],
   "source": [
    "rho = np.arange(0, 5, .01);\n",
    "def f(rho):\n",
    "    rho_plus_1_sq = (rho + 1) ** 2\n",
    "    rho_minus_1_sq = (rho - 1) ** 2\n",
    "    return 8 * rho_plus_1_sq + 8 * rho_minus_1_sq - rho_plus_1_sq * rho_minus_1_sq\n",
    "plt.plot(rho, f(rho))"
   ]
  },
  {
   "cell_type": "code",
   "execution_count": 41,
   "metadata": {
    "collapsed": false
   },
   "outputs": [],
   "source": [
    "# Questions 8 through 10\n",
    "\n",
    "from collections import namedtuple\n",
    "\n",
    "Point = namedtuple('Point', ['x', 'y'])\n",
    "\n",
    "class Line:\n",
    "    def __init__(self, weights=None, points=None):\n",
    "        if (weights is None and points is None) or (weights is not None and points is not None):\n",
    "            raise ValueError(\"Either weights or points, but only one of them, must be provided to specify the line\")\n",
    "        if weights is not None:\n",
    "            assert len(weights) == 3\n",
    "            w0, w1, w2 = weights\n",
    "            w0 /= w2\n",
    "            w1 /= w2\n",
    "            self.intercept = -w0\n",
    "            self.slope = -w1\n",
    "        else:\n",
    "            assert len(points) >= 2\n",
    "            self.slope = (points[1].y-points[0].y)/(points[1].x-points[0].x)\n",
    "            self.intercept = points[0].y - self.slope * points[0].x\n",
    "    \n",
    "    def get_y(self, x):\n",
    "        return self.intercept + self.slope * x\n",
    "    \n",
    "    def get_sign(self, x, y):\n",
    "        return np.sign(- self.intercept - self.slope*x + y )\n",
    "    \n",
    "    def get_weights(self):\n",
    "        return np.array([-self.intercept, -self.slope, 1])\n",
    "\n",
    "def make_target_function(plot=False, x_min=-1, x_max=1, y_min=-1, y_max=1):\n",
    "    x1_s = list(np.random.uniform(x_min, x_max, size=2))\n",
    "    x2_s = list(np.random.uniform(y_min, y_max, size=2))\n",
    "    points = [Point(x1_s[i], x2_s[i]) for i in range(len(x1_s))]\n",
    "    target_function = Line(points=points)\n",
    "    if plot:\n",
    "        plt.axis([x_min, x_max, y_min, y_max])\n",
    "        plt.scatter(x1_s, x2_s, color='#006400')\n",
    "        plt.plot([x_min, x_max], [target_function.get_y(x_min), target_function.get_y(x_max)], color='green')\n",
    "    return target_function\n",
    "\n",
    "def generate_samples(target_function, N, plot=False, x_min=-1, x_max=1, y_min=-1, y_max=1):\n",
    "    x1_s = list(np.random.uniform(x_min, x_max, size=N))\n",
    "    x2_s = list(np.random.uniform(y_min, y_max, size=N))\n",
    "    y_s = [target_function.get_sign(x1, x2) for x1, x2 in zip(x1_s, x2_s)]\n",
    "    if plot:\n",
    "        plt.axis([x_min, x_max, y_min, y_max])\n",
    "        plt.scatter(x1_s, x2_s, c=y_s, marker='x')\n",
    "    X = np.array([x1_s, x2_s]).transpose()\n",
    "    X_with_bias = np.array([np.ones(N), x1_s, x2_s]).transpose()\n",
    "    y = np.array(y_s)\n",
    "    return X, X_with_bias, y\n",
    "\n",
    "def score(target_function, predicted_function, large_N=10000, x_min=-1, x_max=1, y_min=-1, y_max=1):\n",
    "    test_sample_x1 = list(np.random.uniform(x_min, x_max, size=large_N))\n",
    "    test_sample_x2 = list(np.random.uniform(y_min, y_max, size=large_N))\n",
    "    test_sample_y = [target_function.get_sign(x1, x2) for x1, x2 in zip(test_sample_x1, test_sample_x2)]\n",
    "    test_sample_y_pred = [predicted_function.get_sign(x1, x2) for x1, x2 in zip(test_sample_x1, test_sample_x2)]\n",
    "    return 1.0 * np.sum(np.array(test_sample_y) != np.array(test_sample_y_pred))/len(test_sample_y)"
   ]
  },
  {
   "cell_type": "code",
   "execution_count": 42,
   "metadata": {
    "collapsed": false
   },
   "outputs": [
    {
     "name": "stdout",
     "output_type": "stream",
     "text": [
      "PLA weights: [-3.         -4.53143328  2.28251987]\n",
      "Predicted function performed at 0.4% inaccuracy on out of sample data set\n"
     ]
    },
    {
     "data": {
      "image/png": "[encoded data removed]",
      "text/plain": [
       "<matplotlib.figure.Figure at 0x10cd72cd0>"
      ]
     },
     "metadata": {},
     "output_type": "display_data"
    }
   ],
   "source": [
    "def PLA(X, y, initial_weights, plot=False, max_iterations = 15000, verbose=False):\n",
    "    w = initial_weights.copy()\n",
    "    iter = 0\n",
    "    while iter < max_iterations:\n",
    "        if verbose:\n",
    "            print \"Iteration {} w {}\".format(iter, w)\n",
    "        predictions = np.sign(np.dot(X, w))\n",
    "        misclassfied = predictions != y\n",
    "        num_misclassified = np.sum(misclassfied)\n",
    "        if num_misclassified == 0:\n",
    "            break\n",
    "        if verbose:\n",
    "            print \"Still misclassified: {}\".format(num_misclassified)\n",
    "        chosen = np.random.choice(np.where(misclassfied)[0])\n",
    "        w += X[chosen] * y[chosen]\n",
    "        iter += 1\n",
    "    if verbose:\n",
    "        print \"Returning iter {}\".format(iter)\n",
    "        print\n",
    "    return (iter+1 if iter < max_iterations else None, w)\n",
    "\n",
    "def PLA_run(N, plot=False, x_min=-1, x_max=1, y_min=-1, y_max=1):\n",
    "    target_function = make_target_function(plot)\n",
    "    _, X, y = generate_samples(target_function, N, plot=plot)\n",
    "    while (1 not in y or -1 not in y):\n",
    "        target_function = make_target_function(plot)\n",
    "        _, X, y = generate_samples(target_function, N, plot=plot)\n",
    "    _, pla_w = PLA(X, y, np.array([0., 0., 0.]))\n",
    "    if plot:\n",
    "        print \"PLA weights: {}\".format(pla_w)\n",
    "    predicted_function = Line(weights=pla_w)\n",
    "    if plot:\n",
    "        plt.plot([x_min, x_max], [predicted_function.get_y(x_min), predicted_function.get_y(x_max)], color='purple')\n",
    "    inaccuracy = score(target_function, predicted_function)\n",
    "    return inaccuracy\n",
    "\n",
    "inaccuracy = PLA_run(N=100, plot=True)\n",
    "print \"Predicted function performed at {}% inaccuracy on out of sample data set\".format(inaccuracy*100)"
   ]
  },
  {
   "cell_type": "code",
   "execution_count": 43,
   "metadata": {
    "collapsed": false
   },
   "outputs": [
    {
     "name": "stdout",
     "output_type": "stream",
     "text": [
      "0.023127\n"
     ]
    }
   ],
   "source": [
    "runs=100\n",
    "N=100\n",
    "\n",
    "print np.mean([PLA_run(N) for i in range(runs)], axis=0)"
   ]
  },
  {
   "cell_type": "code",
   "execution_count": 44,
   "metadata": {
    "collapsed": false
   },
   "outputs": [
    {
     "name": "stdout",
     "output_type": "stream",
     "text": [
      "SVM weights: [-14.59586421   3.98795887  17.41147751]\n",
      "Predicted function performed at 0.68% inaccuracy on out of sample data set (3 support vectors)\n"
     ]
    },
    {
     "data": {
      "image/png": "[encoded data removed]",
      "text/plain": [
       "<matplotlib.figure.Figure at 0x10948e790>"
      ]
     },
     "metadata": {},
     "output_type": "display_data"
    }
   ],
   "source": [
    "import cvxopt\n",
    "\n",
    "def linear_kernel(x1, x2):\n",
    "    return np.dot(x1, x2)\n",
    "\n",
    "def SVM(X, y, kernel=linear_kernel):\n",
    "    '''\n",
    "    The SVM algorithm here is taken for academic use from publicly available code by Mathieu Blondel on GitHub.\n",
    "    https://gist.github.com/mblondel/586753/7b4f65314bb9a8b6ca82794b8b613b6edcd40d46\n",
    "    '''\n",
    "    n_samples, n_features = X.shape\n",
    "\n",
    "    # Gram matrix\n",
    "    K = np.zeros((n_samples, n_samples))\n",
    "    for i in range(n_samples):\n",
    "        for j in range(n_samples):\n",
    "            K[i,j] = kernel(X[i], X[j])\n",
    "\n",
    "    P = cvxopt.matrix(np.outer(y,y) * K)\n",
    "    q = cvxopt.matrix(np.ones(n_samples) * -1)\n",
    "    A = cvxopt.matrix(y, (1,n_samples))\n",
    "    b = cvxopt.matrix(0.0)\n",
    "    G = cvxopt.matrix(np.diag(np.ones(n_samples) * -1))\n",
    "    h = cvxopt.matrix(np.zeros(n_samples))\n",
    "\n",
    "    # Solve QP problem\n",
    "    cvxopt.solvers.options['show_progress'] = False\n",
    "    solution = cvxopt.solvers.qp(P, q, G, h, A, b)\n",
    "\n",
    "    # Lagrange multipliers\n",
    "    a_all = np.ravel(solution['x'])\n",
    "\n",
    "    sv_index = a_all > 1e-5\n",
    "    ind = np.arange(len(a_all))[sv_index]\n",
    "\n",
    "    a = a_all[sv_index]\n",
    "    sv = X[sv_index]\n",
    "    sv_y = y[sv_index]\n",
    "\n",
    "    # Intercept\n",
    "    b = 0\n",
    "    for n in range(len(a)):\n",
    "        b += sv_y[n]\n",
    "        b -= np.sum(a * sv_y * K[ind[n], sv_index])\n",
    "    b /= len(a)\n",
    "\n",
    "    # Weight vector\n",
    "    w = np.zeros(n_features)\n",
    "    for n in range(len(a)):\n",
    "        w += a[n] * sv_y[n] * sv[n]\n",
    "    \n",
    "    return a, sv, sv_y, b, w\n",
    "\n",
    "def SVM_run(N, plot=False, x_min=-1, x_max=1, y_min=-1, y_max=1):\n",
    "    target_function = make_target_function(plot)\n",
    "    X, _, y = generate_samples(target_function, N, plot=plot)\n",
    "    while (1 not in y or -1 not in y):\n",
    "        target_function = make_target_function(plot)\n",
    "        X, _, y = generate_samples(target_function, N, plot=plot)\n",
    "    a, sv, sv_y, b, w = SVM(X, y)\n",
    "    sv_s = len(sv)\n",
    "    svm_w = np.insert(w, 0, b)\n",
    "    if plot:\n",
    "        print \"SVM weights: {}\".format(svm_w)\n",
    "    predicted_function = Line(weights=svm_w)\n",
    "    if plot:\n",
    "        plt.plot([x_min, x_max], [predicted_function.get_y(x_min), predicted_function.get_y(x_max)], color='orange')\n",
    "    inaccuracy = score(target_function, predicted_function)\n",
    "    return sv_s, inaccuracy\n",
    "\n",
    "sv_s, inaccuracy = SVM_run(N=100, plot=True)\n",
    "print \"Predicted function performed at {}% inaccuracy on out of sample data set ({} support vectors)\".format(inaccuracy*100, sv_s)"
   ]
  },
  {
   "cell_type": "code",
   "execution_count": 45,
   "metadata": {
    "collapsed": false
   },
   "outputs": [
    {
     "name": "stdout",
     "output_type": "stream",
     "text": [
      "[ 3.14      0.019695]\n"
     ]
    }
   ],
   "source": [
    "runs=100\n",
    "N=100\n",
    "\n",
    "print np.mean([SVM_run(N) for i in range(runs)], axis=0)"
   ]
  },
  {
   "cell_type": "code",
   "execution_count": 56,
   "metadata": {
    "collapsed": false
   },
   "outputs": [
    {
     "name": "stdout",
     "output_type": "stream",
     "text": [
      "PLA weights: [ 0.         -1.63201549  2.1459358 ]\n",
      "SVM weights: [-0.09560654 -2.81126132  4.04783726]\n"
     ]
    },
    {
     "data": {
      "text/plain": [
       "(0.0429, 0.026, 3, True)"
      ]
     },
     "execution_count": 56,
     "metadata": {},
     "output_type": "execute_result"
    },
    {
     "data": {
      "image/png": "[encoded data removed]",
      "text/plain": [
       "<matplotlib.figure.Figure at 0x109f20450>"
      ]
     },
     "metadata": {},
     "output_type": "display_data"
    }
   ],
   "source": [
    "def PLA_SVM_comparison(N=100, plot=False, x_min=-1, x_max=1, y_min=-1, y_max=1):\n",
    "    target_function = make_target_function(plot)\n",
    "    X, X_with_bias, y = generate_samples(target_function, N, plot=plot)\n",
    "    while (1 not in y or -1 not in y):\n",
    "        target_function = make_target_function(plot)\n",
    "        X, X_with_bias, y = generate_samples(target_function, N, plot=plot)\n",
    "    \n",
    "    _, pla_w = PLA(X_with_bias, y, np.array([0., 0., 0.]))\n",
    "    if plot:\n",
    "        print \"PLA weights: {}\".format(pla_w)\n",
    "    pla_predicted_function = Line(weights=pla_w)\n",
    "    if plot:\n",
    "        plt.plot([x_min, x_max], [pla_predicted_function.get_y(x_min), pla_predicted_function.get_y(x_max)], color='purple')\n",
    "    pla_inaccuracy = score(target_function, pla_predicted_function)\n",
    "\n",
    "    a, sv, sv_y, b, w = SVM(X, y)\n",
    "    svm_w = np.insert(w, 0, b)\n",
    "    if plot:\n",
    "        print \"SVM weights: {}\".format(svm_w)\n",
    "    svm_predicted_function = Line(weights=svm_w)\n",
    "    if plot:\n",
    "        plt.plot([x_min, x_max], [svm_predicted_function.get_y(x_min), svm_predicted_function.get_y(x_max)], color='orange')\n",
    "    svm_inaccuracy = score(target_function, svm_predicted_function)\n",
    "    sv_s = len(sv)\n",
    "    return pla_inaccuracy, svm_inaccuracy, sv_s, svm_inaccuracy < pla_inaccuracy\n",
    "\n",
    "PLA_SVM_comparison(N=10, plot=True)"
   ]
  },
  {
   "cell_type": "code",
   "execution_count": 67,
   "metadata": {
    "collapsed": false
   },
   "outputs": [
    {
     "name": "stdout",
     "output_type": "stream",
     "text": [
      "PLA: 0.1600626, SVM: 0.1369177, support vectors: 2.915, SVM better than PLA: 0.618\n"
     ]
    }
   ],
   "source": [
    "runs = 1000\n",
    "experiment = np.mean(np.array([PLA_SVM_comparison(N=10) for i in range(runs)]), axis=0)\n",
    "print \"PLA: {}, SVM: {}, support vectors: {}, SVM better than PLA: {}\".format(*experiment)"
   ]
  },
  {
   "cell_type": "code",
   "execution_count": 68,
   "metadata": {
    "collapsed": false
   },
   "outputs": [
    {
     "name": "stdout",
     "output_type": "stream",
     "text": [
      "PLA: 0.0194783, SVM: 0.0181335, support vectors: 3.108, SVM better than PLA: 0.611\n"
     ]
    }
   ],
   "source": [
    "runs = 1000\n",
    "experiment = np.mean(np.array([PLA_SVM_comparison(N=100) for i in range(runs)]), axis=0)\n",
    "print \"PLA: {}, SVM: {}, support vectors: {}, SVM better than PLA: {}\".format(*experiment)"
   ]
  },
  {
   "cell_type": "code",
   "execution_count": null,
   "metadata": {
    "collapsed": true
   },
   "outputs": [],
   "source": []
  }
 ],
 "metadata": {
  "kernelspec": {
   "display_name": "Python 2",
   "language": "python",
   "name": "python2"
  },
  "language_info": {
   "codemirror_mode": {
    "name": "ipython",
    "version": 2
   },
   "file_extension": ".py",
   "mimetype": "text/x-python",
   "name": "python",
   "nbconvert_exporter": "python",
   "pygments_lexer": "ipython2",
   "version": "2.7.10"
  }
 },
 "nbformat": 4,
 "nbformat_minor": 0
}
