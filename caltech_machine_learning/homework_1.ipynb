{
 "cells": [
  {
   "cell_type": "markdown",
   "metadata": {},
   "source": [
    "<p>\n",
    "Homework: https://work.caltech.edu/homework/hw1.pdf\n",
    "<p>\n",
    "Answers:\n",
    "1. d\n",
    "2. a\n",
    "3. c —> d\n",
    "4. b\n",
    "5. c\n",
    "6. e\n",
    "7. b\n",
    "8. c\n",
    "9. b\n",
    "10. b\n",
    "\n",
    "<p>\n",
    "Answer key: https://work.caltech.edu/homework/hw1_sol.pdf"
   ]
  },
  {
   "cell_type": "code",
   "execution_count": 1,
   "metadata": {
    "collapsed": true
   },
   "outputs": [],
   "source": [
    "import pandas as pd\n",
    "import numpy as np\n",
    "import matplotlib.pyplot as plt\n",
    "%matplotlib inline\n",
    "from IPython.display import display"
   ]
  },
  {
   "cell_type": "code",
   "execution_count": 2,
   "metadata": {
    "collapsed": false
   },
   "outputs": [],
   "source": [
    "class Line:\n",
    "    '''A line that passes through the first two points of the given array'''\n",
    "    def __init__(self, x1_s, x2_s, weights=None):\n",
    "        if weights is not None:\n",
    "            assert len(weights) == 3\n",
    "            w0, w1, w2 = weights\n",
    "            w0 /= w2\n",
    "            w1 /= w2\n",
    "            self.intercept = -w0\n",
    "            self.slope = -w1\n",
    "        else:\n",
    "            assert len(x1_s) == 2\n",
    "            assert len(x2_s) == 2\n",
    "            self.slope = (x2_s[1]-x2_s[0])/(x1_s[1]-x1_s[0])\n",
    "            self.intercept = x2_s[0] - self.slope * x1_s[0]\n",
    "    \n",
    "    def get_y(self, x):\n",
    "        return self.intercept + self.slope * x\n",
    "    \n",
    "    def get_sign(self, x1, x2):\n",
    "        return np.sign(- self.intercept - self.slope*x1 + x2 )\n",
    "    \n",
    "    def get_weights(self):\n",
    "        return np.array([-self.intercept, -self.slope, 1])"
   ]
  },
  {
   "cell_type": "code",
   "execution_count": 3,
   "metadata": {
    "collapsed": false
   },
   "outputs": [
    {
     "data": {
      "text/plain": [
       "([0.1408824937171127, 0.82255976986085577],\n",
       " [0.49962869723225301, -0.36191310078862915])"
      ]
     },
     "execution_count": 3,
     "metadata": {},
     "output_type": "execute_result"
    }
   ],
   "source": [
    "x_min = -1\n",
    "x_max = 1\n",
    "y_min = x_min\n",
    "y_max = x_max"
   ]
  },
  {
   "cell_type": "code",
   "execution_count": 30,
   "metadata": {
    "collapsed": false
   },
   "outputs": [
    {
     "data": {
      "text/plain": [
       "([0.32858062990294945, -0.71077797621206851],\n",
       " [0.97368510604400305, -0.95342052121733212])"
      ]
     },
     "execution_count": 30,
     "metadata": {},
     "output_type": "execute_result"
    }
   ],
   "source": [
    "target_function_x = list(np.random.uniform(-1, 1, size=2))\n",
    "target_function_y = list(np.random.uniform(-1, 1, size=2))\n",
    "target_function_x, target_function_y"
   ]
  },
  {
   "cell_type": "code",
   "execution_count": null,
   "metadata": {
    "collapsed": true
   },
   "outputs": [],
   "source": [
    "target_function = Line(target_function_x, target_function_y)"
   ]
  },
  {
   "cell_type": "code",
   "execution_count": 31,
   "metadata": {
    "collapsed": false
   },
   "outputs": [
    {
     "data": {
      "text/plain": [
       "[<matplotlib.lines.Line2D at 0x10831f390>]"
      ]
     },
     "execution_count": 31,
     "metadata": {},
     "output_type": "execute_result"
    },
    {
     "data": {
      "image/png": "[encoded data removed]",
      "text/plain": [
       "<matplotlib.figure.Figure at 0x10738bf90>"
      ]
     },
     "metadata": {},
     "output_type": "display_data"
    }
   ],
   "source": [
    "plt.axis([x_min, x_max, y_min, y_max])\n",
    "plt.scatter(target_function_x, target_function_y, color='#006400')\n",
    "plt.plot([x_min, x_max], [target_function.get_y(x_min), target_function.get_y(x_max)], color='green')"
   ]
  },
  {
   "cell_type": "code",
   "execution_count": 5,
   "metadata": {
    "collapsed": false
   },
   "outputs": [
    {
     "data": {
      "text/plain": [
       "<matplotlib.collections.PathCollection at 0x107186450>"
      ]
     },
     "execution_count": 5,
     "metadata": {},
     "output_type": "execute_result"
    },
    {
     "data": {
      "image/png": "[encoded data removed]",
      "text/plain": [
       "<matplotlib.figure.Figure at 0x106fdf250>"
      ]
     },
     "metadata": {},
     "output_type": "display_data"
    }
   ],
   "source": [
    "N = 10\n",
    "sample_x1 = list(np.random.uniform(-1, 1, size=N))\n",
    "sample_x2 = list(np.random.uniform(-1, 1, size=N))"
   ]
  },
  {
   "cell_type": "code",
   "execution_count": null,
   "metadata": {
    "collapsed": true
   },
   "outputs": [],
   "source": [
    "plt.axis([x_min, x_max, y_min, y_max])\n",
    "plt.scatter(target_function_x, target_function_y, color='#006400')\n",
    "plt.plot([x_min, x_max], [target_function.get_y(x_min), target_function.get_y(x_max)], color='green')\n",
    "plt.scatter(sample_x1, sample_x2, color='black', marker='x')"
   ]
  },
  {
   "cell_type": "code",
   "execution_count": 6,
   "metadata": {
    "collapsed": false
   },
   "outputs": [
    {
     "data": {
      "text/plain": [
       "[1.0, 1.0, -1.0, -1.0, -1.0, -1.0, 1.0, -1.0, -1.0, -1.0]"
      ]
     },
     "execution_count": 6,
     "metadata": {},
     "output_type": "execute_result"
    }
   ],
   "source": [
    "sample_y = [target_function.get_sign(x1, x2) for x1, x2 in zip(sample_x1, sample_x2)]\n",
    "sample_y"
   ]
  },
  {
   "cell_type": "code",
   "execution_count": 7,
   "metadata": {
    "collapsed": false
   },
   "outputs": [
    {
     "data": {
      "text/plain": [
       "<matplotlib.collections.PathCollection at 0x10728e9d0>"
      ]
     },
     "execution_count": 7,
     "metadata": {},
     "output_type": "execute_result"
    },
    {
     "data": {
      "image/png": "[encoded data removed]",
      "text/plain": [
       "<matplotlib.figure.Figure at 0x106fdf6d0>"
      ]
     },
     "metadata": {},
     "output_type": "display_data"
    }
   ],
   "source": [
    "plt.axis([x_min, x_max, y_min, y_max])\n",
    "plt.scatter(target_function_x, target_function_y, color='#006400')\n",
    "plt.plot([x_min, x_max], [target_function.get_y(x_min), target_function.get_y(x_max)], color='green')\n",
    "plt.scatter(sample_x1, sample_x2, c=sample_y, marker='x')"
   ]
  },
  {
   "cell_type": "code",
   "execution_count": 8,
   "metadata": {
    "collapsed": false
   },
   "outputs": [
    {
     "data": {
      "text/plain": [
       "<matplotlib.collections.PathCollection at 0x10738b990>"
      ]
     },
     "execution_count": 8,
     "metadata": {},
     "output_type": "execute_result"
    },
    {
     "data": {
      "image/png": "[encoded data removed]",
      "text/plain": [
       "<matplotlib.figure.Figure at 0x106ff53d0>"
      ]
     },
     "metadata": {},
     "output_type": "display_data"
    }
   ],
   "source": [
    "# Plot just the points without the target function\n",
    "plt.axis([x_min, x_max, y_min, y_max])\n",
    "plt.scatter(sample_x1, sample_x2, c=sample_y, marker='x')"
   ]
  },
  {
   "cell_type": "code",
   "execution_count": 9,
   "metadata": {
    "collapsed": false
   },
   "outputs": [
    {
     "data": {
      "text/plain": [
       "array([[ 1.        ,  0.93050731,  0.67679148],\n",
       "       [ 1.        ,  0.76285374,  0.87243506],\n",
       "       [ 1.        , -0.91934058, -0.76061146],\n",
       "       [ 1.        , -0.27854817, -0.69585465],\n",
       "       [ 1.        , -0.42025229,  0.04218619],\n",
       "       [ 1.        ,  0.93095918, -0.81809114],\n",
       "       [ 1.        ,  0.21969419,  0.53605572],\n",
       "       [ 1.        , -0.87394813,  0.13387922],\n",
       "       [ 1.        ,  0.04887269, -0.98810955],\n",
       "       [ 1.        , -0.21722968, -0.19135344]])"
      ]
     },
     "execution_count": 9,
     "metadata": {},
     "output_type": "execute_result"
    }
   ],
   "source": [
    "X = np.array([np.ones(N), sample_x1, sample_x2]).transpose()\n",
    "X"
   ]
  },
  {
   "cell_type": "code",
   "execution_count": 10,
   "metadata": {
    "collapsed": false
   },
   "outputs": [
    {
     "data": {
      "text/plain": [
       "array([ 1.,  1., -1., -1., -1., -1.,  1., -1., -1., -1.])"
      ]
     },
     "execution_count": 10,
     "metadata": {},
     "output_type": "execute_result"
    }
   ],
   "source": [
    "y = np.array(sample_y)\n",
    "y"
   ]
  },
  {
   "cell_type": "code",
   "execution_count": 37,
   "metadata": {
    "collapsed": false
   },
   "outputs": [
    {
     "data": {
      "text/plain": [
       "(5, array([ 0.        ,  0.63949461,  1.98875215]))"
      ]
     },
     "execution_count": 37,
     "metadata": {},
     "output_type": "execute_result"
    }
   ],
   "source": [
    "def PLA(X, y, max_iterations = 15000):\n",
    "    \n",
    "    w = np.array([0.0, 0.0, 0.0])\n",
    "    iter = 0\n",
    "    while iter < max_iterations:\n",
    "        # print \"Iteration {} w {}\".format(iter, w)\n",
    "        predictions = np.sign(np.dot(X, w))\n",
    "        misclassfied = predictions != y\n",
    "        if np.sum(misclassfied) == 0:\n",
    "            break\n",
    "        chosen = np.random.choice(np.where(misclassfied)[0])\n",
    "        #print chosen, X[chosen], y[chosen], X[chosen] * y[chosen]\n",
    "        w += X[chosen] * y[chosen]\n",
    "        iter += 1\n",
    "\n",
    "    return (iter+1 if iter < max_iterations else None, w)\n",
    "\n",
    "PLA(X, y)"
   ]
  },
  {
   "cell_type": "code",
   "execution_count": 12,
   "metadata": {
    "collapsed": false
   },
   "outputs": [],
   "source": [
    "predicted_function = Line(None, None, w)"
   ]
  },
  {
   "cell_type": "code",
   "execution_count": 13,
   "metadata": {
    "collapsed": false
   },
   "outputs": [
    {
     "data": {
      "text/plain": [
       "<matplotlib.collections.PathCollection at 0x1075b0b10>"
      ]
     },
     "execution_count": 13,
     "metadata": {},
     "output_type": "execute_result"
    },
    {
     "data": {
      "image/png": "[encoded data removed]",
      "text/plain": [
       "<matplotlib.figure.Figure at 0x10739a650>"
      ]
     },
     "metadata": {},
     "output_type": "display_data"
    }
   ],
   "source": [
    "plt.axis([x_min, x_max, y_min, y_max])\n",
    "plt.scatter(target_function_x, target_function_y, color='#006400')\n",
    "plt.plot([x_min, x_max], [target_function.get_y(x_min), target_function.get_y(x_max)], color='green')\n",
    "plt.plot([x_min, x_max], [predicted_function.get_y(x_min), predicted_function.get_y(x_max)], color='purple')\n",
    "plt.scatter(sample_x1, sample_x2, c=sample_y, marker='x')"
   ]
  },
  {
   "cell_type": "code",
   "execution_count": 41,
   "metadata": {
    "collapsed": false
   },
   "outputs": [],
   "source": [
    "def score(target_function, predicted_function, large_N = 10000):\n",
    "    test_sample_x1 = list(np.random.uniform(-1, 1, size=large_N))\n",
    "    test_sample_x2 = list(np.random.uniform(-1, 1, size=large_N))\n",
    "    test_sample_y = [target_function.get_sign(x1, x2) for x1, x2 in zip(test_sample_x1, test_sample_x2)]\n",
    "    test_sample_y_pred = [predicted_function.get_sign(x1, x2) for x1, x2 in zip(test_sample_x1, test_sample_x2)]\n",
    "    #display(test_sample_y)\n",
    "    #display(test_sample_y_pred)\n",
    "    return 1.0 * np.sum(np.array(test_sample_y) == np.array(test_sample_y_pred))/len(test_sample_y)"
   ]
  },
  {
   "cell_type": "code",
   "execution_count": 42,
   "metadata": {
    "collapsed": false
   },
   "outputs": [
    {
     "data": {
      "text/plain": [
       "(4, 0.8884)"
      ]
     },
     "execution_count": 42,
     "metadata": {},
     "output_type": "execute_result"
    }
   ],
   "source": [
    "# Now do this thing in a loop\n",
    "def percepteron_loop(N):\n",
    "    target_function_x = list(np.random.uniform(-1, 1, size=2))\n",
    "    target_function_y = list(np.random.uniform(-1, 1, size=2))\n",
    "    target_function = Line(target_function_x, target_function_y)\n",
    "    sample_x1 = list(np.random.uniform(-1, 1, size=N))\n",
    "    sample_x2 = list(np.random.uniform(-1, 1, size=N))\n",
    "    sample_y = [target_function.get_sign(x1, x2) for x1, x2 in zip(sample_x1, sample_x2)]\n",
    "    X = np.array([np.ones(N), sample_x1, sample_x2]).transpose()\n",
    "    y = np.array(sample_y)\n",
    "    num_iter, weights = PLA(X, y)\n",
    "    predicted_function = Line(None, None, weights)\n",
    "    accuracy = score(target_function, predicted_function)\n",
    "    return (num_iter, accuracy)\n",
    "\n",
    "percepteron_loop(10)"
   ]
  },
  {
   "cell_type": "code",
   "execution_count": 48,
   "metadata": {
    "collapsed": false
   },
   "outputs": [
    {
     "data": {
      "text/plain": [
       "(14.424, 0.8028380000000003)"
      ]
     },
     "metadata": {},
     "output_type": "display_data"
    },
    {
     "data": {
      "text/plain": [
       "(113.8, 0.9702074999999999)"
      ]
     },
     "metadata": {},
     "output_type": "display_data"
    }
   ],
   "source": [
    "def run_experiment(N, N_loops = 1000):\n",
    "    num_iter_sum = 0.0\n",
    "    accuracy_sum = 0.0\n",
    "    for i in range(N_loops):\n",
    "        num_iter, accuracy = percepteron_loop(N)\n",
    "        num_iter_sum += num_iter\n",
    "        accuracy_sum += accuracy\n",
    "    avg_num_iter = num_iter_sum / N_loops\n",
    "    avg_accuracy = accuracy_sum / N_loops\n",
    "    return avg_num_iter, avg_accuracy\n",
    "\n",
    "display(run_experiment(10))\n",
    "display(run_experiment(100))"
   ]
  },
  {
   "cell_type": "code",
   "execution_count": null,
   "metadata": {
    "collapsed": true
   },
   "outputs": [],
   "source": [
    "#N = 10 : (10.675, 0.8101155000000002)\n",
    "#N = 100 : (119.918, 0.972620799999999)"
   ]
  }
 ],
 "metadata": {
  "kernelspec": {
   "display_name": "Python 2",
   "language": "python",
   "name": "python2"
  },
  "language_info": {
   "codemirror_mode": {
    "name": "ipython",
    "version": 2
   },
   "file_extension": ".py",
   "mimetype": "text/x-python",
   "name": "python",
   "nbconvert_exporter": "python",
   "pygments_lexer": "ipython2",
   "version": "2.7.10"
  }
 },
 "nbformat": 4,
 "nbformat_minor": 0
}
