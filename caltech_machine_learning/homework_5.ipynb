{
 "cells": [
  {
   "cell_type": "markdown",
   "metadata": {},
   "source": [
    "<p>\n",
    "Homework: https://work.caltech.edu/homework/hw5.pdf\n",
    "<p>\n",
    "Answers:\n",
    "1. c\n",
    "2. e --> d &#x2714;\n",
    "3. c\n",
    "4. e\n",
    "5. d\n",
    "6. e\n",
    "7. a\n",
    "8. a --> d &#x2714;\n",
    "9. d --> a &#x2714;\n",
    "10. e\n",
    "\n",
    "<p>\n",
    "Answer key: https://work.caltech.edu/homework/hw5_sol.pdf"
   ]
  },
  {
   "cell_type": "code",
   "execution_count": 1,
   "metadata": {
    "collapsed": true
   },
   "outputs": [],
   "source": [
    "import pandas as pd\n",
    "import numpy as np\n",
    "import matplotlib.pyplot as plt\n",
    "%matplotlib inline\n",
    "from IPython.display import display"
   ]
  },
  {
   "cell_type": "code",
   "execution_count": 2,
   "metadata": {
    "collapsed": false
   },
   "outputs": [
    {
     "name": "stdout",
     "output_type": "stream",
     "text": [
      "N: 10, expected_error: 0.001\n",
      "N: 25, expected_error: 0.0064\n",
      "N: 100, expected_error: 0.0091\n",
      "N: 500, expected_error: 0.00982\n",
      "N: 1000, expected_error: 0.00991\n"
     ]
    }
   ],
   "source": [
    "# Question 1\n",
    "def expected_error(sigma, d, N):\n",
    "    return sigma*sigma*(1.0 - (d+1)/N)\n",
    "\n",
    "for N in [10, 25, 100, 500, 1000]:\n",
    "    print \"N: {}, expected_error: {}\".format(N, expected_error(0.1, 8.0, N))"
   ]
  },
  {
   "cell_type": "code",
   "execution_count": 3,
   "metadata": {
    "collapsed": false
   },
   "outputs": [],
   "source": [
    "# Question 4 - 7\n",
    "def error(u, v):\n",
    "    return (u * np.exp(v) - 2.0 * v * np.exp(-u))**2.0\n",
    "\n",
    "def derivative_u(u, v):\n",
    "    return 2 * (np.exp(v) + 2.0 * v * np.exp(-u)) * (u * np.exp(v) - 2.0 * v * np.exp(-u))\n",
    "\n",
    "def derivative_v(u, v):\n",
    "    return 2 * (u * np.exp(v) - 2.0 * np.exp(-u)) * (u * np.exp(v) - 2.0 * v * np.exp(-u))"
   ]
  },
  {
   "cell_type": "code",
   "execution_count": 4,
   "metadata": {
    "collapsed": false
   },
   "outputs": [
    {
     "name": "stdout",
     "output_type": "stream",
     "text": [
      "1: (-0.369542993197, 0.213920553625) ---> 1.15950972997\n",
      "2: (0.0305206903513, -0.507934045444) ---> 1.00740748296\n",
      "3: (0.107523114199, -0.122210255574) ---> 0.0990091216273\n",
      "4: (0.0656448258149, -0.0151665598769) ---> 0.00866064536281\n",
      "5: (0.0478411706217, 0.0184898992267) ---> 0.000181755791728\n",
      "6: (0.0449994630994, 0.0234992516968) ---> 1.29723984784e-06\n",
      "7: (0.0447560190293, 0.0239242964704) ---> 7.29152469846e-09\n",
      "8: (0.0447377460407, 0.0239561747966) ---> 4.00999789056e-11\n",
      "9: (0.0447363908175, 0.0239585389222) ---> 2.20168344841e-13\n",
      "10: (0.0447362903978, 0.0239587140991) ---> 1.20868339442e-15\n",
      "11: (0.0447362829574, 0.0239587270786) ---> 6.63538771654e-18\n",
      "12: (0.0447362824061, 0.0239587280403) ---> 3.64266952049e-20\n",
      "13: (0.0447362823652, 0.0239587281115) ---> 1.99973989279e-22\n",
      "14: (0.0447362823622, 0.0239587281168) ---> 1.09781367583e-24\n",
      "15: (0.044736282362, 0.0239587281172) ---> 6.02678098972e-27\n",
      "16: (0.044736282362, 0.0239587281172) ---> 3.30894505228e-29\n",
      "17: (0.044736282362, 0.0239587281172) ---> 1.85081867656e-31\n"
     ]
    }
   ],
   "source": [
    "# Question 5\n",
    "def gradient_descent_update(u, v, rate=0.1):\n",
    "    return u - rate * derivative_u(u, v), v - rate * derivative_v(u, v)\n",
    "\n",
    "u = v = 1\n",
    "for iter in range(1, 18):\n",
    "    u, v = gradient_descent_update(u, v)\n",
    "    print \"{}: ({}, {}) ---> {}\".format(iter, u, v, error(u, v))"
   ]
  },
  {
   "cell_type": "code",
   "execution_count": 5,
   "metadata": {
    "collapsed": false
   },
   "outputs": [
    {
     "name": "stdout",
     "output_type": "stream",
     "text": [
      "1 part 1: (-0.369542993197, 1) ---> 15.1996144023\n",
      "1 part 2: (-0.369542993197, -2.03992288047) ---> 34.2901631123\n",
      "2 part 1: (6.3924737648, -2.03992288047) ---> 0.702410498734\n",
      "2 part 2: (6.3924737648, -2.17869889007) ---> 0.534142591372\n",
      "3 part 1: (6.37699523444, -2.17869889007) ---> 0.531750709999\n",
      "3 part 2: (6.37699523444, -2.28347262063) ---> 0.432660827324\n",
      "4 part 1: (6.36460748637, -2.28347262063) ---> 0.431128410626\n",
      "4 part 2: (6.36460748637, -2.36821379387) ---> 0.365039735019\n",
      "5 part 1: (6.35427658624, -2.36821379387) ---> 0.363973766947\n",
      "5 part 2: (6.35427658624, -2.43959481416) ---> 0.31646807536\n",
      "6 part 1: (6.34542086477, -2.43959481416) ---> 0.315684698225\n",
      "6 part 2: (6.34542086477, -2.50137527574) ---> 0.279763423064\n",
      "7 part 1: (6.3376780617, -2.50137527574) ---> 0.279164513035\n",
      "7 part 2: (6.3376780617, -2.55589956861) ---> 0.250986311675\n",
      "8 part 1: (6.33080628124, -2.55589956861) ---> 0.250514534262\n",
      "8 part 2: (6.33080628124, -2.6047348478) ---> 0.227783298944\n",
      "9 part 1: (6.32463553422, -2.6047348478) ---> 0.227402845675\n",
      "9 part 2: (6.32463553422, -2.64898351269) ---> 0.208656695724\n",
      "10 part 1: (6.31904158643, -2.64898351269) ---> 0.208344026357\n",
      "10 part 2: (6.31904158643, -2.68945199663) ---> 0.192605658614\n",
      "11 part 1: (6.31393077346, -2.68945199663) ---> 0.192344654286\n",
      "11 part 2: (6.31393077346, -2.72674884919) ---> 0.178934748408\n",
      "12 part 1: (6.30923066644, -2.72674884919) ---> 0.178713998904\n",
      "12 part 2: (6.30923066644, -2.76134506639) ---> 0.167145054343\n",
      "13 part 1: (6.30488406577, -2.76134506639) ---> 0.166956256039\n",
      "13 part 2: (6.30488406577, -2.79361293379) ---> 0.15686898733\n",
      "14 part 1: (6.3008449881, -2.79361293379) ---> 0.156705954287\n",
      "14 part 2: (6.3008449881, -2.82385199281) ---> 0.147829522524\n",
      "15 part 1: (6.29707589931, -2.82385199281) ---> 0.147687552992\n",
      "15 part 2: (6.29707589931, -2.85230695408) ---> 0.139813791996\n"
     ]
    }
   ],
   "source": [
    "# Question 7\n",
    "def coordinate_descent_update_u(u, v, rate=0.1):\n",
    "    return u - rate * derivative_u(u, v), v\n",
    "\n",
    "def coordinate_descent_update_v(u, v, rate=0.1):\n",
    "    return u, v - rate * derivative_v(u, v)\n",
    "\n",
    "u = v = 1\n",
    "for iter in range(1, 16):\n",
    "    u, v = coordinate_descent_update_u(u, v)\n",
    "    print \"{} part 1: ({}, {}) ---> {}\".format(iter, u, v, error(u, v))\n",
    "    u, v = coordinate_descent_update_v(u, v)\n",
    "    print \"{} part 2: ({}, {}) ---> {}\".format(iter, u, v, error(u, v))"
   ]
  },
  {
   "cell_type": "code",
   "execution_count": 38,
   "metadata": {
    "collapsed": false
   },
   "outputs": [],
   "source": [
    "# Questions 8 and 9\n",
    "class Line:\n",
    "    '''A line that passes through the first two points of the given array'''\n",
    "    def __init__(self, x1_s, x2_s, weights=None, name=\"Unknown\"):\n",
    "        self.name = name\n",
    "        if weights is not None:\n",
    "            assert len(weights) == 3\n",
    "            w0, w1, w2 = weights\n",
    "            if w2 != 0:\n",
    "                w0 /= w2\n",
    "                w1 /= w2\n",
    "            self.intercept = -w0\n",
    "            self.slope = -w1\n",
    "        else:\n",
    "            assert len(x1_s) == 2\n",
    "            assert len(x2_s) == 2\n",
    "            self.slope = (x2_s[1]-x2_s[0])/(x1_s[1]-x1_s[0])\n",
    "            self.intercept = x2_s[0] - self.slope * x1_s[0]\n",
    "    \n",
    "    def get_y(self, x):\n",
    "        return self.intercept + self.slope * x\n",
    "    \n",
    "    def get_sign(self, x1, x2):\n",
    "        return np.sign(- self.intercept - self.slope*x1 + x2 )\n",
    "    \n",
    "    def get_weights(self):\n",
    "        return np.array([-self.intercept, -self.slope, 1])\n",
    "\n",
    "def generate_target_function(x_min, x_max, name = \"Target\"):\n",
    "    x1 = list(np.random.uniform(x_min, x_max, size=2))\n",
    "    x2 = list(np.random.uniform(x_min, x_max, size=2))\n",
    "    return Line(x1, x2, name=name)\n",
    "\n",
    "def generate_sample(target_function, N):\n",
    "    sample_x1 = list(np.random.uniform(x_min, x_max, size=N))\n",
    "    sample_x2 = list(np.random.uniform(x_min, x_max, size=N))\n",
    "    sample_y = [target_function.get_sign(x1, x2) for x1, x2 in zip(sample_x1, sample_x2)]\n",
    "    return sample_x1, sample_x2, sample_y\n",
    "\n",
    "def cross_entropy_error(X, y, weights):\n",
    "    return np.mean(np.log(1 + np.exp(-np.dot(X, weights) * y.T)))\n",
    "\n",
    "def gradient(X, y, weights):\n",
    "    return -np.mean((X * y)/(1 + np.exp(np.dot(X, weights) * y.T)).T, axis = 0)\n",
    "\n",
    "def update(X, y, weights, rate=0.01):\n",
    "    g = gradient(X, y, weights)\n",
    "    new_weights = weights - rate * g\n",
    "    return new_weights\n",
    "\n",
    "def batch_gradient_descent(X, y, weights, max_iter=50000, magnitude_threshold=0.01):\n",
    "    w = weights\n",
    "    for iter in range(max_iter):\n",
    "        old_w = w\n",
    "        w = update(X, y, w)\n",
    "        if np.linalg.norm(old_w - w) < magnitude_threshold:\n",
    "            break\n",
    "    return w, iter+1\n",
    "\n",
    "def stochastic_gradient_descent(X, y, weights, max_iter=50000, magnitude_threshold=0.01):\n",
    "    w = weights\n",
    "    for iter in range(max_iter):\n",
    "        old_w = w\n",
    "        for i in np.random.permutation(range(np.size(X, 0))):\n",
    "            w = update(X[[i]], y[[i]], w)\n",
    "        if np.linalg.norm(old_w - w) < magnitude_threshold:\n",
    "            break\n",
    "    return w, iter+1"
   ]
  },
  {
   "cell_type": "code",
   "execution_count": 39,
   "metadata": {
    "collapsed": false
   },
   "outputs": [
    {
     "data": {
      "text/plain": [
       "<matplotlib.collections.PathCollection at 0x107a52690>"
      ]
     },
     "execution_count": 39,
     "metadata": {},
     "output_type": "execute_result"
    },
    {
     "data": {
      "image/png": "[encoded data removed]",
      "text/plain": [
       "<matplotlib.figure.Figure at 0x10766d3d0>"
      ]
     },
     "metadata": {},
     "output_type": "display_data"
    }
   ],
   "source": [
    "x_min = -1\n",
    "x_max = 1\n",
    "target_function = generate_target_function(x_min, x_max, name = \"Target\")\n",
    "\n",
    "N = 100\n",
    "sample_x1, sample_x2, sample_y = generate_sample(target_function, N)\n",
    "\n",
    "plt.axis([x_min, x_max, x_min, x_max])\n",
    "#plt.scatter(target_function_x1, target_function_x2, color='#006400')\n",
    "plt.plot([x_min, x_max], [target_function.get_y(x_min), target_function.get_y(x_max)], color='green')\n",
    "plt.scatter(sample_x1, sample_x2, c=sample_y, marker='x')"
   ]
  },
  {
   "cell_type": "code",
   "execution_count": 40,
   "metadata": {
    "collapsed": false
   },
   "outputs": [
    {
     "name": "stdout",
     "output_type": "stream",
     "text": [
      "Error: 0.69314718056\n"
     ]
    }
   ],
   "source": [
    "X = np.column_stack((np.ones(np.size(sample_x1)), sample_x1, sample_x2))\n",
    "y = np.array([sample_y]).T\n",
    "init_weights = [0, 0, 0]\n",
    "print \"Error: {}\".format(cross_entropy_error(X, y, init_weights))"
   ]
  },
  {
   "cell_type": "code",
   "execution_count": 41,
   "metadata": {
    "collapsed": false
   },
   "outputs": [
    {
     "name": "stdout",
     "output_type": "stream",
     "text": [
      "Batch weights (after 1 iterations): [ 0.12553275 -0.69804561  1.        ]\n",
      "Error: 0.414177212682\n"
     ]
    }
   ],
   "source": [
    "batch_weights, iterations = batch_gradient_descent(X, y, init_weights)\n",
    "batch_weights /= batch_weights[-1]\n",
    "print \"Batch weights (after {} iterations): {}\\nError: {}\".format(iterations, batch_weights, cross_entropy_error(X, y, batch_weights))"
   ]
  },
  {
   "cell_type": "code",
   "execution_count": 42,
   "metadata": {
    "collapsed": false
   },
   "outputs": [
    {
     "name": "stdout",
     "output_type": "stream",
     "text": [
      "Stochastic weights (after 268 iterations): [ 0.08521895 -0.76291339  1.        ]\n",
      "Error: 0.408217334557\n"
     ]
    }
   ],
   "source": [
    "stochastic_weights, iterations = stochastic_gradient_descent(X, y, init_weights)\n",
    "stochastic_weights /= stochastic_weights[-1]\n",
    "print \"Stochastic weights (after {} iterations): {}\\nError: {}\".format(iterations, stochastic_weights, cross_entropy_error(X, y, stochastic_weights))"
   ]
  },
  {
   "cell_type": "code",
   "execution_count": 43,
   "metadata": {
    "collapsed": false
   },
   "outputs": [
    {
     "data": {
      "text/plain": [
       "<matplotlib.legend.Legend at 0x107b5bcd0>"
      ]
     },
     "execution_count": 43,
     "metadata": {},
     "output_type": "execute_result"
    },
    {
     "data": {
      "image/png": "[encoded data removed]",
      "text/plain": [
       "<matplotlib.figure.Figure at 0x1073c2e10>"
      ]
     },
     "metadata": {},
     "output_type": "display_data"
    }
   ],
   "source": [
    "init_function = Line(None, None, init_weights, name=\"Init {}\".format(init_weights))\n",
    "batch_function = Line(None, None, batch_weights, name = \"Batch {}\".format(batch_weights))\n",
    "stochastic_function = Line(None, None, stochastic_weights, name = \"Stochastic {}\".format(stochastic_weights))\n",
    "\n",
    "plt.axis([x_min, x_max, x_min, x_max])\n",
    "#plt.scatter(target_function_x1, target_function_x2, color='#006400')\n",
    "plt.scatter(sample_x1, sample_x2, c=sample_y, marker='x')\n",
    "for function in [target_function, init_function, batch_function, stochastic_function]:\n",
    "    plt.plot([x_min, x_max], [function.get_y(x_min), function.get_y(x_max)], label=function.name)\n",
    "plt.legend(bbox_to_anchor=(1.5, 1.5))"
   ]
  },
  {
   "cell_type": "code",
   "execution_count": 44,
   "metadata": {
    "collapsed": false
   },
   "outputs": [
    {
     "data": {
      "text/plain": [
       "0.069"
      ]
     },
     "execution_count": 44,
     "metadata": {},
     "output_type": "execute_result"
    }
   ],
   "source": [
    "N = 1000\n",
    "out_sample_x1, out_sample_x2, out_sample_y = generate_sample(target_function, N)\n",
    "X_out = np.column_stack((np.ones(np.size(out_sample_x1)), out_sample_x1, out_sample_x2))\n",
    "y_out = np.array([out_sample_y]).T\n",
    "predictions = np.array([[stochastic_function.get_sign(x[1], x[2]) for x in X_out]]).T\n",
    "misclassified = predictions != y_out\n",
    "out_sample_error = 1.0 * misclassified.sum()/len(misclassified)\n",
    "out_sample_error"
   ]
  },
  {
   "cell_type": "code",
   "execution_count": 45,
   "metadata": {
    "collapsed": false
   },
   "outputs": [
    {
     "name": "stdout",
     "output_type": "stream",
     "text": [
      "Avg error_out: 0.10130965597 (after 340 iterations)\n"
     ]
    },
    {
     "data": {
      "text/plain": [
       "(0.10130965596976688, 340)"
      ]
     },
     "execution_count": 45,
     "metadata": {},
     "output_type": "execute_result"
    }
   ],
   "source": [
    "def run_experiment(num_runs=100):\n",
    "    x_min = -1\n",
    "    x_max = 1\n",
    "\n",
    "    E_out = 0\n",
    "    avg_iterations = 0\n",
    "    for i in range(num_runs):\n",
    "        \n",
    "        target_function = generate_target_function(x_min, x_max, name = \"Target\")\n",
    "\n",
    "        N = 100\n",
    "        sample_x1, sample_x2, sample_y = generate_sample(target_function, N)\n",
    "        X = np.column_stack((np.ones(np.size(sample_x1)), sample_x1, sample_x2))\n",
    "        y = np.array([sample_y]).T\n",
    "\n",
    "        init_weights = [0, 0, 0]\n",
    "        stochastic_weights, iterations = stochastic_gradient_descent(X, y, init_weights)\n",
    "        \n",
    "        N_out = 1000\n",
    "        out_sample_x1, out_sample_x2, out_sample_y = generate_sample(target_function, N_out)\n",
    "        X_out = np.column_stack((np.ones(np.size(out_sample_x1)), out_sample_x1, out_sample_x2))\n",
    "        y_out = np.array([out_sample_y]).T\n",
    "\n",
    "        out_sample_error = cross_entropy_error(X_out, y_out, stochastic_weights)\n",
    "        \n",
    "        E_out += out_sample_error\n",
    "        avg_iterations += iterations\n",
    "        \n",
    "    E_out /= num_runs\n",
    "    avg_iterations /= num_runs\n",
    "    print \"Avg error_out: {} (after {} iterations)\".format(E_out, avg_iterations)\n",
    "    return E_out, avg_iterations\n",
    "\n",
    "run_experiment()"
   ]
  },
  {
   "cell_type": "code",
   "execution_count": null,
   "metadata": {
    "collapsed": true
   },
   "outputs": [],
   "source": [
    "# Stochastic \n",
    "# Avg error_out: 16.3832864456 (after 1022 iterations)\n",
    "# Batch\n",
    "# Avg error_out: 1.48631164758 (after 120 iterations)"
   ]
  }
 ],
 "metadata": {
  "kernelspec": {
   "display_name": "Python 2",
   "language": "python",
   "name": "python2"
  },
  "language_info": {
   "codemirror_mode": {
    "name": "ipython",
    "version": 2
   },
   "file_extension": ".py",
   "mimetype": "text/x-python",
   "name": "python",
   "nbconvert_exporter": "python",
   "pygments_lexer": "ipython2",
   "version": "2.7.10"
  }
 },
 "nbformat": 4,
 "nbformat_minor": 0
}
