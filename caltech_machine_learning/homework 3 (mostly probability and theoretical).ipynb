{
 "cells": [
  {
   "cell_type": "markdown",
   "metadata": {},
   "source": [
    "<p>\n",
    "Homework: https://work.caltech.edu/homework/hw3.pdf\n",
    "<p>\n",
    "Answers:\n",
    "1. b\n",
    "2. c\n",
    "3. d\n",
    "4. a --> b &#x2714; (any 3 points can make a plane)\n",
    "5. e --> b &#x2714; (either it is 2^N if there is no breakpoint else it is polynomial)\n",
    "6. c\n",
    "7. c\n",
    "8. d\n",
    "9. b --> d &#x2714; (you can think of points on a circle and then shattering them with a triangle shape)\n",
    "10. e --> b &#x2714; (3 is the breakpoint; NC0 + NC1 + NC2 == (N+1)C2 + 1)\n",
    "\n",
    "<p>\n",
    "Answer key: https://work.caltech.edu/homework/hw3_sol.pdf"
   ]
  },
  {
   "cell_type": "code",
   "execution_count": 2,
   "metadata": {
    "collapsed": true
   },
   "outputs": [],
   "source": [
    "import pandas as pd\n",
    "import numpy as np\n",
    "import matplotlib.pyplot as plt\n",
    "%matplotlib inline\n",
    "from IPython.display import display\n",
    "from numpy.linalg import inv"
   ]
  },
  {
   "cell_type": "code",
   "execution_count": null,
   "metadata": {
    "collapsed": true
   },
   "outputs": [],
   "source": [
    "# probability >= 2 * M * e^(-2 * epsilon^2 * N)\n",
    "# log (2 * M / probability) <= 2 * epsilon^2 * N\n",
    "# N >= log (2 * M / probability) / 2 * epsilon^2"
   ]
  },
  {
   "cell_type": "code",
   "execution_count": 7,
   "metadata": {
    "collapsed": false
   },
   "outputs": [
    {
     "name": "stdout",
     "output_type": "stream",
     "text": [
      "Answer 1: 840.0(839.941015576)\n"
     ]
    }
   ],
   "source": [
    "probability = 0.03\n",
    "epsilon = 0.05\n",
    "M = 1\n",
    "N = np.log (2 * M / probability) / (2 * epsilon ** 2)\n",
    "print \"Answer 1: {}({})\".format(np.ceil(N), N)"
   ]
  },
  {
   "cell_type": "code",
   "execution_count": 8,
   "metadata": {
    "collapsed": false
   },
   "outputs": [
    {
     "name": "stdout",
     "output_type": "stream",
     "text": [
      "Answer 1: 1301.0(1300.45803417)\n"
     ]
    }
   ],
   "source": [
    "probability = 0.03\n",
    "epsilon = 0.05\n",
    "M = 10\n",
    "N = np.log (2 * M / probability) / (2 * epsilon ** 2)\n",
    "print \"Answer 2: {}({})\".format(np.ceil(N), N)"
   ]
  },
  {
   "cell_type": "code",
   "execution_count": 9,
   "metadata": {
    "collapsed": false
   },
   "outputs": [
    {
     "name": "stdout",
     "output_type": "stream",
     "text": [
      "Answer 3: 1761.0(1760.97505277)\n"
     ]
    }
   ],
   "source": [
    "probability = 0.03\n",
    "epsilon = 0.05\n",
    "M = 100\n",
    "N = np.log (2 * M / probability) / (2 * epsilon ** 2)\n",
    "print \"Answer 3: {}({})\".format(np.ceil(N), N)"
   ]
  },
  {
   "cell_type": "code",
   "execution_count": null,
   "metadata": {
    "collapsed": true
   },
   "outputs": [],
   "source": []
  }
 ],
 "metadata": {
  "kernelspec": {
   "display_name": "Python 2",
   "language": "python",
   "name": "python2"
  },
  "language_info": {
   "codemirror_mode": {
    "name": "ipython",
    "version": 2
   },
   "file_extension": ".py",
   "mimetype": "text/x-python",
   "name": "python",
   "nbconvert_exporter": "python",
   "pygments_lexer": "ipython2",
   "version": "2.7.10"
  }
 },
 "nbformat": 4,
 "nbformat_minor": 0
}
