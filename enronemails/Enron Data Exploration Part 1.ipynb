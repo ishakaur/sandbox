{
 "cells": [
  {
   "cell_type": "markdown",
   "metadata": {},
   "source": [
    "# Handling and analysis of the Enron Email Dataset - Part 1\n",
    "\n",
    "\n",
    "------------------------------\n",
    "\n",
    "## The class definitions\n",
    "\n",
    "\n",
    "* Class: EnronEmailParser: Parser for the emails included in the [Enron Email Dataset](http://bailando.sims.berkeley.edu/enron/enron_with_categories.tar.gz).  \n",
    "_Note: This particular implementation treats all recipients including to, cc and bcc recipients as same type._\n",
    "* Class: EnronEmailDataset: Data handler for the Enron Email Dataset  \n",
    "_Note1: It relies on the EnronEmailParser class to do the actual email parsing._  \n",
    "_Note2: It uses pandas dataframes as the data storage objects._"
   ]
  },
  {
   "cell_type": "markdown",
   "metadata": {},
   "source": [
    "## Basic Setup\n",
    "\n",
    "Having defined the basic classes that will handle the data and parsing for us, we can now start to load and parse our data. The two main tables, aka dataframes, are shown below (limited to the top 5 rows in each case)."
   ]
  },
  {
   "cell_type": "code",
   "execution_count": 1,
   "metadata": {
    "collapsed": true
   },
   "outputs": [],
   "source": [
    "import pandas as pd\n",
    "from enrondatahandling import EnronEmailDataset"
   ]
  },
  {
   "cell_type": "code",
   "execution_count": 2,
   "metadata": {
    "collapsed": false
   },
   "outputs": [
    {
     "name": "stdout",
     "output_type": "stream",
     "text": [
      "Surveyed 1702 email files\n",
      "Parsed 1702 emails\n"
     ]
    }
   ],
   "source": [
    "# Load and parse the enron email dataset\n",
    "enronData = EnronEmailDataset('./data')"
   ]
  },
  {
   "cell_type": "code",
   "execution_count": 3,
   "metadata": {
    "collapsed": false
   },
   "outputs": [
    {
     "data": {
      "text/html": [
       "<div>\n",
       "<table border=\"1\" class=\"dataframe\">\n",
       "  <thead>\n",
       "    <tr style=\"text-align: right;\">\n",
       "      <th></th>\n",
       "      <th>ts</th>\n",
       "      <th>datetime</th>\n",
       "      <th>sender</th>\n",
       "      <th>num_recipients</th>\n",
       "      <th>subject</th>\n",
       "      <th>num_lines_in_msg</th>\n",
       "    </tr>\n",
       "    <tr>\n",
       "      <th>email_id</th>\n",
       "      <th></th>\n",
       "      <th></th>\n",
       "      <th></th>\n",
       "      <th></th>\n",
       "      <th></th>\n",
       "      <th></th>\n",
       "    </tr>\n",
       "  </thead>\n",
       "  <tbody>\n",
       "    <tr>\n",
       "      <th>./data/4/54650.txt</th>\n",
       "      <td>993726297</td>\n",
       "      <td>2001-06-28 04:04:57-07:00</td>\n",
       "      <td>j.kaminski@enron.com</td>\n",
       "      <td>1</td>\n",
       "      <td>RE: Thu evening</td>\n",
       "      <td>78</td>\n",
       "    </tr>\n",
       "    <tr>\n",
       "      <th>./data/6/173776.txt</th>\n",
       "      <td>963928140</td>\n",
       "      <td>2000-07-18 06:49:00-07:00</td>\n",
       "      <td>steven.kean@enron.com</td>\n",
       "      <td>1</td>\n",
       "      <td>Re: Price Cap Media--DRAFT</td>\n",
       "      <td>81</td>\n",
       "    </tr>\n",
       "    <tr>\n",
       "      <th>./data/1/138102.txt</th>\n",
       "      <td>1005755746</td>\n",
       "      <td>2001-11-14 08:35:46-08:00</td>\n",
       "      <td>john.shelk@enron.com</td>\n",
       "      <td>2</td>\n",
       "      <td>RE: Dynegy/Enron Point of Contact</td>\n",
       "      <td>51</td>\n",
       "    </tr>\n",
       "    <tr>\n",
       "      <th>./data/1/173413.txt</th>\n",
       "      <td>951069180</td>\n",
       "      <td>2000-02-20 09:53:00-08:00</td>\n",
       "      <td>steven.kean@enron.com</td>\n",
       "      <td>3</td>\n",
       "      <td>Re: Trade Mission</td>\n",
       "      <td>315</td>\n",
       "    </tr>\n",
       "    <tr>\n",
       "      <th>./data/1/219048.txt</th>\n",
       "      <td>997483225</td>\n",
       "      <td>2001-08-10 15:40:25-07:00</td>\n",
       "      <td>ray.alvarez@enron.com</td>\n",
       "      <td>4</td>\n",
       "      <td>CONFIDENTIAL Attached file</td>\n",
       "      <td>15</td>\n",
       "    </tr>\n",
       "  </tbody>\n",
       "</table>\n",
       "</div>"
      ],
      "text/plain": [
       "                             ts                   datetime  \\\n",
       "email_id                                                     \n",
       "./data/4/54650.txt    993726297  2001-06-28 04:04:57-07:00   \n",
       "./data/6/173776.txt   963928140  2000-07-18 06:49:00-07:00   \n",
       "./data/1/138102.txt  1005755746  2001-11-14 08:35:46-08:00   \n",
       "./data/1/173413.txt   951069180  2000-02-20 09:53:00-08:00   \n",
       "./data/1/219048.txt   997483225  2001-08-10 15:40:25-07:00   \n",
       "\n",
       "                                    sender  num_recipients  \\\n",
       "email_id                                                     \n",
       "./data/4/54650.txt    j.kaminski@enron.com               1   \n",
       "./data/6/173776.txt  steven.kean@enron.com               1   \n",
       "./data/1/138102.txt   john.shelk@enron.com               2   \n",
       "./data/1/173413.txt  steven.kean@enron.com               3   \n",
       "./data/1/219048.txt  ray.alvarez@enron.com               4   \n",
       "\n",
       "                                               subject  num_lines_in_msg  \n",
       "email_id                                                                  \n",
       "./data/4/54650.txt                     RE: Thu evening                78  \n",
       "./data/6/173776.txt         Re: Price Cap Media--DRAFT                81  \n",
       "./data/1/138102.txt  RE: Dynegy/Enron Point of Contact                51  \n",
       "./data/1/173413.txt                  Re: Trade Mission               315  \n",
       "./data/1/219048.txt         CONFIDENTIAL Attached file                15  "
      ]
     },
     "execution_count": 3,
     "metadata": {},
     "output_type": "execute_result"
    }
   ],
   "source": [
    "# Let's take a look at the emails table\n",
    "enronData.emails.head()"
   ]
  },
  {
   "cell_type": "code",
   "execution_count": 4,
   "metadata": {
    "collapsed": false
   },
   "outputs": [
    {
     "data": {
      "text/html": [
       "<div>\n",
       "<table border=\"1\" class=\"dataframe\">\n",
       "  <thead>\n",
       "    <tr style=\"text-align: right;\">\n",
       "      <th></th>\n",
       "      <th>email_id</th>\n",
       "      <th>recipient</th>\n",
       "    </tr>\n",
       "  </thead>\n",
       "  <tbody>\n",
       "    <tr>\n",
       "      <th>0</th>\n",
       "      <td>./data/1/10425.txt</td>\n",
       "      <td>kenneth.lay@enron.com</td>\n",
       "    </tr>\n",
       "    <tr>\n",
       "      <th>1</th>\n",
       "      <td>./data/1/10425.txt</td>\n",
       "      <td>mark.frevert@enron.com</td>\n",
       "    </tr>\n",
       "    <tr>\n",
       "      <th>2</th>\n",
       "      <td>./data/1/10425.txt</td>\n",
       "      <td>jeff.skilling@enron.com</td>\n",
       "    </tr>\n",
       "    <tr>\n",
       "      <th>3</th>\n",
       "      <td>./data/1/10425.txt</td>\n",
       "      <td>mark.schroeder@enron.com</td>\n",
       "    </tr>\n",
       "    <tr>\n",
       "      <th>4</th>\n",
       "      <td>./data/1/10425.txt</td>\n",
       "      <td>joseph.sutton@enron.com</td>\n",
       "    </tr>\n",
       "  </tbody>\n",
       "</table>\n",
       "</div>"
      ],
      "text/plain": [
       "             email_id                 recipient\n",
       "0  ./data/1/10425.txt     kenneth.lay@enron.com\n",
       "1  ./data/1/10425.txt    mark.frevert@enron.com\n",
       "2  ./data/1/10425.txt   jeff.skilling@enron.com\n",
       "3  ./data/1/10425.txt  mark.schroeder@enron.com\n",
       "4  ./data/1/10425.txt   joseph.sutton@enron.com"
      ]
     },
     "execution_count": 4,
     "metadata": {},
     "output_type": "execute_result"
    }
   ],
   "source": [
    "# The recipients table is being maintained separately so as to not keep lists as values in the dataframe\n",
    "enronData.recipients.head(5)"
   ]
  },
  {
   "cell_type": "markdown",
   "metadata": {},
   "source": [
    "## Basic analysis\n",
    "\n",
    "Let's now do some basic analysis to see how we can use this data and play with it to get some insights and information of value.\n",
    "\n",
    "\n",
    "### Question 1\n",
    "\n",
    "In the next couple sections I am trying to answer the following question:\n",
    "\n",
    "**Let's label an email as \"direct\" if there is exactly one recipient and \"broadcast\" if it has multiple recipients. Identify the top 3 people who received the largest number of direct emails and the person (or people) who sent the largest number of broadcast emails.**"
   ]
  },
  {
   "cell_type": "code",
   "execution_count": 5,
   "metadata": {
    "collapsed": false
   },
   "outputs": [
    {
     "data": {
      "text/html": [
       "<div>\n",
       "<table border=\"1\" class=\"dataframe\">\n",
       "  <thead>\n",
       "    <tr style=\"text-align: right;\">\n",
       "      <th></th>\n",
       "      <th>direct_email_count</th>\n",
       "    </tr>\n",
       "    <tr>\n",
       "      <th>recipient</th>\n",
       "      <th></th>\n",
       "    </tr>\n",
       "  </thead>\n",
       "  <tbody>\n",
       "    <tr>\n",
       "      <th>maureen.mcvicker@enron.com</th>\n",
       "      <td>115</td>\n",
       "    </tr>\n",
       "    <tr>\n",
       "      <th>vkaminski@aol.com</th>\n",
       "      <td>43</td>\n",
       "    </tr>\n",
       "    <tr>\n",
       "      <th>jeff.dasovich@enron.com</th>\n",
       "      <td>25</td>\n",
       "    </tr>\n",
       "    <tr>\n",
       "      <th>richard.shapiro@enron.com</th>\n",
       "      <td>23</td>\n",
       "    </tr>\n",
       "    <tr>\n",
       "      <th>elizabeth.linnell@enron.com</th>\n",
       "      <td>18</td>\n",
       "    </tr>\n",
       "  </tbody>\n",
       "</table>\n",
       "</div>"
      ],
      "text/plain": [
       "                             direct_email_count\n",
       "recipient                                      \n",
       "maureen.mcvicker@enron.com                  115\n",
       "vkaminski@aol.com                            43\n",
       "jeff.dasovich@enron.com                      25\n",
       "richard.shapiro@enron.com                    23\n",
       "elizabeth.linnell@enron.com                  18"
      ]
     },
     "execution_count": 5,
     "metadata": {},
     "output_type": "execute_result"
    }
   ],
   "source": [
    "directs = pd.merge(enronData.recipients, enronData.emails[enronData.emails['num_recipients'] == 1], left_on='email_id', right_index=True)[['ts', 'recipient']]\n",
    "directs = directs.groupby('recipient').count().sort_values(by='ts', ascending=[0])\n",
    "directs.columns = ['direct_email_count']\n",
    "directs.head()"
   ]
  },
  {
   "cell_type": "code",
   "execution_count": 6,
   "metadata": {
    "collapsed": false
   },
   "outputs": [
    {
     "data": {
      "text/html": [
       "<div>\n",
       "<table border=\"1\" class=\"dataframe\">\n",
       "  <thead>\n",
       "    <tr style=\"text-align: right;\">\n",
       "      <th></th>\n",
       "      <th>broadcast_email_count</th>\n",
       "    </tr>\n",
       "    <tr>\n",
       "      <th>sender</th>\n",
       "      <th></th>\n",
       "    </tr>\n",
       "  </thead>\n",
       "  <tbody>\n",
       "    <tr>\n",
       "      <th>steven.kean@enron.com</th>\n",
       "      <td>252</td>\n",
       "    </tr>\n",
       "    <tr>\n",
       "      <th>john.shelk@enron.com</th>\n",
       "      <td>83</td>\n",
       "    </tr>\n",
       "    <tr>\n",
       "      <th>j.kaminski@enron.com</th>\n",
       "      <td>40</td>\n",
       "    </tr>\n",
       "    <tr>\n",
       "      <th>miyung.buster@enron.com</th>\n",
       "      <td>31</td>\n",
       "    </tr>\n",
       "    <tr>\n",
       "      <th>alan.comnes@enron.com</th>\n",
       "      <td>19</td>\n",
       "    </tr>\n",
       "  </tbody>\n",
       "</table>\n",
       "</div>"
      ],
      "text/plain": [
       "                         broadcast_email_count\n",
       "sender                                        \n",
       "steven.kean@enron.com                      252\n",
       "john.shelk@enron.com                        83\n",
       "j.kaminski@enron.com                        40\n",
       "miyung.buster@enron.com                     31\n",
       "alan.comnes@enron.com                       19"
      ]
     },
     "execution_count": 6,
     "metadata": {},
     "output_type": "execute_result"
    }
   ],
   "source": [
    "broadcasts = enronData.emails[enronData.emails['num_recipients'] > 1][['sender', 'ts']]\n",
    "broadcasts = broadcasts.groupby('sender').count().sort_values(by='ts', ascending=[0])\n",
    "broadcasts.columns = ['broadcast_email_count']\n",
    "broadcasts.head()"
   ]
  },
  {
   "cell_type": "markdown",
   "metadata": {},
   "source": [
    "### Answer 1\n",
    "\n",
    "Based on the outputs above, we can say:\n",
    "\n",
    "- The top three people who received the largets number of direct mail are:\n",
    "    1. Maureen McVicker (maureen.mcvicker@enron.com)\n",
    "    2. V Kaminski (vkaminski@aol.com)\n",
    "    3. Jeff Dasovich (jeff.dasovich@enron.com)\n",
    "- The person who sent the largest number of direct email is **Steven Kean**\n",
    "\n",
    "---------------\n",
    "\n",
    "### Question 2\n",
    "\n",
    "In the section I am trying to answer the following question:\n",
    "\n",
    "**Find the five emails with the fastest response times. Please include file IDs, subject, sender, recipient, and response times. (A response is defined as a message from one of the recipients to the original sender whose subject line contains all of the words from the subject of the original email, and the response time should be measured as the difference between when the original email was sent and when the response was sent.)**"
   ]
  },
  {
   "cell_type": "code",
   "execution_count": 7,
   "metadata": {
    "collapsed": false
   },
   "outputs": [
    {
     "data": {
      "text/html": [
       "<div>\n",
       "<table border=\"1\" class=\"dataframe\">\n",
       "  <thead>\n",
       "    <tr style=\"text-align: right;\">\n",
       "      <th></th>\n",
       "      <th>subject</th>\n",
       "      <th>sender</th>\n",
       "      <th>recipient_responder</th>\n",
       "      <th>response_time_in_seconds</th>\n",
       "    </tr>\n",
       "    <tr>\n",
       "      <th>email_id</th>\n",
       "      <th></th>\n",
       "      <th></th>\n",
       "      <th></th>\n",
       "      <th></th>\n",
       "    </tr>\n",
       "  </thead>\n",
       "  <tbody>\n",
       "    <tr>\n",
       "      <th>./data/1/139495.txt</th>\n",
       "      <td>FW: Confidential - GSS Organization Value to ETS</td>\n",
       "      <td>rod.hayslett@enron.com</td>\n",
       "      <td>stanley.horton@enron.com</td>\n",
       "      <td>148</td>\n",
       "    </tr>\n",
       "    <tr>\n",
       "      <th>./data/1/228996.txt</th>\n",
       "      <td>RE: CONFIDENTIAL Personnel issue</td>\n",
       "      <td>michelle.cash@enron.com</td>\n",
       "      <td>lizzette.palmer@enron.com</td>\n",
       "      <td>236</td>\n",
       "    </tr>\n",
       "    <tr>\n",
       "      <th>./data/1/121747.txt</th>\n",
       "      <td>Re: CONFIDENTIAL - Residential in CA</td>\n",
       "      <td>karen.denne@enron.com</td>\n",
       "      <td>jeff.dasovich@enron.com</td>\n",
       "      <td>240</td>\n",
       "    </tr>\n",
       "    <tr>\n",
       "      <th>./data/4/122923.txt</th>\n",
       "      <td>RE: Eeegads...</td>\n",
       "      <td>paul.kaufman@enron.com</td>\n",
       "      <td>jeff.dasovich@enron.com</td>\n",
       "      <td>240</td>\n",
       "    </tr>\n",
       "    <tr>\n",
       "      <th>./data/1/201878.txt</th>\n",
       "      <td>FW: SRP SETTLEMENT PROPOSAL - PRIVILEGED AND C...</td>\n",
       "      <td>m..tholt@enron.com</td>\n",
       "      <td>stephanie.miller@enron.com</td>\n",
       "      <td>262</td>\n",
       "    </tr>\n",
       "  </tbody>\n",
       "</table>\n",
       "</div>"
      ],
      "text/plain": [
       "                                                               subject  \\\n",
       "email_id                                                                 \n",
       "./data/1/139495.txt   FW: Confidential - GSS Organization Value to ETS   \n",
       "./data/1/228996.txt                   RE: CONFIDENTIAL Personnel issue   \n",
       "./data/1/121747.txt               Re: CONFIDENTIAL - Residential in CA   \n",
       "./data/4/122923.txt                                     RE: Eeegads...   \n",
       "./data/1/201878.txt  FW: SRP SETTLEMENT PROPOSAL - PRIVILEGED AND C...   \n",
       "\n",
       "                                      sender         recipient_responder  \\\n",
       "email_id                                                                   \n",
       "./data/1/139495.txt   rod.hayslett@enron.com    stanley.horton@enron.com   \n",
       "./data/1/228996.txt  michelle.cash@enron.com   lizzette.palmer@enron.com   \n",
       "./data/1/121747.txt    karen.denne@enron.com     jeff.dasovich@enron.com   \n",
       "./data/4/122923.txt   paul.kaufman@enron.com     jeff.dasovich@enron.com   \n",
       "./data/1/201878.txt       m..tholt@enron.com  stephanie.miller@enron.com   \n",
       "\n",
       "                     response_time_in_seconds  \n",
       "email_id                                       \n",
       "./data/1/139495.txt                       148  \n",
       "./data/1/228996.txt                       236  \n",
       "./data/1/121747.txt                       240  \n",
       "./data/4/122923.txt                       240  \n",
       "./data/1/201878.txt                       262  "
      ]
     },
     "execution_count": 7,
     "metadata": {},
     "output_type": "execute_result"
    }
   ],
   "source": [
    "# Nested joins to find all emails to which an email can be a potential response\n",
    "responses = pd.merge(\n",
    "    pd.merge(\n",
    "        enronData.emails, \n",
    "        enronData.recipients, \n",
    "        left_on='sender',\n",
    "        right_on='recipient'), \n",
    "    enronData.emails, \n",
    "    left_on='email_id', \n",
    "    right_index=True)\n",
    "\n",
    "# Drop unnecessary columns and rename some of the ones we are using\n",
    "responses = responses[['ts_x', 'subject_x', 'email_id', 'recipient', 'ts_y', 'sender_y', 'subject_y']]\n",
    "responses.columns = ['response_ts', 'response_subject', 'email_id', 'recipient', 'ts', 'sender', 'subject']\n",
    "\n",
    "# Apply conditions\n",
    "responses['lowercase_subject'] = responses.subject.apply(lambda value: value.lower())\n",
    "responses['response_time'] = responses['response_ts'] - responses['ts']\n",
    "responses = responses[(responses.lowercase_subject != '') \n",
    "                      & (responses.lowercase_subject != 're:') \n",
    "                      & (responses.lowercase_subject != 'fwd:') \n",
    "                      & (responses.response_time > 0)]\n",
    "responses = responses[responses.apply(lambda row: row['subject'] in row['response_subject'], axis=1)]\n",
    "\n",
    "# Pick the shortest response time for each email\n",
    "responses = responses.sort_values(by=['email_id', 'response_time'], ascending=[1, 1])\n",
    "responses = responses.groupby(['email_id']).first().sort_values(by='response_time', ascending=[1])\n",
    "\n",
    "# Retain useful columns and rename some\n",
    "responses = responses[['subject', 'sender', 'recipient', 'response_time']]\n",
    "responses.columns = ['subject', 'sender', 'recipient_responder', 'response_time_in_seconds']\n",
    "responses.head()"
   ]
  },
  {
   "cell_type": "markdown",
   "metadata": {},
   "source": [
    "### Answer 2\n",
    "\n",
    "Based on the outputs above, we can say that the five emails with the fastest response times are:\n",
    "\n",
    "| id   | email_id | subject | sender | recipient_responder | response_time_in_seconds |\t\t\t\n",
    "| ---  | -------- | ------- | ------ | ------------------- | ------------------------ |\n",
    "| 1 | ./data/1/139495.txt | FW: Confidential - GSS Organization Value to ETS | rod.hayslett@enron.com | stanley.horton@enron.com | 148 |\n",
    "| 2 | ./data/1/228996.txt | RE: CONFIDENTIAL Personnel issue | michelle.cash@enron.com | lizzette.palmer@enron.com | 236 |\n",
    "| 3 | ./data/1/121747.txt | Re: CONFIDENTIAL - Residential in CA | karen.denne@enron.com | jeff.dasovich@enron.com | 240 |\n",
    "| 4 | ./data/4/122923.txt | RE: Eeegads... | paul.kaufman@enron.com | jeff.dasovich@enron.com | 240 |\n",
    "| 5 | ./data/1/201878.txt | FW: SRP SETTLEMENT PROPOSAL - PRIVILEGED AND C... | m..tholt@enron.com | stephanie.miller@enron.com | 262 |"
   ]
  },
  {
   "cell_type": "code",
   "execution_count": null,
   "metadata": {
    "collapsed": true
   },
   "outputs": [],
   "source": []
  }
 ],
 "metadata": {
  "kernelspec": {
   "display_name": "Python 2",
   "language": "python",
   "name": "python2"
  },
  "language_info": {
   "codemirror_mode": {
    "name": "ipython",
    "version": 2
   },
   "file_extension": ".py",
   "mimetype": "text/x-python",
   "name": "python",
   "nbconvert_exporter": "python",
   "pygments_lexer": "ipython2",
   "version": "2.7.10"
  }
 },
 "nbformat": 4,
 "nbformat_minor": 0
}
