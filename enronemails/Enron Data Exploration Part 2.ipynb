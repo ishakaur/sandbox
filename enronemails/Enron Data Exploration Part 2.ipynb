{
 "cells": [
  {
   "cell_type": "markdown",
   "metadata": {},
   "source": [
    "# Handling and analysis of the Enron Email Dataset - Part 1\n",
    "\n",
    "\n",
    "------------------------------\n",
    "\n",
    "## The class definitions\n",
    "\n",
    "\n",
    "* Class: EnronEmailParser: Parser for the emails included in the [Enron Email Dataset](http://bailando.sims.berkeley.edu/enron/enron_with_categories.tar.gz).  \n",
    "_Note: This particular implementation treats all recipients including to, cc and bcc recipients as same type._\n",
    "* Class: EnronEmailDataset: Data handler for the Enron Email Dataset  \n",
    "_Note1: It relies on the EnronEmailParser class to do the actual email parsing._  \n",
    "_Note2: It uses pandas dataframes as the data storage objects._"
   ]
  },
  {
   "cell_type": "code",
   "execution_count": null,
   "metadata": {
    "collapsed": true
   },
   "outputs": [],
   "source": [
    "import pandas as pd\n",
    "from enrondatahandling import EnronEmailDataset"
   ]
  },
  {
   "cell_type": "code",
   "execution_count": 1,
   "metadata": {
    "collapsed": false
   },
   "outputs": [
    {
     "name": "stdout",
     "output_type": "stream",
     "text": [
      "Surveyed 1702 email files\n",
      "Parsed 1702 emails\n"
     ]
    }
   ],
   "source": [
    "# Load and parse the enron email dataset\n",
    "enronData = EnronEmailDataset('./data')"
   ]
  },
  {
   "cell_type": "code",
   "execution_count": null,
   "metadata": {
    "collapsed": true
   },
   "outputs": [],
   "source": []
  }
 ],
 "metadata": {
  "kernelspec": {
   "display_name": "Python 2",
   "language": "python",
   "name": "python2"
  },
  "language_info": {
   "codemirror_mode": {
    "name": "ipython",
    "version": 2
   },
   "file_extension": ".py",
   "mimetype": "text/x-python",
   "name": "python",
   "nbconvert_exporter": "python",
   "pygments_lexer": "ipython2",
   "version": "2.7.10"
  }
 },
 "nbformat": 4,
 "nbformat_minor": 0
}
