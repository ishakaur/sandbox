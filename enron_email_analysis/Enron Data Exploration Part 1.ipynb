{
 "cells": [
  {
   "cell_type": "markdown",
   "metadata": {},
   "source": [
    "# Handling and analysis of the Enron Email Dataset - Part 1\n",
    "\n",
    "\n",
    "------------------------------\n",
    "\n",
    "## The class definitions\n",
    "\n",
    "\n",
    "- EnronEmailParser class\n",
    "    - Parser for the emails included in the [Enron Email Dataset](https://www.cs.cmu.edu/~./enron/).\n",
    "    - This particular implementation treats all recipients including to, cc and bcc recipients as same type\n",
    "- EnronEmailDataset class\n",
    "    - Data handler for the Enron Email Dataset\n",
    "    - It relies on the EnronEmailParser class to do the actual email parsing.\n",
    "    - It uses pandas dataframes as the data storage objects."
   ]
  },
  {
   "cell_type": "code",
   "execution_count": 1,
   "metadata": {
    "collapsed": true
   },
   "outputs": [],
   "source": [
    "from IPython.display import display\n",
    "import pandas as pd\n",
    "from enrondatahandling import EnronEmailDataset"
   ]
  },
  {
   "cell_type": "markdown",
   "metadata": {},
   "source": [
    "## Basic Setup\n",
    "\n",
    "Having defined the basic classes that will handle the data and parsing for us, we can now start to load and parse our data. The two main tables, aka dataframes, are shown below (limited to the top 5 rows in each case)."
   ]
  },
  {
   "cell_type": "code",
   "execution_count": 2,
   "metadata": {
    "collapsed": false
   },
   "outputs": [
    {
     "name": "stdout",
     "output_type": "stream",
     "text": [
      "Surveyed 1702 email files\n",
      "Parsed 1702 emails\n",
      "Found 83 responses\n"
     ]
    }
   ],
   "source": [
    "# Load and parse the enron email dataset\n",
    "enronData = EnronEmailDataset('./data')"
   ]
  },
  {
   "cell_type": "code",
   "execution_count": 3,
   "metadata": {
    "collapsed": false
   },
   "outputs": [
    {
     "data": {
      "text/html": [
       "<div>\n",
       "<table border=\"1\" class=\"dataframe\">\n",
       "  <thead>\n",
       "    <tr style=\"text-align: right;\">\n",
       "      <th></th>\n",
       "      <th>email_id</th>\n",
       "      <th>datetime</th>\n",
       "      <th>ts</th>\n",
       "      <th>tz</th>\n",
       "      <th>sender</th>\n",
       "      <th>num_tos</th>\n",
       "      <th>num_ccs</th>\n",
       "      <th>num_bccs</th>\n",
       "      <th>num_recipients</th>\n",
       "      <th>subject</th>\n",
       "      <th>num_lines_in_msg</th>\n",
       "    </tr>\n",
       "    <tr>\n",
       "      <th>email_id</th>\n",
       "      <th></th>\n",
       "      <th></th>\n",
       "      <th></th>\n",
       "      <th></th>\n",
       "      <th></th>\n",
       "      <th></th>\n",
       "      <th></th>\n",
       "      <th></th>\n",
       "      <th></th>\n",
       "      <th></th>\n",
       "      <th></th>\n",
       "    </tr>\n",
       "  </thead>\n",
       "  <tbody>\n",
       "    <tr>\n",
       "      <th>./data/4/54650.txt</th>\n",
       "      <td>./data/4/54650.txt</td>\n",
       "      <td>2001-06-28 04:04:57-07:00</td>\n",
       "      <td>993726297</td>\n",
       "      <td>tzoffset(u'PDT', -25200)</td>\n",
       "      <td>j.kaminski@enron.com</td>\n",
       "      <td>1</td>\n",
       "      <td>0</td>\n",
       "      <td>0</td>\n",
       "      <td>1</td>\n",
       "      <td>RE: Thu evening</td>\n",
       "      <td>78</td>\n",
       "    </tr>\n",
       "    <tr>\n",
       "      <th>./data/6/173776.txt</th>\n",
       "      <td>./data/6/173776.txt</td>\n",
       "      <td>2000-07-18 06:49:00-07:00</td>\n",
       "      <td>963928140</td>\n",
       "      <td>tzoffset(u'PDT', -25200)</td>\n",
       "      <td>steven.kean@enron.com</td>\n",
       "      <td>1</td>\n",
       "      <td>0</td>\n",
       "      <td>0</td>\n",
       "      <td>1</td>\n",
       "      <td>Re: Price Cap Media--DRAFT</td>\n",
       "      <td>81</td>\n",
       "    </tr>\n",
       "    <tr>\n",
       "      <th>./data/1/138102.txt</th>\n",
       "      <td>./data/1/138102.txt</td>\n",
       "      <td>2001-11-14 08:35:46-08:00</td>\n",
       "      <td>1005755746</td>\n",
       "      <td>tzoffset(u'PST', -28800)</td>\n",
       "      <td>john.shelk@enron.com</td>\n",
       "      <td>1</td>\n",
       "      <td>1</td>\n",
       "      <td>0</td>\n",
       "      <td>2</td>\n",
       "      <td>RE: Dynegy/Enron Point of Contact</td>\n",
       "      <td>51</td>\n",
       "    </tr>\n",
       "    <tr>\n",
       "      <th>./data/1/173413.txt</th>\n",
       "      <td>./data/1/173413.txt</td>\n",
       "      <td>2000-02-20 09:53:00-08:00</td>\n",
       "      <td>951069180</td>\n",
       "      <td>tzoffset(u'PST', -28800)</td>\n",
       "      <td>steven.kean@enron.com</td>\n",
       "      <td>1</td>\n",
       "      <td>2</td>\n",
       "      <td>0</td>\n",
       "      <td>3</td>\n",
       "      <td>Re: Trade Mission</td>\n",
       "      <td>315</td>\n",
       "    </tr>\n",
       "    <tr>\n",
       "      <th>./data/1/219048.txt</th>\n",
       "      <td>./data/1/219048.txt</td>\n",
       "      <td>2001-08-10 15:40:25-07:00</td>\n",
       "      <td>997483225</td>\n",
       "      <td>tzoffset(u'PDT', -25200)</td>\n",
       "      <td>ray.alvarez@enron.com</td>\n",
       "      <td>2</td>\n",
       "      <td>2</td>\n",
       "      <td>0</td>\n",
       "      <td>4</td>\n",
       "      <td>CONFIDENTIAL Attached file</td>\n",
       "      <td>15</td>\n",
       "    </tr>\n",
       "  </tbody>\n",
       "</table>\n",
       "</div>"
      ],
      "text/plain": [
       "                                email_id                   datetime  \\\n",
       "email_id                                                              \n",
       "./data/4/54650.txt    ./data/4/54650.txt  2001-06-28 04:04:57-07:00   \n",
       "./data/6/173776.txt  ./data/6/173776.txt  2000-07-18 06:49:00-07:00   \n",
       "./data/1/138102.txt  ./data/1/138102.txt  2001-11-14 08:35:46-08:00   \n",
       "./data/1/173413.txt  ./data/1/173413.txt  2000-02-20 09:53:00-08:00   \n",
       "./data/1/219048.txt  ./data/1/219048.txt  2001-08-10 15:40:25-07:00   \n",
       "\n",
       "                             ts                        tz  \\\n",
       "email_id                                                    \n",
       "./data/4/54650.txt    993726297  tzoffset(u'PDT', -25200)   \n",
       "./data/6/173776.txt   963928140  tzoffset(u'PDT', -25200)   \n",
       "./data/1/138102.txt  1005755746  tzoffset(u'PST', -28800)   \n",
       "./data/1/173413.txt   951069180  tzoffset(u'PST', -28800)   \n",
       "./data/1/219048.txt   997483225  tzoffset(u'PDT', -25200)   \n",
       "\n",
       "                                    sender  num_tos  num_ccs  num_bccs  \\\n",
       "email_id                                                                 \n",
       "./data/4/54650.txt    j.kaminski@enron.com        1        0         0   \n",
       "./data/6/173776.txt  steven.kean@enron.com        1        0         0   \n",
       "./data/1/138102.txt   john.shelk@enron.com        1        1         0   \n",
       "./data/1/173413.txt  steven.kean@enron.com        1        2         0   \n",
       "./data/1/219048.txt  ray.alvarez@enron.com        2        2         0   \n",
       "\n",
       "                     num_recipients                            subject  \\\n",
       "email_id                                                                 \n",
       "./data/4/54650.txt                1                    RE: Thu evening   \n",
       "./data/6/173776.txt               1         Re: Price Cap Media--DRAFT   \n",
       "./data/1/138102.txt               2  RE: Dynegy/Enron Point of Contact   \n",
       "./data/1/173413.txt               3                  Re: Trade Mission   \n",
       "./data/1/219048.txt               4         CONFIDENTIAL Attached file   \n",
       "\n",
       "                     num_lines_in_msg  \n",
       "email_id                               \n",
       "./data/4/54650.txt                 78  \n",
       "./data/6/173776.txt                81  \n",
       "./data/1/138102.txt                51  \n",
       "./data/1/173413.txt               315  \n",
       "./data/1/219048.txt                15  "
      ]
     },
     "execution_count": 3,
     "metadata": {},
     "output_type": "execute_result"
    }
   ],
   "source": [
    "# Let's take a look at the emails table\n",
    "enronData.emails.head()"
   ]
  },
  {
   "cell_type": "code",
   "execution_count": 4,
   "metadata": {
    "collapsed": false
   },
   "outputs": [
    {
     "data": {
      "text/html": [
       "<div>\n",
       "<table border=\"1\" class=\"dataframe\">\n",
       "  <thead>\n",
       "    <tr style=\"text-align: right;\">\n",
       "      <th></th>\n",
       "      <th>email_id</th>\n",
       "      <th>recipient</th>\n",
       "      <th>type</th>\n",
       "    </tr>\n",
       "  </thead>\n",
       "  <tbody>\n",
       "    <tr>\n",
       "      <th>0</th>\n",
       "      <td>./data/1/10425.txt</td>\n",
       "      <td>kenneth.lay@enron.com</td>\n",
       "      <td>to</td>\n",
       "    </tr>\n",
       "    <tr>\n",
       "      <th>1</th>\n",
       "      <td>./data/1/10425.txt</td>\n",
       "      <td>mark.frevert@enron.com</td>\n",
       "      <td>to</td>\n",
       "    </tr>\n",
       "    <tr>\n",
       "      <th>2</th>\n",
       "      <td>./data/1/10425.txt</td>\n",
       "      <td>jeff.skilling@enron.com</td>\n",
       "      <td>to</td>\n",
       "    </tr>\n",
       "    <tr>\n",
       "      <th>3</th>\n",
       "      <td>./data/1/10425.txt</td>\n",
       "      <td>mark.schroeder@enron.com</td>\n",
       "      <td>to</td>\n",
       "    </tr>\n",
       "    <tr>\n",
       "      <th>4</th>\n",
       "      <td>./data/1/10425.txt</td>\n",
       "      <td>joseph.sutton@enron.com</td>\n",
       "      <td>to</td>\n",
       "    </tr>\n",
       "  </tbody>\n",
       "</table>\n",
       "</div>"
      ],
      "text/plain": [
       "             email_id                 recipient type\n",
       "0  ./data/1/10425.txt     kenneth.lay@enron.com   to\n",
       "1  ./data/1/10425.txt    mark.frevert@enron.com   to\n",
       "2  ./data/1/10425.txt   jeff.skilling@enron.com   to\n",
       "3  ./data/1/10425.txt  mark.schroeder@enron.com   to\n",
       "4  ./data/1/10425.txt   joseph.sutton@enron.com   to"
      ]
     },
     "execution_count": 4,
     "metadata": {},
     "output_type": "execute_result"
    }
   ],
   "source": [
    "# The recipients table is being maintained separately so as to not keep lists as values in the dataframe\n",
    "enronData.recipients.head()"
   ]
  },
  {
   "cell_type": "markdown",
   "metadata": {},
   "source": [
    "## Basic analysis\n",
    "\n",
    "Let's now do some basic analysis to see how we can use this data and play with it to get some insights and information of value. \n",
    "\n",
    "**_Note: In both the questions below, I have included the people on the to list as well as the cc list and the bcc list to mean recipients._**\n",
    "\n",
    "\n",
    "### Question 1\n",
    "\n",
    "In the next couple sections I am trying to answer the following question:\n",
    "\n",
    ">Let's label an email as \"direct\" if there is exactly one recipient and \"broadcast\" if it has multiple recipients. Identify the top 3 people who received the largest number of direct emails and the person (or people) who sent the largest number of broadcast emails."
   ]
  },
  {
   "cell_type": "code",
   "execution_count": 5,
   "metadata": {
    "collapsed": false
   },
   "outputs": [
    {
     "data": {
      "text/html": [
       "<div>\n",
       "<table border=\"1\" class=\"dataframe\">\n",
       "  <thead>\n",
       "    <tr style=\"text-align: right;\">\n",
       "      <th></th>\n",
       "      <th>count_direct</th>\n",
       "    </tr>\n",
       "    <tr>\n",
       "      <th>recipient</th>\n",
       "      <th></th>\n",
       "    </tr>\n",
       "  </thead>\n",
       "  <tbody>\n",
       "    <tr>\n",
       "      <th>maureen.mcvicker@enron.com</th>\n",
       "      <td>115</td>\n",
       "    </tr>\n",
       "    <tr>\n",
       "      <th>vkaminski@aol.com</th>\n",
       "      <td>43</td>\n",
       "    </tr>\n",
       "    <tr>\n",
       "      <th>jeff.dasovich@enron.com</th>\n",
       "      <td>25</td>\n",
       "    </tr>\n",
       "    <tr>\n",
       "      <th>richard.shapiro@enron.com</th>\n",
       "      <td>23</td>\n",
       "    </tr>\n",
       "    <tr>\n",
       "      <th>elizabeth.linnell@enron.com</th>\n",
       "      <td>18</td>\n",
       "    </tr>\n",
       "  </tbody>\n",
       "</table>\n",
       "</div>"
      ],
      "text/plain": [
       "                             count_direct\n",
       "recipient                                \n",
       "maureen.mcvicker@enron.com            115\n",
       "vkaminski@aol.com                      43\n",
       "jeff.dasovich@enron.com                25\n",
       "richard.shapiro@enron.com              23\n",
       "elizabeth.linnell@enron.com            18"
      ]
     },
     "execution_count": 5,
     "metadata": {},
     "output_type": "execute_result"
    }
   ],
   "source": [
    "directs = pd.merge(\n",
    "    enronData.recipients, \n",
    "    enronData.emails[enronData.emails['num_recipients'] == 1], \n",
    "    left_on='email_id', \n",
    "    right_index=True)[['ts', 'recipient']]\n",
    "directs = (\n",
    "    directs.groupby('recipient')\n",
    "    .count()\n",
    "    .rename(columns={'ts': 'count_direct'})\n",
    "    .sort_values(by='count_direct', ascending=[0]))\n",
    "directs.head()"
   ]
  },
  {
   "cell_type": "code",
   "execution_count": 6,
   "metadata": {
    "collapsed": false
   },
   "outputs": [
    {
     "data": {
      "text/html": [
       "<div>\n",
       "<table border=\"1\" class=\"dataframe\">\n",
       "  <thead>\n",
       "    <tr style=\"text-align: right;\">\n",
       "      <th></th>\n",
       "      <th>count_broadcast</th>\n",
       "    </tr>\n",
       "    <tr>\n",
       "      <th>sender</th>\n",
       "      <th></th>\n",
       "    </tr>\n",
       "  </thead>\n",
       "  <tbody>\n",
       "    <tr>\n",
       "      <th>steven.kean@enron.com</th>\n",
       "      <td>252</td>\n",
       "    </tr>\n",
       "    <tr>\n",
       "      <th>john.shelk@enron.com</th>\n",
       "      <td>83</td>\n",
       "    </tr>\n",
       "    <tr>\n",
       "      <th>j.kaminski@enron.com</th>\n",
       "      <td>40</td>\n",
       "    </tr>\n",
       "    <tr>\n",
       "      <th>miyung.buster@enron.com</th>\n",
       "      <td>31</td>\n",
       "    </tr>\n",
       "    <tr>\n",
       "      <th>alan.comnes@enron.com</th>\n",
       "      <td>19</td>\n",
       "    </tr>\n",
       "  </tbody>\n",
       "</table>\n",
       "</div>"
      ],
      "text/plain": [
       "                         count_broadcast\n",
       "sender                                  \n",
       "steven.kean@enron.com                252\n",
       "john.shelk@enron.com                  83\n",
       "j.kaminski@enron.com                  40\n",
       "miyung.buster@enron.com               31\n",
       "alan.comnes@enron.com                 19"
      ]
     },
     "execution_count": 6,
     "metadata": {},
     "output_type": "execute_result"
    }
   ],
   "source": [
    "broadcasts = enronData.emails[enronData.emails['num_recipients'] > 1][['sender', 'ts']]\n",
    "broadcasts = (\n",
    "    broadcasts.groupby('sender')\n",
    "    .count()\n",
    "    .rename(columns={'ts': 'count_broadcast'})\n",
    "    .sort_values(by='count_broadcast', ascending=[0]))\n",
    "broadcasts.head()"
   ]
  },
  {
   "cell_type": "markdown",
   "metadata": {},
   "source": [
    "### Answer 1\n",
    "\n",
    "Based on the outputs above, we can say:\n",
    "\n",
    "- The top three people who received the largets number of direct mail are:\n",
    "    1. Maureen McVicker (maureen.mcvicker@enron.com)\n",
    "    2. V Kaminski (vkaminski@aol.com)\n",
    "    3. Jeff Dasovich (jeff.dasovich@enron.com)\n",
    "- The person who sent the largest number of direct email is **Steven Kean**\n",
    "\n",
    "---------------\n",
    "\n",
    "### Question 2\n",
    "\n",
    "In the section I am trying to answer the following question:\n",
    "\n",
    ">Find the five emails with the fastest response times. Please include file IDs, subject, sender, recipient, and response times. (A response is defined as a message from one of the recipients to the original sender whose subject line contains all of the words from the subject of the original email, and the response time should be measured as the difference between when the original email was sent and when the response was sent.)"
   ]
  },
  {
   "cell_type": "code",
   "execution_count": 7,
   "metadata": {
    "collapsed": false
   },
   "outputs": [
    {
     "data": {
      "text/html": [
       "<div>\n",
       "<table border=\"1\" class=\"dataframe\">\n",
       "  <thead>\n",
       "    <tr style=\"text-align: right;\">\n",
       "      <th></th>\n",
       "      <th>email_id</th>\n",
       "      <th>sender</th>\n",
       "      <th>subject</th>\n",
       "      <th>email_id_response</th>\n",
       "      <th>sender_response</th>\n",
       "      <th>subject_response</th>\n",
       "      <th>response_time_in_secs</th>\n",
       "    </tr>\n",
       "  </thead>\n",
       "  <tbody>\n",
       "    <tr>\n",
       "      <th>0</th>\n",
       "      <td>./data/1/139495.txt</td>\n",
       "      <td>rod.hayslett@enron.com</td>\n",
       "      <td>FW: Confidential - GSS Organization Value to ETS</td>\n",
       "      <td>./data/1/151121.txt</td>\n",
       "      <td>stanley.horton@enron.com</td>\n",
       "      <td>FW: Confidential - GSS Organization Value to ETS</td>\n",
       "      <td>148</td>\n",
       "    </tr>\n",
       "    <tr>\n",
       "      <th>1</th>\n",
       "      <td>./data/1/228996.txt</td>\n",
       "      <td>michelle.cash@enron.com</td>\n",
       "      <td>RE: CONFIDENTIAL Personnel issue</td>\n",
       "      <td>./data/4/228911.txt</td>\n",
       "      <td>lizzette.palmer@enron.com</td>\n",
       "      <td>RE: CONFIDENTIAL Personnel issue</td>\n",
       "      <td>236</td>\n",
       "    </tr>\n",
       "    <tr>\n",
       "      <th>2</th>\n",
       "      <td>./data/4/122923.txt</td>\n",
       "      <td>paul.kaufman@enron.com</td>\n",
       "      <td>RE: Eeegads...</td>\n",
       "      <td>./data/3/122926.txt</td>\n",
       "      <td>jeff.dasovich@enron.com</td>\n",
       "      <td>RE: Eeegads...</td>\n",
       "      <td>240</td>\n",
       "    </tr>\n",
       "    <tr>\n",
       "      <th>3</th>\n",
       "      <td>./data/1/121747.txt</td>\n",
       "      <td>karen.denne@enron.com</td>\n",
       "      <td>Re: CONFIDENTIAL - Residential in CA</td>\n",
       "      <td>./data/3/121748.txt</td>\n",
       "      <td>jeff.dasovich@enron.com</td>\n",
       "      <td>Re: CONFIDENTIAL - Residential in CA</td>\n",
       "      <td>240</td>\n",
       "    </tr>\n",
       "    <tr>\n",
       "      <th>4</th>\n",
       "      <td>./data/1/201878.txt</td>\n",
       "      <td>m..tholt@enron.com</td>\n",
       "      <td>FW: SRP SETTLEMENT PROPOSAL - PRIVILEGED AND C...</td>\n",
       "      <td>./data/4/200845.txt</td>\n",
       "      <td>stephanie.miller@enron.com</td>\n",
       "      <td>FW: SRP SETTLEMENT PROPOSAL - PRIVILEGED AND C...</td>\n",
       "      <td>262</td>\n",
       "    </tr>\n",
       "  </tbody>\n",
       "</table>\n",
       "</div>"
      ],
      "text/plain": [
       "              email_id                   sender  \\\n",
       "0  ./data/1/139495.txt   rod.hayslett@enron.com   \n",
       "1  ./data/1/228996.txt  michelle.cash@enron.com   \n",
       "2  ./data/4/122923.txt   paul.kaufman@enron.com   \n",
       "3  ./data/1/121747.txt    karen.denne@enron.com   \n",
       "4  ./data/1/201878.txt       m..tholt@enron.com   \n",
       "\n",
       "                                             subject    email_id_response  \\\n",
       "0   FW: Confidential - GSS Organization Value to ETS  ./data/1/151121.txt   \n",
       "1                   RE: CONFIDENTIAL Personnel issue  ./data/4/228911.txt   \n",
       "2                                     RE: Eeegads...  ./data/3/122926.txt   \n",
       "3               Re: CONFIDENTIAL - Residential in CA  ./data/3/121748.txt   \n",
       "4  FW: SRP SETTLEMENT PROPOSAL - PRIVILEGED AND C...  ./data/4/200845.txt   \n",
       "\n",
       "              sender_response  \\\n",
       "0    stanley.horton@enron.com   \n",
       "1   lizzette.palmer@enron.com   \n",
       "2     jeff.dasovich@enron.com   \n",
       "3     jeff.dasovich@enron.com   \n",
       "4  stephanie.miller@enron.com   \n",
       "\n",
       "                                    subject_response  response_time_in_secs  \n",
       "0   FW: Confidential - GSS Organization Value to ETS                    148  \n",
       "1                   RE: CONFIDENTIAL Personnel issue                    236  \n",
       "2                                     RE: Eeegads...                    240  \n",
       "3               Re: CONFIDENTIAL - Residential in CA                    240  \n",
       "4  FW: SRP SETTLEMENT PROPOSAL - PRIVILEGED AND C...                    262  "
      ]
     },
     "execution_count": 7,
     "metadata": {},
     "output_type": "execute_result"
    }
   ],
   "source": [
    "responses = enronData.responses.sort_values(by='response_time_in_secs').reset_index()\n",
    "responses = responses[[\n",
    "        'email_id', \n",
    "        'sender',\n",
    "        'subject', \n",
    "        'email_id_response', \n",
    "        'sender_response',\n",
    "        'subject_response', \n",
    "        'response_time_in_secs']]\n",
    "responses.head()"
   ]
  },
  {
   "cell_type": "markdown",
   "metadata": {},
   "source": [
    "### Answer 2\n",
    "\n",
    "Based on the outputs above, we can say that the five emails with the fastest response times in order are:\n",
    "\n",
    "1. data/1/139495.txt sent by rod.hayslett@enron.com\tregarding \"FW: Confidential - GSS Organization Value to ETS\" \n",
    "2. data/1/228996.txt sent by michelle.cash@enron.com regarding \"RE: CONFIDENTIAL Personnel issue\"\n",
    "3. data/4/122923.txt sent by paul.kaufman@enron.com regarding \"RE: Eeegads...\"\n",
    "4. data/1/121747.txt sent by karen.denne@enron.com regarding \"Re: CONFIDENTIAL - Residential in CA\"\n",
    "5. data/1/201878.txt sent by m..tholt@enron.com regarding \"FW: SRP SETTLEMENT PROPOSAL - PRIVILEGED AND C...\""
   ]
  },
  {
   "cell_type": "code",
   "execution_count": null,
   "metadata": {
    "collapsed": true
   },
   "outputs": [],
   "source": []
  }
 ],
 "metadata": {
  "kernelspec": {
   "display_name": "Python 2",
   "language": "python",
   "name": "python2"
  },
  "language_info": {
   "codemirror_mode": {
    "name": "ipython",
    "version": 2
   },
   "file_extension": ".py",
   "mimetype": "text/x-python",
   "name": "python",
   "nbconvert_exporter": "python",
   "pygments_lexer": "ipython2",
   "version": "2.7.11"
  }
 },
 "nbformat": 4,
 "nbformat_minor": 0
}
